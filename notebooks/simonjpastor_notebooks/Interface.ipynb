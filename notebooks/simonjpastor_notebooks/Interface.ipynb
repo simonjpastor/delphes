{
 "cells": [
  {
   "cell_type": "markdown",
   "metadata": {},
   "source": [
    "### Imports"
   ]
  },
  {
   "cell_type": "code",
   "execution_count": 250,
   "metadata": {},
   "outputs": [],
   "source": [
    "import pandas as pd\n",
    "import requests\n",
    "import diffbot\n",
    "import string"
   ]
  },
  {
   "cell_type": "code",
   "execution_count": 285,
   "metadata": {},
   "outputs": [],
   "source": [
    "from tweepy import OAuthHandler\n",
    "from googletrans import Translator\n",
    "from tweepy import API\n",
    "from tweepy import Cursor\n",
    "from datetime import datetime, date, time, timedelta\n",
    "from collections import Counter\n",
    "import sys\n",
    "import re"
   ]
  },
  {
   "cell_type": "code",
   "execution_count": 158,
   "metadata": {},
   "outputs": [],
   "source": [
    "consumer_key=\"4BqJe9MamSVRkRXiPFlcjTxqa\"\n",
    "consumer_secret=\"TgGbjV3fAbrDJOnDQM9iD07d9rjOnkVK2N4nMiqcN3UJI8phwC\"\n",
    "access_token_key=\"871991040256999424-owsFNOcGYr7btQVKpeZDGBeET0347ot\"\n",
    "access_token_secret=\"lx7Vv0SHGICxrcxSR5mXAnOW4w26DhEcQZ1R99d1W2EIB\"\n",
    "\n",
    "auth = OAuthHandler(consumer_key, consumer_secret)\n",
    "auth.set_access_token(access_token_key, access_token_secret)\n",
    "api = API(auth, wait_on_rate_limit=True)"
   ]
  },
  {
   "cell_type": "markdown",
   "metadata": {},
   "source": [
    "### Translation"
   ]
  },
  {
   "cell_type": "code",
   "execution_count": 283,
   "metadata": {},
   "outputs": [],
   "source": [
    "def trans_tweet(tweet):\n",
    "    tra = Translator()\n",
    "    return tra.translate(tweet, dest=\"en\").text"
   ]
  },
  {
   "cell_type": "markdown",
   "metadata": {},
   "source": [
    "### Preprocessing"
   ]
  },
  {
   "cell_type": "code",
   "execution_count": 277,
   "metadata": {},
   "outputs": [],
   "source": [
    "def rmv_par(text):\n",
    "    text = text.replace(\"«\",\"\")\n",
    "    text = text.replace(\"»\",\"\")\n",
    "    text = text.replace('\"',\"\")\n",
    "    text = text.replace(\"'\",\"\")\n",
    "    return text"
   ]
  },
  {
   "cell_type": "code",
   "execution_count": 265,
   "metadata": {},
   "outputs": [],
   "source": [
    "def rmurl(text):\n",
    "    '''\n",
    "    This function removes all the URLs, the #hashtag and the @user of a column made of strings.\n",
    "    Be careful to apply it BEFORE all the other preprocessing steps (if not it wont'\n",
    "    be recognized as a URL)\n",
    "    '''\n",
    "    result = re.sub(r\"http\\S+|www.\\S+|@\\S+|#\\S+\", \"\", text)\n",
    "    #text = text.replace('http\\S+|www.\\S+|@\\S+|#\\S+', '')\n",
    "    return result"
   ]
  },
  {
   "cell_type": "code",
   "execution_count": 266,
   "metadata": {},
   "outputs": [],
   "source": [
    "# Lowercase the tweet's column\n",
    "def lower(text):\n",
    "    '''\n",
    "    This function lowercases a column made of strings.\n",
    "    '''\n",
    "    text = text.lower()\n",
    "    return text"
   ]
  },
  {
   "cell_type": "code",
   "execution_count": 245,
   "metadata": {},
   "outputs": [],
   "source": [
    "# Remove the numbers in the tweet's column\n",
    "def remove_numbers(text):\n",
    "    return ''.join(word for word in text if not word.isdigit())\n",
    "    "
   ]
  },
  {
   "cell_type": "code",
   "execution_count": 251,
   "metadata": {},
   "outputs": [],
   "source": [
    "def replace_punct(text):\n",
    "    punct = string.punctuation\n",
    "    for punctu in punct:\n",
    "        text = text.replace(punctu, ' ')\n",
    "        text = text.replace(' rt ','')\n",
    "        text = \" \".join(text.split())\n",
    "    return text"
   ]
  },
  {
   "cell_type": "code",
   "execution_count": 256,
   "metadata": {},
   "outputs": [],
   "source": [
    "def deEmojify(inputString):\n",
    "    return inputString.encode('ascii', 'ignore').decode('ascii')"
   ]
  },
  {
   "cell_type": "code",
   "execution_count": 333,
   "metadata": {},
   "outputs": [],
   "source": [
    "def delete_paragraph(paragraph):\n",
    "    without_line_breaks = a_string.replace(\"\\n\", \" \")\n",
    "    return without_line_breaks"
   ]
  },
  {
   "cell_type": "code",
   "execution_count": 279,
   "metadata": {},
   "outputs": [],
   "source": [
    "def preprocessing (text):\n",
    "    text = rmv_par(text)\n",
    "    text = rmurl(text)\n",
    "    text = lower(text)\n",
    "    text = remove_numbers(text)\n",
    "    text = replace_punct(text)\n",
    "    text = deEmojify(text)\n",
    "    return text"
   ]
  },
  {
   "cell_type": "markdown",
   "metadata": {},
   "source": [
    "### Functions"
   ]
  },
  {
   "cell_type": "code",
   "execution_count": 286,
   "metadata": {},
   "outputs": [],
   "source": [
    "def text_from_url(url):\n",
    "    url = input(\"Write a Url: \")\n",
    "    new_url = f'https://extractorapi.com/api/v1/extractor/?apikey=f6d8320079329a09fedc7c3c59cc581740f904d3&url={url}'\n",
    "    response = requests.get(new_url)\n",
    "    text = response.json()[\"text\"]\n",
    "    text = trans_tweet(text)\n",
    "    text = preprocessing(text)\n",
    "    return text"
   ]
  },
  {
   "cell_type": "code",
   "execution_count": 338,
   "metadata": {},
   "outputs": [
    {
     "name": "stdout",
     "output_type": "stream",
     "text": [
      "Write a Url: https://www.politico.eu/article/while-brussels-starts-plenary-strasbourg-suffers-from-lack-of-meps/\n"
     ]
    },
    {
     "data": {
      "text/plain": [
       "'peer review looks to counter moscows effort to downplay accusations it was behind russian opposition leaders poisoning the islamic republic is still looking to avenge the death of qassem soleimani officials said the eescs jacek krawczyk hits out at his boss and at olaf the eus anti fraud unit former interior minister will have to lead reform efforts amid internal party divisions the most damaging revelations about this president come not from shadowy bureaucrats but from the people closest to him decision sanctions her lack of actions and her acceptance of the ongoing crimes against the rohingya community in myanmar political calculus that created dangerous conditions at refugee camp will survive the fire us secretary of state said efforts to poison dissidents put black marks on countries and he condemned the poisoning as not how normal countries operate economic ties have caused berlin to tread lightly on human rights brussels faces demands for quick action to help thousands displaced from moria refugee camp  and a continent wide solution to the migration issue decision to stay away due to coronavirus concerns branded incomprehensible monopolies and forced competition are bad for consumers europes digital economy and eu law says telecoms operator the island is not for sale but targeted assistance to the mineral rich territory could help the eu achieve strategic autonomy brothel owners and sex workers have complained about the economic impact of pandemic restrictions belgian king and party leaders who had met with lachaert about efforts to form a government will now be tested maria kolesnikova is one of the few leaders still left in belarus not everyone at the european parliament is missing strasbourg  but strasbourg is missing them the french city should be basking in the political spotlight this week as commission president ursula von der leyen delivers her first state of the european union address from its european parliament chamber but von der leyen will instead make her speech in brussels after the parliament once again canceled its monthly pilgrimage to strasbourg due to worries about the coronavirus the parliament has not held a plenary session in strasbourg since february  its longest ever absence from the picturesque alsatian city that remains its official seat even if most of its work is now done in brussels and strasbourg is feeling the economic pain particularly its taxi drivers restauranteurs and hoteliers the city had hoped to welcome the parliament back this month having put in place a special health plan to minimize coronavirus risks but the parliaments leaders werent convinced many meps are not fans of the monthly upheaval and have voted on multiple occasions to scrap the strasbourg seat its been a rather dark year for strasbourg from an economical standpoint said jeanne barseghian the citys recently elected green mayor canceling the session altogether was an additional hard blow the citys supporters are also worried about the wider message sent by the cancellation  and the prospect of a renewed debate about whether the regular caravan to and from strasbourg can be justified the fact that the cancellation of strasbourg was reported in the media all over the world means for the average person dont come to strasbourg it is dangerous dont come to strasbourg the health situation is precarious and youre taking a big risk said pierre siegel the president of the local association of hotel and restaurant owners we fear a snowball effect he said in a video posted on the website of local daily dernires nouvelles dalsace and we really dont need that many meps are not fans of the monthly upheaval and have voted on multiple occasions to scrap the strasbourg seat the cost of maintaining it is some  million per year according to a report by the european court of auditors which critics argue makes it a prime example of the eu wasting public money but ending strasbourgs role as the parliaments official home would need the consent of all eu member countries  and the french government has made clear it would block any such move clment beaune frances european affairs minister traveled to the city on monday to declare his governments unwavering attachment to strasbourg as seat of the european parliament and european capital french officials argue that the history of strasbourg which has had periods under both french and german rule make it a treasured symbol of european peace and reconciliation they contend it is also important for eu institutions to be dispersed around the bloc to avoid over centralization and ensure the economic benefits of such bodies are shared widely in a normal month up to meps more than parliamentary workers and countless lobbyists journalists and others make the switch to strasbourg for a plenary session after a day of lawmaking and meetings many of those temporary visitors hop into a chauffeur driven car or taxi to talk business over a choucroute and glass of pinot noir at one of the citys countless winstubs one local taxi company taxi which employs more than drivers says it has lost at least percent of its revenue due to the coronavirus crisis  and part of that is down to the lack of parliamentary clients our taxi drivers cant make their numbers anymore some have left others cant pay for costs there is much less work than before said company boss hakim kerkoub if that lasts it will end up killing us christophe andt the founder of au pont corbeau one of the citys landmark restaurants said the virus and the cancelation of the monthly parliament sessions had had a very big impact on the business the restaurant with its signature dish of jamboneau grill grilled knuckle of ham is a favorite with meps and advisers seventy to percent of our customers are regulars and a big chunk of them are meps said andt whose business has been going for more than years now we are scared that strasbourg will just be wiped out of the map if we as the eu are breaking the good rules human rights rule of law why should we stick to the stupid ones three seats  nico semsrott green mep the hotel cathdrale which reopened in june after months of closure due to the coronavirus crisis will shut its doors again this week due to lack of reservations a receptionist said the hotel which overlooks the citys stunning gothic cathedral is generally full during plenary sessions european parliament president david sassoli sought on monday to reassure the people of strasbourg that the legislature had not abandoned them on behalf of all our members i extend a warm greeting to the mayor and people of strasbourg where we hope to return soon he said in a statement but that warmth was not immediately apparent in the words of all meps particularly those critical of the parliaments homes in three different cities it has offices in luxembourg as well as brussels and strasbourg if we as the eu are breaking the good rules human rights rule of law why should we stick to the stupid ones three seats joked nico semsrott a german satirist who is a member of the greens group in the parliament'"
      ]
     },
     "execution_count": 338,
     "metadata": {},
     "output_type": "execute_result"
    }
   ],
   "source": [
    "text_from_url(\"https://www.politico.eu/article/while-brussels-starts-plenary-strasbourg-suffers-from-lack-of-meps/\")"
   ]
  },
  {
   "cell_type": "code",
   "execution_count": 336,
   "metadata": {},
   "outputs": [],
   "source": [
    "def text_from_tweets(username):\n",
    "    all_tweets = []\n",
    "    content = []\n",
    "    content_list = []\n",
    "    for tweet in Cursor(api.user_timeline,id=username,tweet_mode='extended').items(100):\n",
    "        if \"retweeted_status\" in dir(tweet):\n",
    "            tweet=tweet.retweeted_status.full_text\n",
    "            content_list.append(tweet)\n",
    "        else:\n",
    "            tweet=tweet.full_text\n",
    "            content_list.append(tweet)\n",
    "            content.append(len(content_list))\n",
    "    all_tweets.append(content_list)\n",
    "    new_tweets = []\n",
    "    for i in all_tweets[0]: \n",
    "        text = trans_tweet(i)\n",
    "        text = preprocessing(i)\n",
    "        new_tweets.append(text)\n",
    "    return new_tweets"
   ]
  },
  {
   "cell_type": "code",
   "execution_count": 337,
   "metadata": {},
   "outputs": [
    {
     "data": {
      "text/plain": [
       "['louvres paris',\n",
       " '',\n",
       " 'theres nothing like le tour de france ',\n",
       " 'huge twitter project coming up in two weeks stay tuned youll love it ',\n",
       " 'coolest civic gov techs you know',\n",
       " 'months ago i wrote about how covid could affect social interactions which i argued could result in a community come back increased loneliness and a questioning of ones social circles what do you think or is it still too early to tell',\n",
       " 'is my new favorite cooking website  it almost encourages me to start cooking ',\n",
       " 'a wordcloud of obamas speech at the ',\n",
       " 'saw this on linkedin today have to admit i was touched',\n",
       " 'does anyone work for or knows about interesting political data companies',\n",
       " 'bravo  l pour son parcours hroque et au pour sa qualification en finale de la ligue des champions dimanche ans aprs l la mythique coupe peut retrouver le sol franais toutes et tous derrire le ltoile est au bout de lexploit',\n",
       " 'nous sommes fiers de vous  ',\n",
       " 'champions league final ',\n",
       " 'today marks the second anniversary of the passing of former un secretary general kofi annan a tireless advocate for human rights development and fight against poverty amp discrimination his legacy keeps on inspiring us every day ',\n",
       " 'one lesson from the exam grades disaster is not that algorithms are bad but we need social scientists closely involved in designing algorithms in public policy any good social scientist could have told ofqual the likely problems within mins of seeing the initial output',\n",
       " 'working on a very cool project using unsupervised machine learning to recognise famous politicians not a accuracy but results are pretty cool ',\n",
       " 'right now america faces the worst pandemic in years the worst economic crisis since the great depression the most powerful calls for racial justice in a generation i need someone alongside me whos smart tough and ready to lead is that person',\n",
       " 'ze france',\n",
       " 'working on a project on brazil  looking good ',\n",
       " 'just finished my th of the year  a bit late on my books objective but im still up for the challenge if you want to see what im reading',\n",
       " 'working with who you want to work with on what you want to work on is actually just play',\n",
       " 'latest piece in our series make you sure you have a look at the great work by',\n",
       " '',\n",
       " 'happy to have contributed to the orpheus blog again in this piece we look at the the recent allegedly conducted by cybercriminals who netted nearly k what were the wider geopolitical ramifications of the what does it mean for nation state actors',\n",
       " 'the rosetta stone  the key to deciphering ancient egyptian hieroglyphs  was discovered in find out more about the discovery of the stone how it came to the museum and why its so important in this blog post',\n",
       " 'years ago today ',\n",
       " 'very emotional and powerful ceremony as doctors nurses and other frontline workers join the troops for the bastille day parade',\n",
       " 'my favorite read this week  france as revealed by its elite ',\n",
       " 'the larger the group the worse the conversation',\n",
       " 'congrats america  you just invented europe',\n",
       " 'they may have been few in number but they offer sufficient proof that everything can be taken from a man but one thing the last of the human freedoms  to choose ones attitude in any given set of circumstances to choose ones way mans search for meaning viktor frankl',\n",
       " 'we who lived in concentration camps can remember men who walked through the huts comforting others giving away their last piece of bread',\n",
       " 'the european',\n",
       " 'i and i alone am responsible for everything i think and feel',\n",
       " 'social distancing in parisian cafs today',\n",
       " 'if only donating blood didnt involve needles ',\n",
       " 'best  political data companies you know all input welcome the ones i find the most fascinating are and',\n",
       " 'just finished the power of now a guide to spiritual enlightenment by dont know if im completely lost or if ive become an enlightened being  more seriously i recommend it',\n",
       " 'hm the queen called president macron at the end of the visit he paid to london to celebrate gen de gaulles appel in and he had the opportunity to express the deep gratitude of france to her majesty',\n",
       " 'analyzing premier league spending hey everyone this article is my first time writing about football in which i use python to look at trends in pl clubs spending strategies and make predictions for future transfer spending',\n",
       " 'we are going to rediscover part of our art of living our taste for freedom in short we are going to fully rediscover frenchness',\n",
       " '',\n",
       " 'the week was dominated by pieces on black lives matter racial inequality police brutality i realized i was too ignorant to contribute so i took the time to read listen and educate myself heres the best resources i came across',\n",
       " 'anyone looking for summer or fall interns or know of available i know a lot of great candidates who are actively looking after their internship was cancelled because of the virus lets do what we can to help all input welcome ',\n",
       " 'nope thats not how the logic works',\n",
       " 'fascinating research by the economist which finds that in the past years epidemics have been less deadly in democracies',\n",
       " 'in these surreal times i lean on the words and wisdom of madiba',\n",
       " 'three months ago while in india i was invited by an ngo to visit a brothel in navi mumbais red light district as part of a project a colleague and i were working on for heres what i learned',\n",
       " 'sadly relevant',\n",
       " 'two months ago a colleague and i were given the opportunity to visit an ngo helping sex workers in navi mumbais red light district heres what i learned during my visit  hope you enjoy simonsays',\n",
       " 'check it out',\n",
       " 'reached views for my latest issue of simonsays thanks for the support  feeling extremely grateful ',\n",
       " 'only read a third of garcia marquezs a hundred years of solitude and ive never been so confused check out this family tree ',\n",
       " 'all of humanitys problems stem from mans inability to sit quietly in a room alone  so what happens when two thirds of the world are kept in their apartment for weeks months and how will that impact post corona social interactions ',\n",
       " 'theres only one paname hemingway',\n",
       " 'back in paris after months hemingway expresses best what it feels like after all though it wasnt bad to get back to paris there is only one paname the sun also rises',\n",
       " 'either we agree on how to measure it or it becomes politics',\n",
       " 'i hope we can rely on the bbc trust regarding todays information about mr will lewiss past as ruling him out of being further considered as the next director general of the bbc if indeed it is true that he was being so considered',\n",
       " 'check out his powerful article about his struggle with depression',\n",
       " 'i didnt feel too concerned about mental health until i learned my brother was badly depressed its not something i like to talk about but its something we must talk about',\n",
       " 'these past months have been very tough for some people loss of relatives sickness loneliness unemployment depression and sadly the list goes on so dont forget to check on your loved ones and those you love less ',\n",
       " 'to khat or not to khat  this week we talk about khats influence in east africa and how a coronavirus induced ban in somalia could impact the industry',\n",
       " 'meditation the art of doing nothing',\n",
       " 'the unbearable lightness of being kundera the picture of dorian gray oscar wilde martin eden jack london the stranger albert camus fatelessness imre kertesz all of them are ',\n",
       " 'a month ago i started my newsletter simonsays issues and k reads later im still as excited as when i started  check it out',\n",
       " 'cities are still the most economically dynamic places but they are also a microcosm of the extreme inequality that shapes much of american life cities hubs of opportunity have internal inequalities that often increase inequities rather than curb them',\n",
       " 'though the coronavirus crisis is unquestionably tragic as far as startup creation goes its pretty valuable director didnt think the first person id interview would be my brother but the global pandemic decided otherwise ',\n",
       " 'interviewing someone working in the european startup ecosystem tomorrow what should i ask him field amp non field specific suggestions welcomed',\n",
       " 'no relationship is perfect but at the end of the day were all family  happy europe day everybody ',\n",
       " 'during lockdown rock stars around the world are taking up gardening with mixed results',\n",
       " 'beautiful thank you banksy',\n",
       " 'que vous aimiez macron ou non aucun prsident na jamais autant boss que lui',\n",
       " 'this week we talk about  wine diplomacy the wine competition that changed the industry amp much more ',\n",
       " 'how will these months of quarantine affect our relationships and social interactions in the future any idea s welcomed ',\n",
       " 'sharing the link for those interested ',\n",
       " 'haha thanks robbie using personal anecdotes to make a point ',\n",
       " 'woke up with twilight and harry potter trending i think the coronavirus set us back to',\n",
       " 'what we do in life echoes in eternity such a great movie',\n",
       " 'have a read and learn about the mathematician who saved american pilots and how he could help you make better decisions the story behind the creation of ben amp jerrys what coronavirus means for multilateralism',\n",
       " 'coronavirus quels enseignements pour le changement climatique',\n",
       " 'happy to share with you simonsays ',\n",
       " 'something i heard this week worth thinking about ive found the monotony quite distressing as if up until now ive only felt like i was living a life because i managed to create constant change',\n",
       " 'r i p tony allen  we lost one of the greats but his legacy lives on with the new afrobeat legends amp waiving its share of revenue today amp passing it through to the artists support them',\n",
       " 'what do you think of when i say wine amp politics any idea lead appreciated ',\n",
       " 'anyone speaks latin  would appreciate help with a very quick question',\n",
       " 'fantastic article by my friend when the news is so bleak and the future so uncertain it is important to look at the past to have a fresh take on the present definitely one of the best reads this week',\n",
       " 'as trump experiences the biggest crisis of his mandate and of our world since wwii caligulas rule offers insights about how obstinacy and defiance can lead to ones downfall read my analysis in the latest issue of simonsays ',\n",
       " 'no countrys response to has been perfect but france can be proud that it has stood by its citizens its frontline workers its companies its hospitals and its institutions as todays parliamentary debate on proved',\n",
       " 'la modernit les a souvent fait passer du caf du commerce  certains plateaux tv les courbes daudience y gagnent ce que la convivialit des bistrots y perd mais cela ne grandit pas je le crains le dbat public',\n",
       " 'wise words from french pm on the know it alls constantly telling us that they told us so jai t frapp par le nombre de commentateurs ayant une vision parfaitement claire de ce quil aurait fallu faire  chaque instant',\n",
       " 'just finished my th book of the year back on track for my books challenge',\n",
       " 'happy to share with you the second issue of my newsletter  thoughts and feedback greatly appreciated',\n",
       " 'if you havent check out the first issue of my newsletter simonsays simonsays released sunday',\n",
       " 'what was trumps most shocking decision comment tweet in the past few years',\n",
       " 'in regions such as the middle east and north africa and sub saharan africa the adverse impacts could result in poverty levels similar to those recorded years ago in according to a un university study by amp source',\n",
       " 'a contraction in per capita incomes would result in million new people living below us day poverty line million for the us day standard million for the higher line of us day this would reverse a decade of progress in reducing poverty',\n",
       " 'something to rejoice about bees are back ',\n",
       " 'would you be willing to pay to have access to curated twitter lists or accounts',\n",
       " 'happy to share with you the first issue of my newsletter simonsays  thoughts and feedback greatly appreciated',\n",
       " 'women continue to be underrepresented in senior roles in women held of entry level jobs yet only of c suite positions much fewer than men are given the chance to advance from entry level to manager men outnumber women to']"
      ]
     },
     "execution_count": 337,
     "metadata": {},
     "output_type": "execute_result"
    }
   ],
   "source": [
    "text_from_tweets(\"the_simonpastor\")"
   ]
  },
  {
   "cell_type": "code",
   "execution_count": 335,
   "metadata": {},
   "outputs": [],
   "source": [
    "def simple_text(text):\n",
    "    text = input(\"Write something: \")\n",
    "    text = delete_paragraph(text)\n",
    "    text = trans_tweet(text)\n",
    "    text = preprocessing(text)\n",
    "    return text"
   ]
  },
  {
   "cell_type": "markdown",
   "metadata": {},
   "source": [
    "Supported News Sites for URL Extractor:\n",
    "French: Le Monde, Le Figaro, Libération, Ouest France, L'Opinion, Les Echos, Le Parisien, Marianne, Valeurs Actuelles\n",
    "European : Politico.eu\n",
    "British : The Guardian, The Daily Mail, The Telegraph, The Independent, Daily Mirror, The Sun, The Times, Evening Standard\n",
    "Beligan : Het Nieuwsblad, Le Soir\n",
    "Spanish : El Mundo, La Vanguardia\n",
    "Portuguese : Jornal de Noticias, Jornal Economico\n",
    "Italian : La Repubblica, Corriere Della Sera, La Stampa\n",
    "Dutch : De Telegraaf, Die Presse\n",
    "German : Bild, Die Welt, Süddeutsche Zeitung,Frankfurter Allgemeine Zeitung\n",
    "Austrian : Der Standard, \n",
    "Czech : Mladá fronta DNES, Blesk\n",
    "Polish : Gazeta Wyborcza, \n",
    "Swedish : Expressen, Svenska Dagbladet\n",
    "Slovakian : SME, \n",
    "Bosnia : Dnevni avaz, \n",
    "Malta : The Times of Malta\n",
    "Swiss : Blick\n",
    "Norwegian : Aftenposten\n",
    "Russian : Komsomolskaya Pravda, Rossiyskaya Gazeta, Moskovskij Komsomolets, Izvetsia, Russia Today, Sputnik News\n",
    "China : China Daily\n",
    "American : Five Thirty-Eight, CNN, Fox News, Breitbart, NBC News, CBS News, Politico, Vice, Wired, The Washington Post, The Los Angeles Times\n",
    "Global : Al-Jazeera, BBC, Reuters, TechCrunch\n",
    "Unsupported: New York Times, Financial Times, El Pais, Die Zelt, Kommersant, Verdens Gang, Neue Zürcher Zeitung, Dagen Nyheter, Volkstkrant, Der Spiegel, Huffington Post, NPR, ABC, Slate, Wall Street Journal, "
   ]
  }
 ],
 "metadata": {
  "kernelspec": {
   "display_name": "Python 3",
   "language": "python",
   "name": "python3"
  },
  "language_info": {
   "codemirror_mode": {
    "name": "ipython",
    "version": 3
   },
   "file_extension": ".py",
   "mimetype": "text/x-python",
   "name": "python",
   "nbconvert_exporter": "python",
   "pygments_lexer": "ipython3",
   "version": "3.7.7"
  },
  "toc": {
   "base_numbering": 1,
   "nav_menu": {},
   "number_sections": true,
   "sideBar": true,
   "skip_h1_title": false,
   "title_cell": "Table of Contents",
   "title_sidebar": "Contents",
   "toc_cell": false,
   "toc_position": {},
   "toc_section_display": true,
   "toc_window_display": false
  }
 },
 "nbformat": 4,
 "nbformat_minor": 4
}
