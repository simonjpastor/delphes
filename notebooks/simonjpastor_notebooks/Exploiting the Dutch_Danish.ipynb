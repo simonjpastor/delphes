{
 "cells": [
  {
   "cell_type": "markdown",
   "metadata": {},
   "source": [
    "## Imports"
   ]
  },
  {
   "cell_type": "markdown",
   "metadata": {},
   "source": [
    "### Imports & Stuff"
   ]
  },
  {
   "cell_type": "code",
   "execution_count": 1,
   "metadata": {},
   "outputs": [],
   "source": [
    "import pandas as pd\n",
    "## pandas 1.1.1 necessary\n",
    "import numpy as np\n",
    "import string \n",
    "import re\n",
    "from sklearn.feature_extraction.text import TfidfVectorizer\n",
    "import math\n",
    "from gensim.models import Word2Vec\n",
    "from plotly.graph_objects import Scatter3d"
   ]
  },
  {
   "cell_type": "code",
   "execution_count": 35,
   "metadata": {
    "scrolled": true
   },
   "outputs": [],
   "source": [
    "#Getting the merger data\n",
    "merger = pd.read_pickle(\"../../raw_data/merger\")"
   ]
  },
  {
   "cell_type": "code",
   "execution_count": 36,
   "metadata": {},
   "outputs": [],
   "source": [
    "#Getting all the data\n",
    "data = pd.read_pickle(\"../../delphes/data/update_age_sex\")\n",
    "data = data.reset_index()"
   ]
  },
  {
   "cell_type": "markdown",
   "metadata": {},
   "source": [
    "## Cleaning"
   ]
  },
  {
   "cell_type": "code",
   "execution_count": 37,
   "metadata": {},
   "outputs": [],
   "source": [
    "#reducing the dataset\n",
    "extract = merger[[\"index\",\"content_y\"]]"
   ]
  },
  {
   "cell_type": "markdown",
   "metadata": {},
   "source": [
    "### Dropping the None"
   ]
  },
  {
   "cell_type": "code",
   "execution_count": 122,
   "metadata": {},
   "outputs": [],
   "source": [
    "#identifying the None\n",
    "count = 0\n",
    "dropables = []\n",
    "for i in extract[\"content_y\"]:\n",
    "    if i == None:\n",
    "        dropables.append(count)\n",
    "        count+= 1\n",
    "    else:\n",
    "        count+=1"
   ]
  },
  {
   "cell_type": "code",
   "execution_count": 39,
   "metadata": {},
   "outputs": [],
   "source": [
    "#removing the Nones\n",
    "extract = extract.drop(labels=dropables)"
   ]
  },
  {
   "cell_type": "code",
   "execution_count": 43,
   "metadata": {},
   "outputs": [],
   "source": [
    "extract = extract.reset_index()"
   ]
  },
  {
   "cell_type": "markdown",
   "metadata": {},
   "source": [
    "### Creating a Dictionary with Averaged Arrays"
   ]
  },
  {
   "cell_type": "code",
   "execution_count": 44,
   "metadata": {
    "scrolled": false
   },
   "outputs": [
    {
     "ename": "KeyError",
     "evalue": "11183",
     "output_type": "error",
     "traceback": [
      "\u001b[0;31m---------------------------------------------------------------------------\u001b[0m",
      "\u001b[0;31mValueError\u001b[0m                                Traceback (most recent call last)",
      "\u001b[0;32m~/.pyenv/versions/3.7.7/envs/lewagon/lib/python3.7/site-packages/pandas/core/indexes/range.py\u001b[0m in \u001b[0;36mget_loc\u001b[0;34m(self, key, method, tolerance)\u001b[0m\n\u001b[1;32m    345\u001b[0m                 \u001b[0;32mtry\u001b[0m\u001b[0;34m:\u001b[0m\u001b[0;34m\u001b[0m\u001b[0;34m\u001b[0m\u001b[0m\n\u001b[0;32m--> 346\u001b[0;31m                     \u001b[0;32mreturn\u001b[0m \u001b[0mself\u001b[0m\u001b[0;34m.\u001b[0m\u001b[0m_range\u001b[0m\u001b[0;34m.\u001b[0m\u001b[0mindex\u001b[0m\u001b[0;34m(\u001b[0m\u001b[0mnew_key\u001b[0m\u001b[0;34m)\u001b[0m\u001b[0;34m\u001b[0m\u001b[0;34m\u001b[0m\u001b[0m\n\u001b[0m\u001b[1;32m    347\u001b[0m                 \u001b[0;32mexcept\u001b[0m \u001b[0mValueError\u001b[0m \u001b[0;32mas\u001b[0m \u001b[0merr\u001b[0m\u001b[0;34m:\u001b[0m\u001b[0;34m\u001b[0m\u001b[0;34m\u001b[0m\u001b[0m\n",
      "\u001b[0;31mValueError\u001b[0m: 11183 is not in range",
      "\nThe above exception was the direct cause of the following exception:\n",
      "\u001b[0;31mKeyError\u001b[0m                                  Traceback (most recent call last)",
      "\u001b[0;32m<ipython-input-44-cc6bb7ca40a4>\u001b[0m in \u001b[0;36m<module>\u001b[0;34m\u001b[0m\n\u001b[1;32m      6\u001b[0m     \u001b[0mresult\u001b[0m \u001b[0;34m=\u001b[0m \u001b[0;36m0\u001b[0m\u001b[0;34m\u001b[0m\u001b[0;34m\u001b[0m\u001b[0m\n\u001b[1;32m      7\u001b[0m     \u001b[0mprov_results\u001b[0m \u001b[0;34m=\u001b[0m \u001b[0;34m[\u001b[0m\u001b[0;34m]\u001b[0m\u001b[0;34m\u001b[0m\u001b[0;34m\u001b[0m\u001b[0m\n\u001b[0;32m----> 8\u001b[0;31m     \u001b[0;32mif\u001b[0m \u001b[0mlen\u001b[0m\u001b[0;34m(\u001b[0m\u001b[0mextract\u001b[0m\u001b[0;34m[\u001b[0m\u001b[0;34m\"content_y\"\u001b[0m\u001b[0;34m]\u001b[0m\u001b[0;34m[\u001b[0m\u001b[0mi\u001b[0m\u001b[0;34m]\u001b[0m\u001b[0;34m)\u001b[0m \u001b[0;34m>\u001b[0m \u001b[0;36m1\u001b[0m\u001b[0;34m:\u001b[0m\u001b[0;34m\u001b[0m\u001b[0;34m\u001b[0m\u001b[0m\n\u001b[0m\u001b[1;32m      9\u001b[0m         \u001b[0;32mfor\u001b[0m \u001b[0mj\u001b[0m \u001b[0;32min\u001b[0m \u001b[0mrange\u001b[0m \u001b[0;34m(\u001b[0m\u001b[0;36m0\u001b[0m\u001b[0;34m,\u001b[0m\u001b[0mlen\u001b[0m\u001b[0;34m(\u001b[0m\u001b[0mextract\u001b[0m\u001b[0;34m[\u001b[0m\u001b[0;34m\"content_y\"\u001b[0m\u001b[0;34m]\u001b[0m\u001b[0;34m[\u001b[0m\u001b[0mi\u001b[0m\u001b[0;34m]\u001b[0m\u001b[0;34m)\u001b[0m\u001b[0;34m)\u001b[0m\u001b[0;34m:\u001b[0m\u001b[0;34m\u001b[0m\u001b[0;34m\u001b[0m\u001b[0m\n\u001b[1;32m     10\u001b[0m             \u001b[0;32mif\u001b[0m \u001b[0mextract\u001b[0m\u001b[0;34m[\u001b[0m\u001b[0;34m\"content_y\"\u001b[0m\u001b[0;34m]\u001b[0m\u001b[0;34m[\u001b[0m\u001b[0mi\u001b[0m\u001b[0;34m]\u001b[0m \u001b[0;34m!=\u001b[0m \u001b[0;32mFalse\u001b[0m\u001b[0;34m:\u001b[0m\u001b[0;34m\u001b[0m\u001b[0;34m\u001b[0m\u001b[0m\n",
      "\u001b[0;32m~/.pyenv/versions/3.7.7/envs/lewagon/lib/python3.7/site-packages/pandas/core/series.py\u001b[0m in \u001b[0;36m__getitem__\u001b[0;34m(self, key)\u001b[0m\n\u001b[1;32m    880\u001b[0m \u001b[0;34m\u001b[0m\u001b[0m\n\u001b[1;32m    881\u001b[0m         \u001b[0;32melif\u001b[0m \u001b[0mkey_is_scalar\u001b[0m\u001b[0;34m:\u001b[0m\u001b[0;34m\u001b[0m\u001b[0;34m\u001b[0m\u001b[0m\n\u001b[0;32m--> 882\u001b[0;31m             \u001b[0;32mreturn\u001b[0m \u001b[0mself\u001b[0m\u001b[0;34m.\u001b[0m\u001b[0m_get_value\u001b[0m\u001b[0;34m(\u001b[0m\u001b[0mkey\u001b[0m\u001b[0;34m)\u001b[0m\u001b[0;34m\u001b[0m\u001b[0;34m\u001b[0m\u001b[0m\n\u001b[0m\u001b[1;32m    883\u001b[0m \u001b[0;34m\u001b[0m\u001b[0m\n\u001b[1;32m    884\u001b[0m         if (\n",
      "\u001b[0;32m~/.pyenv/versions/3.7.7/envs/lewagon/lib/python3.7/site-packages/pandas/core/series.py\u001b[0m in \u001b[0;36m_get_value\u001b[0;34m(self, label, takeable)\u001b[0m\n\u001b[1;32m    989\u001b[0m \u001b[0;34m\u001b[0m\u001b[0m\n\u001b[1;32m    990\u001b[0m         \u001b[0;31m# Similar to Index.get_value, but we do not fall back to positional\u001b[0m\u001b[0;34m\u001b[0m\u001b[0;34m\u001b[0m\u001b[0;34m\u001b[0m\u001b[0m\n\u001b[0;32m--> 991\u001b[0;31m         \u001b[0mloc\u001b[0m \u001b[0;34m=\u001b[0m \u001b[0mself\u001b[0m\u001b[0;34m.\u001b[0m\u001b[0mindex\u001b[0m\u001b[0;34m.\u001b[0m\u001b[0mget_loc\u001b[0m\u001b[0;34m(\u001b[0m\u001b[0mlabel\u001b[0m\u001b[0;34m)\u001b[0m\u001b[0;34m\u001b[0m\u001b[0;34m\u001b[0m\u001b[0m\n\u001b[0m\u001b[1;32m    992\u001b[0m         \u001b[0;32mreturn\u001b[0m \u001b[0mself\u001b[0m\u001b[0;34m.\u001b[0m\u001b[0mindex\u001b[0m\u001b[0;34m.\u001b[0m\u001b[0m_get_values_for_loc\u001b[0m\u001b[0;34m(\u001b[0m\u001b[0mself\u001b[0m\u001b[0;34m,\u001b[0m \u001b[0mloc\u001b[0m\u001b[0;34m,\u001b[0m \u001b[0mlabel\u001b[0m\u001b[0;34m)\u001b[0m\u001b[0;34m\u001b[0m\u001b[0;34m\u001b[0m\u001b[0m\n\u001b[1;32m    993\u001b[0m \u001b[0;34m\u001b[0m\u001b[0m\n",
      "\u001b[0;32m~/.pyenv/versions/3.7.7/envs/lewagon/lib/python3.7/site-packages/pandas/core/indexes/range.py\u001b[0m in \u001b[0;36mget_loc\u001b[0;34m(self, key, method, tolerance)\u001b[0m\n\u001b[1;32m    346\u001b[0m                     \u001b[0;32mreturn\u001b[0m \u001b[0mself\u001b[0m\u001b[0;34m.\u001b[0m\u001b[0m_range\u001b[0m\u001b[0;34m.\u001b[0m\u001b[0mindex\u001b[0m\u001b[0;34m(\u001b[0m\u001b[0mnew_key\u001b[0m\u001b[0;34m)\u001b[0m\u001b[0;34m\u001b[0m\u001b[0;34m\u001b[0m\u001b[0m\n\u001b[1;32m    347\u001b[0m                 \u001b[0;32mexcept\u001b[0m \u001b[0mValueError\u001b[0m \u001b[0;32mas\u001b[0m \u001b[0merr\u001b[0m\u001b[0;34m:\u001b[0m\u001b[0;34m\u001b[0m\u001b[0;34m\u001b[0m\u001b[0m\n\u001b[0;32m--> 348\u001b[0;31m                     \u001b[0;32mraise\u001b[0m \u001b[0mKeyError\u001b[0m\u001b[0;34m(\u001b[0m\u001b[0mkey\u001b[0m\u001b[0;34m)\u001b[0m \u001b[0;32mfrom\u001b[0m \u001b[0merr\u001b[0m\u001b[0;34m\u001b[0m\u001b[0;34m\u001b[0m\u001b[0m\n\u001b[0m\u001b[1;32m    349\u001b[0m             \u001b[0;32mraise\u001b[0m \u001b[0mKeyError\u001b[0m\u001b[0;34m(\u001b[0m\u001b[0mkey\u001b[0m\u001b[0;34m)\u001b[0m\u001b[0;34m\u001b[0m\u001b[0;34m\u001b[0m\u001b[0m\n\u001b[1;32m    350\u001b[0m         \u001b[0;32mreturn\u001b[0m \u001b[0msuper\u001b[0m\u001b[0;34m(\u001b[0m\u001b[0;34m)\u001b[0m\u001b[0;34m.\u001b[0m\u001b[0mget_loc\u001b[0m\u001b[0;34m(\u001b[0m\u001b[0mkey\u001b[0m\u001b[0;34m,\u001b[0m \u001b[0mmethod\u001b[0m\u001b[0;34m=\u001b[0m\u001b[0mmethod\u001b[0m\u001b[0;34m,\u001b[0m \u001b[0mtolerance\u001b[0m\u001b[0;34m=\u001b[0m\u001b[0mtolerance\u001b[0m\u001b[0;34m)\u001b[0m\u001b[0;34m\u001b[0m\u001b[0;34m\u001b[0m\u001b[0m\n",
      "\u001b[0;31mKeyError\u001b[0m: 11183"
     ]
    }
   ],
   "source": [
    "#Creating a dict_tweets with Index and Averaged Array\n",
    "tweets = []\n",
    "check = []\n",
    "dict_tweets = {}\n",
    "for i in extract[\"level_0\"]:\n",
    "    result = 0\n",
    "    prov_results = []\n",
    "    if len(extract[\"content_y\"][i]) > 1: \n",
    "        for j in range (0,len(extract[\"content_y\"][i])): \n",
    "            if extract[\"content_y\"][i] != False: \n",
    "                prov_results.append(extract[\"content_y\"][i][j])\n",
    "            else:\n",
    "                pass\n",
    "        dict_tweets[extract[\"index\"][i]] = (sum(prov_results)/len(extract[\"content_y\"][i]))\n",
    "        check.append(i)\n",
    "    else: \n",
    "        pass\n",
    "        check.append(i)"
   ]
  },
  {
   "cell_type": "markdown",
   "metadata": {},
   "source": [
    "### Deleting Floats and Other Falses"
   ]
  },
  {
   "cell_type": "code",
   "execution_count": 46,
   "metadata": {},
   "outputs": [],
   "source": [
    "### Removing the Falses within the Sentences\n",
    "floats = []\n",
    "for i,j in dict_tweets.items(): \n",
    "    if type(j) != np.ndarray:\n",
    "        floats.append(i)"
   ]
  },
  {
   "cell_type": "code",
   "execution_count": 47,
   "metadata": {},
   "outputs": [],
   "source": [
    "for i in floats:\n",
    "    del dict_tweets[i]"
   ]
  },
  {
   "cell_type": "markdown",
   "metadata": {},
   "source": [
    "### Creating DF"
   ]
  },
  {
   "cell_type": "code",
   "execution_count": 48,
   "metadata": {},
   "outputs": [],
   "source": [
    "d_i_tweets = pd.DataFrame(dict_tweets).transpose()"
   ]
  },
  {
   "cell_type": "code",
   "execution_count": 49,
   "metadata": {},
   "outputs": [],
   "source": [
    "d_i_tweets = d_i_tweets.reset_index()"
   ]
  },
  {
   "cell_type": "code",
   "execution_count": 51,
   "metadata": {},
   "outputs": [
    {
     "data": {
      "text/html": [
       "<div>\n",
       "<style scoped>\n",
       "    .dataframe tbody tr th:only-of-type {\n",
       "        vertical-align: middle;\n",
       "    }\n",
       "\n",
       "    .dataframe tbody tr th {\n",
       "        vertical-align: top;\n",
       "    }\n",
       "\n",
       "    .dataframe thead th {\n",
       "        text-align: right;\n",
       "    }\n",
       "</style>\n",
       "<table border=\"1\" class=\"dataframe\">\n",
       "  <thead>\n",
       "    <tr style=\"text-align: right;\">\n",
       "      <th></th>\n",
       "      <th>index</th>\n",
       "      <th>0</th>\n",
       "      <th>1</th>\n",
       "      <th>2</th>\n",
       "      <th>3</th>\n",
       "      <th>4</th>\n",
       "      <th>5</th>\n",
       "      <th>6</th>\n",
       "      <th>7</th>\n",
       "      <th>8</th>\n",
       "      <th>...</th>\n",
       "      <th>290</th>\n",
       "      <th>291</th>\n",
       "      <th>292</th>\n",
       "      <th>293</th>\n",
       "      <th>294</th>\n",
       "      <th>295</th>\n",
       "      <th>296</th>\n",
       "      <th>297</th>\n",
       "      <th>298</th>\n",
       "      <th>299</th>\n",
       "    </tr>\n",
       "  </thead>\n",
       "  <tbody>\n",
       "    <tr>\n",
       "      <th>0</th>\n",
       "      <td>5076</td>\n",
       "      <td>-0.016846</td>\n",
       "      <td>-0.011860</td>\n",
       "      <td>-0.042851</td>\n",
       "      <td>0.044163</td>\n",
       "      <td>-0.027453</td>\n",
       "      <td>0.022471</td>\n",
       "      <td>0.000556</td>\n",
       "      <td>-0.036933</td>\n",
       "      <td>-0.001978</td>\n",
       "      <td>...</td>\n",
       "      <td>0.010223</td>\n",
       "      <td>-0.011244</td>\n",
       "      <td>0.009240</td>\n",
       "      <td>0.028963</td>\n",
       "      <td>-0.008443</td>\n",
       "      <td>-0.042849</td>\n",
       "      <td>-0.014880</td>\n",
       "      <td>0.041051</td>\n",
       "      <td>0.023303</td>\n",
       "      <td>-0.012236</td>\n",
       "    </tr>\n",
       "    <tr>\n",
       "      <th>1</th>\n",
       "      <td>5079</td>\n",
       "      <td>-0.025288</td>\n",
       "      <td>-0.020077</td>\n",
       "      <td>-0.029960</td>\n",
       "      <td>0.033417</td>\n",
       "      <td>-0.022732</td>\n",
       "      <td>0.031891</td>\n",
       "      <td>0.014065</td>\n",
       "      <td>-0.054808</td>\n",
       "      <td>0.008609</td>\n",
       "      <td>...</td>\n",
       "      <td>0.014924</td>\n",
       "      <td>-0.009034</td>\n",
       "      <td>0.017069</td>\n",
       "      <td>0.036944</td>\n",
       "      <td>0.000622</td>\n",
       "      <td>-0.024272</td>\n",
       "      <td>-0.017961</td>\n",
       "      <td>0.043717</td>\n",
       "      <td>0.026246</td>\n",
       "      <td>-0.006339</td>\n",
       "    </tr>\n",
       "    <tr>\n",
       "      <th>2</th>\n",
       "      <td>5080</td>\n",
       "      <td>-0.026789</td>\n",
       "      <td>0.006986</td>\n",
       "      <td>-0.025454</td>\n",
       "      <td>0.034253</td>\n",
       "      <td>-0.019140</td>\n",
       "      <td>0.003891</td>\n",
       "      <td>-0.009987</td>\n",
       "      <td>-0.062290</td>\n",
       "      <td>-0.005792</td>\n",
       "      <td>...</td>\n",
       "      <td>0.033633</td>\n",
       "      <td>-0.010781</td>\n",
       "      <td>0.009733</td>\n",
       "      <td>-0.002281</td>\n",
       "      <td>0.006047</td>\n",
       "      <td>-0.046107</td>\n",
       "      <td>-0.023379</td>\n",
       "      <td>0.041657</td>\n",
       "      <td>0.028609</td>\n",
       "      <td>-0.009291</td>\n",
       "    </tr>\n",
       "    <tr>\n",
       "      <th>3</th>\n",
       "      <td>5081</td>\n",
       "      <td>-0.018487</td>\n",
       "      <td>-0.005300</td>\n",
       "      <td>-0.019736</td>\n",
       "      <td>0.044298</td>\n",
       "      <td>-0.020414</td>\n",
       "      <td>0.032369</td>\n",
       "      <td>0.003270</td>\n",
       "      <td>-0.053760</td>\n",
       "      <td>-0.012529</td>\n",
       "      <td>...</td>\n",
       "      <td>0.008235</td>\n",
       "      <td>-0.011501</td>\n",
       "      <td>0.014615</td>\n",
       "      <td>0.038758</td>\n",
       "      <td>0.009990</td>\n",
       "      <td>-0.015177</td>\n",
       "      <td>-0.028269</td>\n",
       "      <td>0.005696</td>\n",
       "      <td>0.034646</td>\n",
       "      <td>0.007942</td>\n",
       "    </tr>\n",
       "    <tr>\n",
       "      <th>4</th>\n",
       "      <td>5082</td>\n",
       "      <td>-0.010963</td>\n",
       "      <td>-0.039525</td>\n",
       "      <td>-0.020190</td>\n",
       "      <td>0.044142</td>\n",
       "      <td>-0.027780</td>\n",
       "      <td>0.032248</td>\n",
       "      <td>0.009840</td>\n",
       "      <td>-0.049892</td>\n",
       "      <td>0.001871</td>\n",
       "      <td>...</td>\n",
       "      <td>0.018865</td>\n",
       "      <td>-0.011564</td>\n",
       "      <td>0.013905</td>\n",
       "      <td>0.023749</td>\n",
       "      <td>0.010506</td>\n",
       "      <td>-0.017543</td>\n",
       "      <td>-0.027306</td>\n",
       "      <td>0.027216</td>\n",
       "      <td>0.015570</td>\n",
       "      <td>0.010784</td>\n",
       "    </tr>\n",
       "    <tr>\n",
       "      <th>...</th>\n",
       "      <td>...</td>\n",
       "      <td>...</td>\n",
       "      <td>...</td>\n",
       "      <td>...</td>\n",
       "      <td>...</td>\n",
       "      <td>...</td>\n",
       "      <td>...</td>\n",
       "      <td>...</td>\n",
       "      <td>...</td>\n",
       "      <td>...</td>\n",
       "      <td>...</td>\n",
       "      <td>...</td>\n",
       "      <td>...</td>\n",
       "      <td>...</td>\n",
       "      <td>...</td>\n",
       "      <td>...</td>\n",
       "      <td>...</td>\n",
       "      <td>...</td>\n",
       "      <td>...</td>\n",
       "      <td>...</td>\n",
       "      <td>...</td>\n",
       "    </tr>\n",
       "    <tr>\n",
       "      <th>10687</th>\n",
       "      <td>133994</td>\n",
       "      <td>-0.029210</td>\n",
       "      <td>0.011155</td>\n",
       "      <td>-0.006377</td>\n",
       "      <td>0.046776</td>\n",
       "      <td>-0.025457</td>\n",
       "      <td>0.002079</td>\n",
       "      <td>0.006012</td>\n",
       "      <td>-0.028870</td>\n",
       "      <td>0.015737</td>\n",
       "      <td>...</td>\n",
       "      <td>0.037759</td>\n",
       "      <td>-0.015325</td>\n",
       "      <td>0.009431</td>\n",
       "      <td>-0.009702</td>\n",
       "      <td>0.009091</td>\n",
       "      <td>-0.043326</td>\n",
       "      <td>-0.025808</td>\n",
       "      <td>0.038204</td>\n",
       "      <td>0.031567</td>\n",
       "      <td>-0.006687</td>\n",
       "    </tr>\n",
       "    <tr>\n",
       "      <th>10688</th>\n",
       "      <td>133995</td>\n",
       "      <td>-0.041173</td>\n",
       "      <td>0.010350</td>\n",
       "      <td>-0.021792</td>\n",
       "      <td>0.045523</td>\n",
       "      <td>-0.020995</td>\n",
       "      <td>0.017644</td>\n",
       "      <td>0.002863</td>\n",
       "      <td>-0.055886</td>\n",
       "      <td>-0.019077</td>\n",
       "      <td>...</td>\n",
       "      <td>0.017315</td>\n",
       "      <td>0.016870</td>\n",
       "      <td>0.006894</td>\n",
       "      <td>-0.020515</td>\n",
       "      <td>0.003003</td>\n",
       "      <td>-0.046619</td>\n",
       "      <td>-0.022752</td>\n",
       "      <td>0.059461</td>\n",
       "      <td>0.049146</td>\n",
       "      <td>-0.007352</td>\n",
       "    </tr>\n",
       "    <tr>\n",
       "      <th>10689</th>\n",
       "      <td>133997</td>\n",
       "      <td>-0.030016</td>\n",
       "      <td>0.003368</td>\n",
       "      <td>-0.033410</td>\n",
       "      <td>0.023910</td>\n",
       "      <td>-0.019755</td>\n",
       "      <td>0.018780</td>\n",
       "      <td>0.005391</td>\n",
       "      <td>-0.040908</td>\n",
       "      <td>-0.017813</td>\n",
       "      <td>...</td>\n",
       "      <td>0.022029</td>\n",
       "      <td>-0.017187</td>\n",
       "      <td>0.017818</td>\n",
       "      <td>-0.004375</td>\n",
       "      <td>-0.000672</td>\n",
       "      <td>-0.035493</td>\n",
       "      <td>-0.011981</td>\n",
       "      <td>0.056631</td>\n",
       "      <td>0.027491</td>\n",
       "      <td>-0.012153</td>\n",
       "    </tr>\n",
       "    <tr>\n",
       "      <th>10690</th>\n",
       "      <td>133998</td>\n",
       "      <td>-0.006542</td>\n",
       "      <td>0.005297</td>\n",
       "      <td>-0.014884</td>\n",
       "      <td>0.020711</td>\n",
       "      <td>-0.029233</td>\n",
       "      <td>0.003898</td>\n",
       "      <td>-0.024561</td>\n",
       "      <td>-0.053010</td>\n",
       "      <td>-0.021391</td>\n",
       "      <td>...</td>\n",
       "      <td>0.029530</td>\n",
       "      <td>0.007000</td>\n",
       "      <td>-0.000413</td>\n",
       "      <td>-0.044168</td>\n",
       "      <td>0.037959</td>\n",
       "      <td>-0.042401</td>\n",
       "      <td>-0.030223</td>\n",
       "      <td>0.052912</td>\n",
       "      <td>0.042841</td>\n",
       "      <td>-0.019456</td>\n",
       "    </tr>\n",
       "    <tr>\n",
       "      <th>10691</th>\n",
       "      <td>133999</td>\n",
       "      <td>-0.023692</td>\n",
       "      <td>-0.005489</td>\n",
       "      <td>-0.010157</td>\n",
       "      <td>0.015438</td>\n",
       "      <td>-0.036750</td>\n",
       "      <td>0.012870</td>\n",
       "      <td>-0.010567</td>\n",
       "      <td>-0.045503</td>\n",
       "      <td>-0.001974</td>\n",
       "      <td>...</td>\n",
       "      <td>0.012262</td>\n",
       "      <td>-0.011594</td>\n",
       "      <td>0.015671</td>\n",
       "      <td>0.012601</td>\n",
       "      <td>0.020126</td>\n",
       "      <td>-0.038221</td>\n",
       "      <td>-0.038930</td>\n",
       "      <td>0.046088</td>\n",
       "      <td>0.045208</td>\n",
       "      <td>0.006622</td>\n",
       "    </tr>\n",
       "  </tbody>\n",
       "</table>\n",
       "<p>10692 rows × 301 columns</p>\n",
       "</div>"
      ],
      "text/plain": [
       "        index         0         1         2         3         4         5  \\\n",
       "0        5076 -0.016846 -0.011860 -0.042851  0.044163 -0.027453  0.022471   \n",
       "1        5079 -0.025288 -0.020077 -0.029960  0.033417 -0.022732  0.031891   \n",
       "2        5080 -0.026789  0.006986 -0.025454  0.034253 -0.019140  0.003891   \n",
       "3        5081 -0.018487 -0.005300 -0.019736  0.044298 -0.020414  0.032369   \n",
       "4        5082 -0.010963 -0.039525 -0.020190  0.044142 -0.027780  0.032248   \n",
       "...       ...       ...       ...       ...       ...       ...       ...   \n",
       "10687  133994 -0.029210  0.011155 -0.006377  0.046776 -0.025457  0.002079   \n",
       "10688  133995 -0.041173  0.010350 -0.021792  0.045523 -0.020995  0.017644   \n",
       "10689  133997 -0.030016  0.003368 -0.033410  0.023910 -0.019755  0.018780   \n",
       "10690  133998 -0.006542  0.005297 -0.014884  0.020711 -0.029233  0.003898   \n",
       "10691  133999 -0.023692 -0.005489 -0.010157  0.015438 -0.036750  0.012870   \n",
       "\n",
       "              6         7         8  ...       290       291       292  \\\n",
       "0      0.000556 -0.036933 -0.001978  ...  0.010223 -0.011244  0.009240   \n",
       "1      0.014065 -0.054808  0.008609  ...  0.014924 -0.009034  0.017069   \n",
       "2     -0.009987 -0.062290 -0.005792  ...  0.033633 -0.010781  0.009733   \n",
       "3      0.003270 -0.053760 -0.012529  ...  0.008235 -0.011501  0.014615   \n",
       "4      0.009840 -0.049892  0.001871  ...  0.018865 -0.011564  0.013905   \n",
       "...         ...       ...       ...  ...       ...       ...       ...   \n",
       "10687  0.006012 -0.028870  0.015737  ...  0.037759 -0.015325  0.009431   \n",
       "10688  0.002863 -0.055886 -0.019077  ...  0.017315  0.016870  0.006894   \n",
       "10689  0.005391 -0.040908 -0.017813  ...  0.022029 -0.017187  0.017818   \n",
       "10690 -0.024561 -0.053010 -0.021391  ...  0.029530  0.007000 -0.000413   \n",
       "10691 -0.010567 -0.045503 -0.001974  ...  0.012262 -0.011594  0.015671   \n",
       "\n",
       "            293       294       295       296       297       298       299  \n",
       "0      0.028963 -0.008443 -0.042849 -0.014880  0.041051  0.023303 -0.012236  \n",
       "1      0.036944  0.000622 -0.024272 -0.017961  0.043717  0.026246 -0.006339  \n",
       "2     -0.002281  0.006047 -0.046107 -0.023379  0.041657  0.028609 -0.009291  \n",
       "3      0.038758  0.009990 -0.015177 -0.028269  0.005696  0.034646  0.007942  \n",
       "4      0.023749  0.010506 -0.017543 -0.027306  0.027216  0.015570  0.010784  \n",
       "...         ...       ...       ...       ...       ...       ...       ...  \n",
       "10687 -0.009702  0.009091 -0.043326 -0.025808  0.038204  0.031567 -0.006687  \n",
       "10688 -0.020515  0.003003 -0.046619 -0.022752  0.059461  0.049146 -0.007352  \n",
       "10689 -0.004375 -0.000672 -0.035493 -0.011981  0.056631  0.027491 -0.012153  \n",
       "10690 -0.044168  0.037959 -0.042401 -0.030223  0.052912  0.042841 -0.019456  \n",
       "10691  0.012601  0.020126 -0.038221 -0.038930  0.046088  0.045208  0.006622  \n",
       "\n",
       "[10692 rows x 301 columns]"
      ]
     },
     "execution_count": 51,
     "metadata": {},
     "output_type": "execute_result"
    }
   ],
   "source": [
    "d_i_tweets"
   ]
  },
  {
   "cell_type": "markdown",
   "metadata": {},
   "source": [
    "### Merging DFs"
   ]
  },
  {
   "cell_type": "code",
   "execution_count": 52,
   "metadata": {},
   "outputs": [],
   "source": [
    "all_info = data.merge(d_i_tweets,on=\"index\")"
   ]
  },
  {
   "cell_type": "markdown",
   "metadata": {},
   "source": [
    "## Label Encoding"
   ]
  },
  {
   "cell_type": "markdown",
   "metadata": {},
   "source": [
    "### Country"
   ]
  },
  {
   "cell_type": "code",
   "execution_count": 53,
   "metadata": {},
   "outputs": [],
   "source": [
    "def countries(values):\n",
    "    if values == \"Netherlands\":\n",
    "        return 0\n",
    "    elif values == \"Denmark\":\n",
    "        return 1\n",
    "    else:\n",
    "        return 2"
   ]
  },
  {
   "cell_type": "code",
   "execution_count": 57,
   "metadata": {},
   "outputs": [],
   "source": [
    "all_info[\"countries\"] = all_info[\"country\"].apply(countries)"
   ]
  },
  {
   "cell_type": "markdown",
   "metadata": {},
   "source": [
    "### European Group"
   ]
  },
  {
   "cell_type": "code",
   "execution_count": 58,
   "metadata": {},
   "outputs": [],
   "source": [
    "def groups(values):\n",
    "    if values == 'Group of the Greens/European Free Alliance':\n",
    "        return 0\n",
    "    elif values == 'Renew Europe Group':\n",
    "        return 1\n",
    "    elif values == \"Group of the European People's Party (Christian Democrats)\":\n",
    "        return 2\n",
    "    elif values == 'Group of the Progressive Alliance of Socialists and Democrats in the European Parliament':\n",
    "        return 3\n",
    "    elif values == 'European Conservatives and Reformists Group':\n",
    "        return 4\n",
    "    elif values == 'Group of the European United Left - Nordic Green Left':\n",
    "        return 5\n",
    "    elif values == 'Non-attached Members':\n",
    "        return 6\n",
    "    else:\n",
    "        return 7"
   ]
  },
  {
   "cell_type": "code",
   "execution_count": 59,
   "metadata": {},
   "outputs": [],
   "source": [
    "all_info[\"european_group\"] = all_info[\"group\"].apply(groups)"
   ]
  },
  {
   "cell_type": "markdown",
   "metadata": {},
   "source": [
    "### National Party"
   ]
  },
  {
   "cell_type": "code",
   "execution_count": 60,
   "metadata": {},
   "outputs": [],
   "source": [
    "parties_list = ['Socialistisk Folkeparti',\n",
    "       'Volkspartij voor Vrijheid en Democratie',\n",
    "       'Christen Democratisch Appèl', 'Partij van de Arbeid',\n",
    "       'ChristenUnie', 'GroenLinks', 'Forum voor Democratie',\n",
    "       'Socialdemokratiet', 'Partij voor de Dieren', 'Democraten 66',\n",
    "       'Venstre, Danmarks Liberale Parti', 'Det Radikale Venstre',\n",
    "       'GO Realisme & Daadkracht', 'Staatkundig Gereformeerde Partij',\n",
    "       'Enhedslisten', 'Det Konservative Folkeparti']\n",
    "\n",
    "def parties(values):\n",
    "    for i in parties_list:\n",
    "        if values == i:\n",
    "            return parties_list.index(i)"
   ]
  },
  {
   "cell_type": "code",
   "execution_count": 70,
   "metadata": {},
   "outputs": [],
   "source": [
    "all_info[\"nat_party_code\"] = all_info[\"nat_group\"].apply(parties)"
   ]
  },
  {
   "cell_type": "markdown",
   "metadata": {},
   "source": [
    "### Age"
   ]
  },
  {
   "cell_type": "code",
   "execution_count": 84,
   "metadata": {},
   "outputs": [],
   "source": [
    "def age_func(values):\n",
    "    if values <= 30:\n",
    "        return 0\n",
    "    if (values > 30) & (values <= 40):\n",
    "        return 1\n",
    "    if (values > 40) & (values <=50):\n",
    "        return 2\n",
    "    if (values > 50) & (values <= 60):\n",
    "        return 3\n",
    "    if values > 60:\n",
    "        return 4"
   ]
  },
  {
   "cell_type": "code",
   "execution_count": 86,
   "metadata": {},
   "outputs": [
    {
     "data": {
      "text/plain": [
       "array([0, 3, 2, 4, 1])"
      ]
     },
     "execution_count": 86,
     "metadata": {},
     "output_type": "execute_result"
    }
   ],
   "source": [
    "all_info[\"age_code\"].unique()"
   ]
  },
  {
   "cell_type": "code",
   "execution_count": 85,
   "metadata": {},
   "outputs": [],
   "source": [
    "all_info[\"age_code\"] = all_info[\"age\"].apply(age_func)"
   ]
  },
  {
   "cell_type": "markdown",
   "metadata": {},
   "source": [
    "## Exporting Document"
   ]
  },
  {
   "cell_type": "markdown",
   "metadata": {},
   "source": [
    "### Exporting Words Matrix"
   ]
  },
  {
   "cell_type": "code",
   "execution_count": 63,
   "metadata": {},
   "outputs": [],
   "source": [
    "d_i_tweets.to_csv('d_i_tweets.tsv',sep=\"\\t\", index=False, header=False)"
   ]
  },
  {
   "cell_type": "markdown",
   "metadata": {},
   "source": [
    "### Exporting Labels"
   ]
  },
  {
   "cell_type": "code",
   "execution_count": 87,
   "metadata": {},
   "outputs": [],
   "source": [
    "all_info[[\"countries\",\"european_group\",\"nat_party\",\"sex\",\"age_code\"]].to_csv(\"multi_variables.tsv\",sep=\"\\t\", index=False, header=True)"
   ]
  },
  {
   "cell_type": "markdown",
   "metadata": {
    "heading_collapsed": true
   },
   "source": [
    "## Merger Attempts\n",
    "\n"
   ]
  },
  {
   "cell_type": "code",
   "execution_count": 119,
   "metadata": {
    "hidden": true
   },
   "outputs": [],
   "source": [
    "port_irl = pd.read_pickle(\"../../raw_data/merger2\")\n",
    "port_irl = port_irl.reset_index()\n",
    "port_irl = port_irl[[\"index\",\"content\"]]"
   ]
  },
  {
   "cell_type": "code",
   "execution_count": 120,
   "metadata": {
    "hidden": true
   },
   "outputs": [
    {
     "data": {
      "text/html": [
       "<div>\n",
       "<style scoped>\n",
       "    .dataframe tbody tr th:only-of-type {\n",
       "        vertical-align: middle;\n",
       "    }\n",
       "\n",
       "    .dataframe tbody tr th {\n",
       "        vertical-align: top;\n",
       "    }\n",
       "\n",
       "    .dataframe thead th {\n",
       "        text-align: right;\n",
       "    }\n",
       "</style>\n",
       "<table border=\"1\" class=\"dataframe\">\n",
       "  <thead>\n",
       "    <tr style=\"text-align: right;\">\n",
       "      <th></th>\n",
       "      <th>index</th>\n",
       "      <th>content</th>\n",
       "    </tr>\n",
       "  </thead>\n",
       "  <tbody>\n",
       "    <tr>\n",
       "      <th>0</th>\n",
       "      <td>20738</td>\n",
       "      <td>[False, False, [-0.0564866, 0.0520961, -0.0289...</td>\n",
       "    </tr>\n",
       "    <tr>\n",
       "      <th>1</th>\n",
       "      <td>20739</td>\n",
       "      <td>[False, [0.0680034, -0.0906367, -0.0319666, 0....</td>\n",
       "    </tr>\n",
       "    <tr>\n",
       "      <th>2</th>\n",
       "      <td>20740</td>\n",
       "      <td>[False, False, False, False, False, False, Fal...</td>\n",
       "    </tr>\n",
       "    <tr>\n",
       "      <th>3</th>\n",
       "      <td>20741</td>\n",
       "      <td>[[-0.0393396, 0.0268131, -0.142318, 0.0613933,...</td>\n",
       "    </tr>\n",
       "    <tr>\n",
       "      <th>4</th>\n",
       "      <td>20742</td>\n",
       "      <td>[[-0.0393396, 0.0268131, -0.142318, 0.0613933,...</td>\n",
       "    </tr>\n",
       "    <tr>\n",
       "      <th>...</th>\n",
       "      <td>...</td>\n",
       "      <td>...</td>\n",
       "    </tr>\n",
       "    <tr>\n",
       "      <th>7795</th>\n",
       "      <td>130490</td>\n",
       "      <td>[[0.0109718, -0.0593663, -0.0322032, 0.0416514...</td>\n",
       "    </tr>\n",
       "    <tr>\n",
       "      <th>7796</th>\n",
       "      <td>130491</td>\n",
       "      <td>[[0.0186351, -0.0140546, -0.0420493, -0.067852...</td>\n",
       "    </tr>\n",
       "    <tr>\n",
       "      <th>7797</th>\n",
       "      <td>130492</td>\n",
       "      <td>[[0.0489321, -0.0598671, -0.0264063, -0.014537...</td>\n",
       "    </tr>\n",
       "    <tr>\n",
       "      <th>7798</th>\n",
       "      <td>130493</td>\n",
       "      <td>[[-0.133483, 0.0550787, -0.0270976, 0.00313864...</td>\n",
       "    </tr>\n",
       "    <tr>\n",
       "      <th>7799</th>\n",
       "      <td>130494</td>\n",
       "      <td>[[0.00139549, -0.0896719, -0.0270524, 0.020236...</td>\n",
       "    </tr>\n",
       "  </tbody>\n",
       "</table>\n",
       "<p>7800 rows × 2 columns</p>\n",
       "</div>"
      ],
      "text/plain": [
       "       index                                            content\n",
       "0      20738  [False, False, [-0.0564866, 0.0520961, -0.0289...\n",
       "1      20739  [False, [0.0680034, -0.0906367, -0.0319666, 0....\n",
       "2      20740  [False, False, False, False, False, False, Fal...\n",
       "3      20741  [[-0.0393396, 0.0268131, -0.142318, 0.0613933,...\n",
       "4      20742  [[-0.0393396, 0.0268131, -0.142318, 0.0613933,...\n",
       "...      ...                                                ...\n",
       "7795  130490  [[0.0109718, -0.0593663, -0.0322032, 0.0416514...\n",
       "7796  130491  [[0.0186351, -0.0140546, -0.0420493, -0.067852...\n",
       "7797  130492  [[0.0489321, -0.0598671, -0.0264063, -0.014537...\n",
       "7798  130493  [[-0.133483, 0.0550787, -0.0270976, 0.00313864...\n",
       "7799  130494  [[0.00139549, -0.0896719, -0.0270524, 0.020236...\n",
       "\n",
       "[7800 rows x 2 columns]"
      ]
     },
     "execution_count": 120,
     "metadata": {},
     "output_type": "execute_result"
    }
   ],
   "source": [
    "data.merge()"
   ]
  }
 ],
 "metadata": {
  "kernelspec": {
   "display_name": "Python 3",
   "language": "python",
   "name": "python3"
  },
  "language_info": {
   "codemirror_mode": {
    "name": "ipython",
    "version": 3
   },
   "file_extension": ".py",
   "mimetype": "text/x-python",
   "name": "python",
   "nbconvert_exporter": "python",
   "pygments_lexer": "ipython3",
   "version": "3.7.7"
  },
  "toc": {
   "base_numbering": 1,
   "nav_menu": {},
   "number_sections": true,
   "sideBar": true,
   "skip_h1_title": false,
   "title_cell": "Table of Contents",
   "title_sidebar": "Contents",
   "toc_cell": false,
   "toc_position": {},
   "toc_section_display": true,
   "toc_window_display": false
  }
 },
 "nbformat": 4,
 "nbformat_minor": 4
}
