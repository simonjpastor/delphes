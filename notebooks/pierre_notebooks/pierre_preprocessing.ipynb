{
 "cells": [
  {
   "cell_type": "markdown",
   "metadata": {},
   "source": [
    "# Prétraitement des données"
   ]
  },
  {
   "cell_type": "markdown",
   "metadata": {},
   "source": [
    "## Suppression des éléments indésirables de nos tweets"
   ]
  },
  {
   "cell_type": "code",
   "execution_count": 438,
   "metadata": {},
   "outputs": [],
   "source": [
    "# Imports nécessaires\n",
    "import pandas as pd\n",
    "import numpy as np\n",
    "import string \n",
    "import re\n",
    "import nltk\n",
    "from nltk.corpus import stopwords \n",
    "from nltk.tokenize import word_tokenize"
   ]
  },
  {
   "cell_type": "code",
   "execution_count": 55,
   "metadata": {
    "scrolled": true
   },
   "outputs": [
    {
     "data": {
      "text/html": [
       "<div>\n",
       "<style scoped>\n",
       "    .dataframe tbody tr th:only-of-type {\n",
       "        vertical-align: middle;\n",
       "    }\n",
       "\n",
       "    .dataframe tbody tr th {\n",
       "        vertical-align: top;\n",
       "    }\n",
       "\n",
       "    .dataframe thead th {\n",
       "        text-align: right;\n",
       "    }\n",
       "</style>\n",
       "<table border=\"1\" class=\"dataframe\">\n",
       "  <thead>\n",
       "    <tr style=\"text-align: right;\">\n",
       "      <th></th>\n",
       "      <th>mep_id</th>\n",
       "      <th>name</th>\n",
       "      <th>country</th>\n",
       "      <th>group</th>\n",
       "      <th>nat_group</th>\n",
       "      <th>twitter</th>\n",
       "      <th>content</th>\n",
       "    </tr>\n",
       "  </thead>\n",
       "  <tbody>\n",
       "    <tr>\n",
       "      <th>0</th>\n",
       "      <td>197490</td>\n",
       "      <td>Magdalena ADAMOWICZ</td>\n",
       "      <td>Poland</td>\n",
       "      <td>Group of the European People's Party (Christia...</td>\n",
       "      <td>Independent</td>\n",
       "      <td>Adamowicz_Magda</td>\n",
       "      <td>['W tym dniu, w tym miejscu, w tej godzinie pr...</td>\n",
       "    </tr>\n",
       "    <tr>\n",
       "      <th>1</th>\n",
       "      <td>189525</td>\n",
       "      <td>Asim ADEMOV</td>\n",
       "      <td>Bulgaria</td>\n",
       "      <td>Group of the European People's Party (Christia...</td>\n",
       "      <td>Citizens for European Development of Bulgaria</td>\n",
       "      <td>AdemovAsim</td>\n",
       "      <td>['RT @ECinBulgaria: 📢 Остана 1⃣ седмица! Преди...</td>\n",
       "    </tr>\n",
       "    <tr>\n",
       "      <th>2</th>\n",
       "      <td>124831</td>\n",
       "      <td>Isabella ADINOLFI</td>\n",
       "      <td>Italy</td>\n",
       "      <td>Non-attached Members</td>\n",
       "      <td>Movimento 5 Stelle</td>\n",
       "      <td>Isa_Adinolfi</td>\n",
       "      <td>[\"Sembra un film, ma purtroppo è realtà: le im...</td>\n",
       "    </tr>\n",
       "    <tr>\n",
       "      <th>6</th>\n",
       "      <td>125045</td>\n",
       "      <td>Clara AGUILERA</td>\n",
       "      <td>Spain</td>\n",
       "      <td>Group of the Progressive Alliance of Socialist...</td>\n",
       "      <td>Partido Socialista Obrero Español</td>\n",
       "      <td>ClaraAguilera7</td>\n",
       "      <td>['RT @ClaraAguilera7: Debate e importantes vot...</td>\n",
       "    </tr>\n",
       "    <tr>\n",
       "      <th>7</th>\n",
       "      <td>204335</td>\n",
       "      <td>Alviina ALAMETSÄ</td>\n",
       "      <td>Finland</td>\n",
       "      <td>Group of the Greens/European Free Alliance</td>\n",
       "      <td>Vihreä liitto</td>\n",
       "      <td>alviinaalametsa</td>\n",
       "      <td>['Toimeentulotukea korotetaan 75e koronakriisi...</td>\n",
       "    </tr>\n",
       "  </tbody>\n",
       "</table>\n",
       "</div>"
      ],
      "text/plain": [
       "   mep_id                 name   country  \\\n",
       "0  197490  Magdalena ADAMOWICZ    Poland   \n",
       "1  189525          Asim ADEMOV  Bulgaria   \n",
       "2  124831    Isabella ADINOLFI     Italy   \n",
       "6  125045       Clara AGUILERA     Spain   \n",
       "7  204335     Alviina ALAMETSÄ   Finland   \n",
       "\n",
       "                                               group  \\\n",
       "0  Group of the European People's Party (Christia...   \n",
       "1  Group of the European People's Party (Christia...   \n",
       "2                               Non-attached Members   \n",
       "6  Group of the Progressive Alliance of Socialist...   \n",
       "7         Group of the Greens/European Free Alliance   \n",
       "\n",
       "                                       nat_group          twitter  \\\n",
       "0                                    Independent  Adamowicz_Magda   \n",
       "1  Citizens for European Development of Bulgaria       AdemovAsim   \n",
       "2                             Movimento 5 Stelle     Isa_Adinolfi   \n",
       "6              Partido Socialista Obrero Español   ClaraAguilera7   \n",
       "7                                  Vihreä liitto  alviinaalametsa   \n",
       "\n",
       "                                             content  \n",
       "0  ['W tym dniu, w tym miejscu, w tej godzinie pr...  \n",
       "1  ['RT @ECinBulgaria: 📢 Остана 1⃣ седмица! Преди...  \n",
       "2  [\"Sembra un film, ma purtroppo è realtà: le im...  \n",
       "6  ['RT @ClaraAguilera7: Debate e importantes vot...  \n",
       "7  ['Toimeentulotukea korotetaan 75e koronakriisi...  "
      ]
     },
     "execution_count": 55,
     "metadata": {},
     "output_type": "execute_result"
    }
   ],
   "source": [
    "# Lecture et stockage de la base de données\n",
    "tweet_df = pd.read_csv('../../delphes/data/final2_clean.csv', index_col=0)\n",
    "tweet_df.head()"
   ]
  },
  {
   "cell_type": "code",
   "execution_count": 56,
   "metadata": {},
   "outputs": [],
   "source": [
    "# Remove the undesirable elements in the entire dataframe\n",
    "def rmurl_df(df, column_name):\n",
    "    '''\n",
    "    This function removes all the URLs, the #hashtag and the @user of a column made of strings.\n",
    "    Be careful to apply it BEFORE all the other preprocessing steps (if not it wont'\n",
    "    be recognized as a URL)\n",
    "    '''\n",
    "    df = df.copy()\n",
    "    df[column_name] = df[column_name].str.replace('http\\S+|www.\\S+|@\\S+|#\\S+', '', case=False)\n",
    "    return df\n",
    "\n"
   ]
  },
  {
   "cell_type": "code",
   "execution_count": 57,
   "metadata": {},
   "outputs": [],
   "source": [
    "# Lowercase the tweet's column\n",
    "def lower_df(df, column_name):\n",
    "    '''\n",
    "    This function lowercases a column made of strings.\n",
    "    '''\n",
    "    df = df.copy()\n",
    "    df[column_name] = df[column_name].str.lower()\n",
    "    return df"
   ]
  },
  {
   "cell_type": "code",
   "execution_count": 58,
   "metadata": {},
   "outputs": [],
   "source": [
    "# Remove the numbers in the tweet's column\n",
    "def rmnumbers_df(df, column_name):\n",
    "    '''\n",
    "    This function removes all the digits of a column made of strings.\n",
    "    '''\n",
    "    df = df.copy()\n",
    "    def remove_numbers(text):\n",
    "        return ''.join(word for word in text if not word.isdigit())\n",
    "    df[column_name] = df[column_name].apply(remove_numbers)\n",
    "    return df"
   ]
  },
  {
   "cell_type": "code",
   "execution_count": 517,
   "metadata": {},
   "outputs": [],
   "source": [
    "# Remove the undesirable punctuations in the tweet's column\n",
    "def rmpunct_df(df, column_name):\n",
    "    '''\n",
    "    This function removes all the punctuations, all the \"rt\" and remove multiple spaces\n",
    "    of a column made of strings.\n",
    "    '''\n",
    "    punct = string.punctuation\n",
    "    df = df.copy()\n",
    "    def replace_punct(text):\n",
    "        for punctu in punct:\n",
    "            text = text.replace(punctu, ' ')\n",
    "        text = text.replace(' rt ','')\n",
    "        text = \" \".join(text.split())\n",
    "        return text\n",
    "    df[column_name] = df[column_name].apply(replace_punct)\n",
    "    return df"
   ]
  },
  {
   "cell_type": "code",
   "execution_count": 573,
   "metadata": {},
   "outputs": [],
   "source": [
    "# Remove the stopwords in the tweet's column\n",
    "def rmstopwords_df(df, column_name):\n",
    "    '''\n",
    "    This function removes all the stopwords of a column made of strings.\n",
    "    '''\n",
    "    df = df.copy()\n",
    "    stop_words = stopwords.words('english')\n",
    "    def remove_stopwords(text):\n",
    "        for word in stop_words:\n",
    "            text = text.replace(f' {word} ', ' ')\n",
    "        return text\n",
    "    df[column_name] = df[column_name].apply(remove_stopwords)\n",
    "    return df"
   ]
  },
  {
   "cell_type": "code",
   "execution_count": 574,
   "metadata": {},
   "outputs": [],
   "source": [
    "# Remove the undesirable emojis in the entire dataframe\n",
    "def rmemojis_df(df):\n",
    "    '''\n",
    "    This function removes all the emojis of a column made of strings.\n",
    "    Be careful to translate in latin alphabet before applying this function : \n",
    "    it also removes cyrillic alphabet\n",
    "    '''\n",
    "    df = df.copy()\n",
    "    df = df.astype(str).apply(lambda x: x.str.encode('ascii', 'ignore').str.decode('ascii'))\n",
    "    return df"
   ]
  },
  {
   "cell_type": "code",
   "execution_count": 577,
   "metadata": {},
   "outputs": [],
   "source": [
    "clean_df = rmurl_df(tweet_df, 'content')\n",
    "clean_df = lower_df(clean_df, 'content')\n",
    "clean_df = rmnumbers_df(clean_df, 'content')\n",
    "clean_df = rmpunct_df(clean_df, 'content')\n",
    "clean_df = rmstopwords_df(clean_df, 'content')\n",
    "clean_df = rmemojis_df(clean_df)"
   ]
  },
  {
   "cell_type": "code",
   "execution_count": 578,
   "metadata": {},
   "outputs": [
    {
     "data": {
      "text/html": [
       "<div>\n",
       "<style scoped>\n",
       "    .dataframe tbody tr th:only-of-type {\n",
       "        vertical-align: middle;\n",
       "    }\n",
       "\n",
       "    .dataframe tbody tr th {\n",
       "        vertical-align: top;\n",
       "    }\n",
       "\n",
       "    .dataframe thead th {\n",
       "        text-align: right;\n",
       "    }\n",
       "</style>\n",
       "<table border=\"1\" class=\"dataframe\">\n",
       "  <thead>\n",
       "    <tr style=\"text-align: right;\">\n",
       "      <th></th>\n",
       "      <th>mep_id</th>\n",
       "      <th>name</th>\n",
       "      <th>country</th>\n",
       "      <th>group</th>\n",
       "      <th>nat_group</th>\n",
       "      <th>twitter</th>\n",
       "      <th>content</th>\n",
       "    </tr>\n",
       "  </thead>\n",
       "  <tbody>\n",
       "    <tr>\n",
       "      <th>136</th>\n",
       "      <td>124988</td>\n",
       "      <td>Deirdre CLUNE</td>\n",
       "      <td>Ireland</td>\n",
       "      <td>Group of the European People's Party (Christia...</td>\n",
       "      <td>Fine Gael Party</td>\n",
       "      <td>deirdreclunemep</td>\n",
       "      <td>the guidance preparing end transition period s...</td>\n",
       "    </tr>\n",
       "    <tr>\n",
       "      <th>146</th>\n",
       "      <td>197654</td>\n",
       "      <td>Ciarn CUFFE</td>\n",
       "      <td>Ireland</td>\n",
       "      <td>Group of the Greens/European Free Alliance</td>\n",
       "      <td>Green Party</td>\n",
       "      <td>ciarancuffe</td>\n",
       "      <td>it crucial follows phil hogan replacement big ...</td>\n",
       "    </tr>\n",
       "    <tr>\n",
       "      <th>208</th>\n",
       "      <td>197720</td>\n",
       "      <td>Frances FITZGERALD</td>\n",
       "      <td>Ireland</td>\n",
       "      <td>Group of the European People's Party (Christia...</td>\n",
       "      <td>Fine Gael Party</td>\n",
       "      <td>FitzgeraldFrncs</td>\n",
       "      <td>leaving london talks w  continue difficult neg...</td>\n",
       "    </tr>\n",
       "    <tr>\n",
       "      <th>209</th>\n",
       "      <td>124985</td>\n",
       "      <td>Luke Ming FLANAGAN</td>\n",
       "      <td>Ireland</td>\n",
       "      <td>Group of the European United Left - Nordic Gre...</td>\n",
       "      <td>Independent</td>\n",
       "      <td>lukeming</td>\n",
       "      <td>the meat sector truly give toss n nit would co...</td>\n",
       "    </tr>\n",
       "    <tr>\n",
       "      <th>335</th>\n",
       "      <td>96668</td>\n",
       "      <td>Sen KELLY</td>\n",
       "      <td>Ireland</td>\n",
       "      <td>Group of the European People's Party (Christia...</td>\n",
       "      <td>Fine Gael Party</td>\n",
       "      <td>SeanKellyMEP</td>\n",
       "      <td>eu member sates reinstate solvency support ins...</td>\n",
       "    </tr>\n",
       "  </tbody>\n",
       "</table>\n",
       "</div>"
      ],
      "text/plain": [
       "     mep_id                name  country  \\\n",
       "136  124988       Deirdre CLUNE  Ireland   \n",
       "146  197654         Ciarn CUFFE  Ireland   \n",
       "208  197720  Frances FITZGERALD  Ireland   \n",
       "209  124985  Luke Ming FLANAGAN  Ireland   \n",
       "335   96668           Sen KELLY  Ireland   \n",
       "\n",
       "                                                 group        nat_group  \\\n",
       "136  Group of the European People's Party (Christia...  Fine Gael Party   \n",
       "146         Group of the Greens/European Free Alliance      Green Party   \n",
       "208  Group of the European People's Party (Christia...  Fine Gael Party   \n",
       "209  Group of the European United Left - Nordic Gre...      Independent   \n",
       "335  Group of the European People's Party (Christia...  Fine Gael Party   \n",
       "\n",
       "             twitter                                            content  \n",
       "136  deirdreclunemep  the guidance preparing end transition period s...  \n",
       "146      ciarancuffe  it crucial follows phil hogan replacement big ...  \n",
       "208  FitzgeraldFrncs  leaving london talks w  continue difficult neg...  \n",
       "209         lukeming  the meat sector truly give toss n nit would co...  \n",
       "335     SeanKellyMEP  eu member sates reinstate solvency support ins...  "
      ]
     },
     "execution_count": 578,
     "metadata": {},
     "output_type": "execute_result"
    }
   ],
   "source": [
    "clean_df[clean_df['country'] == 'Ireland'].head()"
   ]
  },
  {
   "cell_type": "code",
   "execution_count": 579,
   "metadata": {},
   "outputs": [],
   "source": [
    "testbase_df = clean_df[clean_df['country'] == 'Ireland']"
   ]
  },
  {
   "cell_type": "markdown",
   "metadata": {},
   "source": [
    "## Premier test Word2Vec"
   ]
  },
  {
   "cell_type": "code",
   "execution_count": 580,
   "metadata": {},
   "outputs": [],
   "source": [
    "testbase_df = testbase_df[['mep_id', 'content']]"
   ]
  },
  {
   "cell_type": "code",
   "execution_count": 581,
   "metadata": {},
   "outputs": [],
   "source": [
    "from gensim.models import Word2Vec"
   ]
  },
  {
   "cell_type": "code",
   "execution_count": 582,
   "metadata": {},
   "outputs": [],
   "source": [
    "sentences = testbase_df['content']"
   ]
  },
  {
   "cell_type": "code",
   "execution_count": 602,
   "metadata": {},
   "outputs": [],
   "source": [
    "sentences_train = []\n",
    "for sentence in sentences:\n",
    "    sentences_train.append(sentence.split())"
   ]
  },
  {
   "cell_type": "code",
   "execution_count": 603,
   "metadata": {},
   "outputs": [],
   "source": [
    "word2vec = Word2Vec(sentences=sentences_train)"
   ]
  },
  {
   "cell_type": "code",
   "execution_count": 604,
   "metadata": {},
   "outputs": [],
   "source": [
    "def embed_sentence(word2vec, sentence):\n",
    "    y = []\n",
    "    for word in sentence:\n",
    "        if word in word2vec.wv.vocab.keys():\n",
    "           y.append(word2vec[word])\n",
    "    return np.array(y)\n",
    "\n",
    "def embedding(word2vec, sentences):\n",
    "    \n",
    "    y = []\n",
    "    for sentence in sentences:\n",
    "        y.append(embed_sentence(word2vec, sentence))\n",
    "    return y"
   ]
  },
  {
   "cell_type": "code",
   "execution_count": 605,
   "metadata": {},
   "outputs": [
    {
     "name": "stderr",
     "output_type": "stream",
     "text": [
      "c:\\users\\psmag\\.venvs\\delphes\\lib\\site-packages\\ipykernel_launcher.py:5: DeprecationWarning: Call to deprecated `__getitem__` (Method will be removed in 4.0.0, use self.wv.__getitem__() instead).\n",
      "  \"\"\"\n"
     ]
    }
   ],
   "source": [
    "X_train = embedding(word2vec,sentences_train)"
   ]
  },
  {
   "cell_type": "code",
   "execution_count": 606,
   "metadata": {},
   "outputs": [],
   "source": [
    "from tensorflow.keras.utils import to_categorical\n",
    "y_train = np.arange(0,10,1)\n",
    "y_cat_train = to_categorical(y_train, num_classes=10)"
   ]
  },
  {
   "cell_type": "code",
   "execution_count": 607,
   "metadata": {},
   "outputs": [],
   "source": [
    "from tensorflow.keras.models import Sequential\n",
    "from tensorflow.keras import layers\n",
    "\n",
    "def init_model():\n",
    "\n",
    "    model = Sequential()\n",
    "    model.add(layers.Masking(mask_value = -1000))\n",
    "    model.add(layers.LSTM(13))\n",
    "    model.add(layers.Dense(10, activation='relu'))\n",
    "    model.add(layers.Dense(10, activation='softmax'))\n",
    "\n",
    "    model.compile(loss='categorical_crossentropy',\n",
    "              optimizer='rmsprop', \n",
    "              metrics=['accuracy'])\n",
    "    return model\n",
    "\n",
    "model = init_model()"
   ]
  },
  {
   "cell_type": "code",
   "execution_count": 608,
   "metadata": {},
   "outputs": [],
   "source": [
    "from tensorflow.keras.preprocessing.sequence import pad_sequences\n",
    "X_train_pad = pad_sequences(X_train, padding='post',value=-1000, dtype='float32')"
   ]
  },
  {
   "cell_type": "code",
   "execution_count": 609,
   "metadata": {},
   "outputs": [
    {
     "data": {
      "text/plain": [
       "(10, 2319, 100)"
      ]
     },
     "execution_count": 609,
     "metadata": {},
     "output_type": "execute_result"
    }
   ],
   "source": [
    "X_train_pad.shape"
   ]
  },
  {
   "cell_type": "code",
   "execution_count": 610,
   "metadata": {},
   "outputs": [
    {
     "data": {
      "text/plain": [
       "(10, 10)"
      ]
     },
     "execution_count": 610,
     "metadata": {},
     "output_type": "execute_result"
    }
   ],
   "source": [
    "y_cat_train.shape"
   ]
  },
  {
   "cell_type": "code",
   "execution_count": 613,
   "metadata": {},
   "outputs": [
    {
     "name": "stdout",
     "output_type": "stream",
     "text": [
      "Train on 10 samples\n",
      "Epoch 1/100\n",
      "10/10 [==============================] - 2s 216ms/sample - loss: 2.3016 - acc: 0.1000\n",
      "Epoch 2/100\n",
      "10/10 [==============================] - 1s 135ms/sample - loss: 2.2957 - acc: 0.1000\n",
      "Epoch 3/100\n",
      "10/10 [==============================] - 1s 135ms/sample - loss: 2.2932 - acc: 0.1000\n",
      "Epoch 4/100\n",
      "10/10 [==============================] - 1s 135ms/sample - loss: 2.2906 - acc: 0.1000\n",
      "Epoch 5/100\n",
      "10/10 [==============================] - 1s 136ms/sample - loss: 2.2892 - acc: 0.1000\n",
      "Epoch 6/100\n",
      "10/10 [==============================] - 1s 134ms/sample - loss: 2.2879 - acc: 0.1000\n",
      "Epoch 7/100\n",
      "10/10 [==============================] - 1s 133ms/sample - loss: 2.2844 - acc: 0.1000\n",
      "Epoch 8/100\n",
      "10/10 [==============================] - 1s 135ms/sample - loss: 2.2826 - acc: 0.1000\n",
      "Epoch 9/100\n",
      "10/10 [==============================] - 1s 136ms/sample - loss: 2.2804 - acc: 0.1000\n",
      "Epoch 10/100\n",
      "10/10 [==============================] - 1s 136ms/sample - loss: 2.2778 - acc: 0.1000\n",
      "Epoch 11/100\n",
      "10/10 [==============================] - 1s 134ms/sample - loss: 2.2758 - acc: 0.1000\n",
      "Epoch 12/100\n",
      "10/10 [==============================] - 1s 135ms/sample - loss: 2.2733 - acc: 0.1000\n",
      "Epoch 13/100\n",
      "10/10 [==============================] - 1s 135ms/sample - loss: 2.2702 - acc: 0.1000\n",
      "Epoch 14/100\n",
      "10/10 [==============================] - 1s 135ms/sample - loss: 2.2681 - acc: 0.1000\n",
      "Epoch 15/100\n",
      "10/10 [==============================] - 2s 151ms/sample - loss: 2.2646 - acc: 0.2000\n",
      "Epoch 16/100\n",
      "10/10 [==============================] - 1s 140ms/sample - loss: 2.2623 - acc: 0.1000\n",
      "Epoch 17/100\n",
      "10/10 [==============================] - 1s 136ms/sample - loss: 2.2587 - acc: 0.2000\n",
      "Epoch 18/100\n",
      "10/10 [==============================] - 1s 137ms/sample - loss: 2.2562 - acc: 0.2000\n",
      "Epoch 19/100\n",
      "10/10 [==============================] - 1s 135ms/sample - loss: 2.2525 - acc: 0.2000\n",
      "Epoch 20/100\n",
      "10/10 [==============================] - 1s 135ms/sample - loss: 2.2501 - acc: 0.2000\n",
      "Epoch 21/100\n",
      "10/10 [==============================] - 1s 139ms/sample - loss: 2.2461 - acc: 0.2000\n",
      "Epoch 22/100\n",
      "10/10 [==============================] - 1s 140ms/sample - loss: 2.2433 - acc: 0.2000\n",
      "Epoch 23/100\n",
      "10/10 [==============================] - 1s 134ms/sample - loss: 2.2394 - acc: 0.2000\n",
      "Epoch 24/100\n",
      "10/10 [==============================] - 1s 143ms/sample - loss: 2.2367 - acc: 0.2000\n",
      "Epoch 25/100\n",
      "10/10 [==============================] - 1s 138ms/sample - loss: 2.2322 - acc: 0.2000\n",
      "Epoch 26/100\n",
      "10/10 [==============================] - 1s 136ms/sample - loss: 2.2291 - acc: 0.2000\n",
      "Epoch 27/100\n",
      "10/10 [==============================] - 1s 142ms/sample - loss: 2.2246 - acc: 0.2000\n",
      "Epoch 28/100\n",
      "10/10 [==============================] - 1s 137ms/sample - loss: 2.2215 - acc: 0.2000\n",
      "Epoch 29/100\n",
      "10/10 [==============================] - 1s 135ms/sample - loss: 2.2160 - acc: 0.3000\n",
      "Epoch 30/100\n",
      "10/10 [==============================] - 1s 135ms/sample - loss: 2.2134 - acc: 0.3000\n",
      "Epoch 31/100\n",
      "10/10 [==============================] - 1s 136ms/sample - loss: 2.2071 - acc: 0.3000\n",
      "Epoch 32/100\n",
      "10/10 [==============================] - 1s 136ms/sample - loss: 2.2039 - acc: 0.3000\n",
      "Epoch 33/100\n",
      "10/10 [==============================] - 1s 136ms/sample - loss: 2.1973 - acc: 0.3000\n",
      "Epoch 34/100\n",
      "10/10 [==============================] - 1s 136ms/sample - loss: 2.1944 - acc: 0.3000\n",
      "Epoch 35/100\n",
      "10/10 [==============================] - 1s 135ms/sample - loss: 2.1867 - acc: 0.3000\n",
      "Epoch 36/100\n",
      "10/10 [==============================] - 1s 136ms/sample - loss: 2.1809 - acc: 0.3000\n",
      "Epoch 37/100\n",
      "10/10 [==============================] - 1s 134ms/sample - loss: 2.1747 - acc: 0.3000\n",
      "Epoch 38/100\n",
      "10/10 [==============================] - 1s 133ms/sample - loss: 2.1713 - acc: 0.3000\n",
      "Epoch 39/100\n",
      "10/10 [==============================] - 1s 134ms/sample - loss: 2.1641 - acc: 0.3000\n",
      "Epoch 40/100\n",
      "10/10 [==============================] - 1s 134ms/sample - loss: 2.1609 - acc: 0.3000\n",
      "Epoch 41/100\n",
      "10/10 [==============================] - 1s 133ms/sample - loss: 2.1515 - acc: 0.3000\n",
      "Epoch 42/100\n",
      "10/10 [==============================] - 1s 134ms/sample - loss: 2.1465 - acc: 0.3000\n",
      "Epoch 43/100\n",
      "10/10 [==============================] - 1s 134ms/sample - loss: 2.1394 - acc: 0.3000\n",
      "Epoch 44/100\n",
      "10/10 [==============================] - 1s 134ms/sample - loss: 2.1328 - acc: 0.3000\n",
      "Epoch 45/100\n",
      "10/10 [==============================] - 1s 135ms/sample - loss: 2.1263 - acc: 0.3000\n",
      "Epoch 46/100\n",
      "10/10 [==============================] - 1s 134ms/sample - loss: 2.1214 - acc: 0.3000\n",
      "Epoch 47/100\n",
      "10/10 [==============================] - 1s 135ms/sample - loss: 2.1137 - acc: 0.4000\n",
      "Epoch 48/100\n",
      "10/10 [==============================] - 1s 134ms/sample - loss: 2.1099 - acc: 0.3000\n",
      "Epoch 49/100\n",
      "10/10 [==============================] - 1s 134ms/sample - loss: 2.0962 - acc: 0.3000\n",
      "Epoch 50/100\n",
      "10/10 [==============================] - 1s 133ms/sample - loss: 2.0875 - acc: 0.4000\n",
      "Epoch 51/100\n",
      "10/10 [==============================] - 1s 133ms/sample - loss: 2.0756 - acc: 0.3000\n",
      "Epoch 52/100\n",
      "10/10 [==============================] - 1s 133ms/sample - loss: 2.0651 - acc: 0.4000\n",
      "Epoch 53/100\n",
      "10/10 [==============================] - 1s 135ms/sample - loss: 2.0542 - acc: 0.4000\n",
      "Epoch 54/100\n",
      "10/10 [==============================] - 1s 133ms/sample - loss: 2.0417 - acc: 0.4000\n",
      "Epoch 55/100\n",
      "10/10 [==============================] - 1s 132ms/sample - loss: 2.0280 - acc: 0.4000\n",
      "Epoch 56/100\n",
      "10/10 [==============================] - 1s 132ms/sample - loss: 2.0505 - acc: 0.4000\n",
      "Epoch 57/100\n",
      "10/10 [==============================] - 1s 133ms/sample - loss: 2.0018 - acc: 0.4000\n",
      "Epoch 58/100\n",
      "10/10 [==============================] - 1s 145ms/sample - loss: 1.9971 - acc: 0.4000\n",
      "Epoch 59/100\n",
      "10/10 [==============================] - 2s 161ms/sample - loss: 1.9993 - acc: 0.4000\n",
      "Epoch 60/100\n",
      "10/10 [==============================] - 1s 148ms/sample - loss: 1.9867 - acc: 0.4000\n",
      "Epoch 61/100\n",
      "10/10 [==============================] - 1s 145ms/sample - loss: 1.9689 - acc: 0.4000\n",
      "Epoch 62/100\n",
      "10/10 [==============================] - 2s 160ms/sample - loss: 1.9549 - acc: 0.4000\n",
      "Epoch 63/100\n",
      "10/10 [==============================] - 1s 135ms/sample - loss: 1.9395 - acc: 0.4000\n",
      "Epoch 64/100\n",
      "10/10 [==============================] - 1s 142ms/sample - loss: 1.9564 - acc: 0.4000\n",
      "Epoch 65/100\n",
      "10/10 [==============================] - 1s 137ms/sample - loss: 1.9428 - acc: 0.5000\n",
      "Epoch 66/100\n",
      "10/10 [==============================] - 1s 134ms/sample - loss: 1.9332 - acc: 0.4000\n",
      "Epoch 67/100\n",
      "10/10 [==============================] - 1s 144ms/sample - loss: 1.9068 - acc: 0.4000\n",
      "Epoch 68/100\n",
      "10/10 [==============================] - 1s 134ms/sample - loss: 1.8926 - acc: 0.5000\n",
      "Epoch 69/100\n",
      "10/10 [==============================] - 1s 137ms/sample - loss: 1.8841 - acc: 0.4000\n",
      "Epoch 70/100\n",
      "10/10 [==============================] - 2s 180ms/sample - loss: 1.8788 - acc: 0.5000\n",
      "Epoch 71/100\n",
      "10/10 [==============================] - 2s 202ms/sample - loss: 1.8660 - acc: 0.4000\n",
      "Epoch 72/100\n",
      "10/10 [==============================] - 2s 193ms/sample - loss: 1.8542 - acc: 0.5000\n",
      "Epoch 73/100\n",
      "10/10 [==============================] - 2s 211ms/sample - loss: 1.8440 - acc: 0.5000\n",
      "Epoch 74/100\n",
      "10/10 [==============================] - 2s 205ms/sample - loss: 1.8351 - acc: 0.5000\n",
      "Epoch 75/100\n",
      "10/10 [==============================] - 2s 192ms/sample - loss: 1.8303 - acc: 0.4000\n",
      "Epoch 76/100\n",
      "10/10 [==============================] - 2s 191ms/sample - loss: 1.8263 - acc: 0.4000\n",
      "Epoch 77/100\n",
      "10/10 [==============================] - 2s 190ms/sample - loss: 1.8137 - acc: 0.4000\n",
      "Epoch 78/100\n",
      "10/10 [==============================] - 2s 175ms/sample - loss: 1.8249 - acc: 0.4000\n",
      "Epoch 79/100\n",
      "10/10 [==============================] - 2s 172ms/sample - loss: 1.8203 - acc: 0.4000\n",
      "Epoch 80/100\n",
      "10/10 [==============================] - 2s 161ms/sample - loss: 1.7841 - acc: 0.4000\n",
      "Epoch 81/100\n",
      "10/10 [==============================] - 2s 172ms/sample - loss: 1.7738 - acc: 0.4000\n",
      "Epoch 82/100\n",
      "10/10 [==============================] - 2s 155ms/sample - loss: 1.7712 - acc: 0.4000\n",
      "Epoch 83/100\n",
      "10/10 [==============================] - 2s 170ms/sample - loss: 1.7618 - acc: 0.4000\n"
     ]
    },
    {
     "name": "stdout",
     "output_type": "stream",
     "text": [
      "Epoch 84/100\n",
      "10/10 [==============================] - 1s 149ms/sample - loss: 1.7521 - acc: 0.5000\n",
      "Epoch 85/100\n",
      "10/10 [==============================] - 1s 134ms/sample - loss: 1.7452 - acc: 0.4000\n",
      "Epoch 86/100\n",
      "10/10 [==============================] - 2s 152ms/sample - loss: 1.7306 - acc: 0.5000\n",
      "Epoch 87/100\n",
      "10/10 [==============================] - 1s 147ms/sample - loss: 1.7241 - acc: 0.4000\n",
      "Epoch 88/100\n",
      "10/10 [==============================] - 1s 133ms/sample - loss: 1.7411 - acc: 0.3000\n",
      "Epoch 89/100\n",
      "10/10 [==============================] - 1s 135ms/sample - loss: 1.7121 - acc: 0.5000\n",
      "Epoch 90/100\n",
      "10/10 [==============================] - 1s 132ms/sample - loss: 1.7245 - acc: 0.6000\n",
      "Epoch 91/100\n",
      "10/10 [==============================] - 1s 140ms/sample - loss: 1.7279 - acc: 0.4000\n",
      "Epoch 92/100\n",
      "10/10 [==============================] - 1s 140ms/sample - loss: 1.6909 - acc: 0.4000\n",
      "Epoch 93/100\n",
      "10/10 [==============================] - 1s 141ms/sample - loss: 1.6884 - acc: 0.5000\n",
      "Epoch 94/100\n",
      "10/10 [==============================] - 1s 142ms/sample - loss: 1.6809 - acc: 0.4000\n",
      "Epoch 95/100\n",
      "10/10 [==============================] - 1s 143ms/sample - loss: 1.6652 - acc: 0.4000\n",
      "Epoch 96/100\n",
      "10/10 [==============================] - 1s 142ms/sample - loss: 1.6519 - acc: 0.5000\n",
      "Epoch 97/100\n",
      "10/10 [==============================] - 2s 170ms/sample - loss: 1.6486 - acc: 0.5000\n",
      "Epoch 98/100\n",
      "10/10 [==============================] - 1s 145ms/sample - loss: 1.6551 - acc: 0.4000\n",
      "Epoch 99/100\n",
      "10/10 [==============================] - 1s 142ms/sample - loss: 1.6293 - acc: 0.5000\n",
      "Epoch 100/100\n",
      "10/10 [==============================] - 1s 144ms/sample - loss: 1.6216 - acc: 0.5000\n"
     ]
    },
    {
     "data": {
      "text/plain": [
       "<tensorflow.python.keras.callbacks.History at 0x26511230d48>"
      ]
     },
     "execution_count": 613,
     "metadata": {},
     "output_type": "execute_result"
    }
   ],
   "source": [
    "model = init_model()\n",
    "model.fit(X_train_pad, y_cat_train, epochs=100)"
   ]
  },
  {
   "cell_type": "code",
   "execution_count": 620,
   "metadata": {},
   "outputs": [],
   "source": [
    "examples2 = ['morning Deputy Dara Calleary tendered resignation Minister Agriculture Food Marine following attendance Oireachtas golf dinner Wednesday evening attendance event wrong error judgement part accepted resignation People country have made difficult personal sacrifices family lives businesses comply COVID-19 regulations event should gone ahead manner given Government decision last Tuesday Dara Calleary since first elected Dail Eireann remains committed dedicated public representative error judgement character made right decision country particularly light continued efforts suppress COVID-19',\n",
    "            'guidance anger detect deputy']"
   ]
  },
  {
   "cell_type": "code",
   "execution_count": 621,
   "metadata": {},
   "outputs": [],
   "source": [
    "examples2[0] = examples2[0].lower()"
   ]
  },
  {
   "cell_type": "code",
   "execution_count": 622,
   "metadata": {},
   "outputs": [],
   "source": [
    "examples=[]\n",
    "for example in examples2:\n",
    "    examples.append(example.split())"
   ]
  },
  {
   "cell_type": "code",
   "execution_count": 623,
   "metadata": {},
   "outputs": [
    {
     "data": {
      "text/plain": [
       "['guidance', 'anger', 'detect', 'deputy']"
      ]
     },
     "execution_count": 623,
     "metadata": {},
     "output_type": "execute_result"
    }
   ],
   "source": [
    "examples[1]"
   ]
  },
  {
   "cell_type": "code",
   "execution_count": 624,
   "metadata": {},
   "outputs": [
    {
     "name": "stderr",
     "output_type": "stream",
     "text": [
      "c:\\users\\psmag\\.venvs\\delphes\\lib\\site-packages\\ipykernel_launcher.py:5: DeprecationWarning: Call to deprecated `__getitem__` (Method will be removed in 4.0.0, use self.wv.__getitem__() instead).\n",
      "  \"\"\"\n"
     ]
    }
   ],
   "source": [
    "X_test = embedding(word2vec, examples)\n",
    "X_test_pad = pad_sequences(X_test, padding='post',value=-1000, dtype='float32')"
   ]
  },
  {
   "cell_type": "code",
   "execution_count": 625,
   "metadata": {},
   "outputs": [
    {
     "data": {
      "text/plain": [
       "array([[0.10833959, 0.08891478, 0.07604273, 0.12035228, 0.10818799,\n",
       "        0.09217536, 0.08763052, 0.10064937, 0.10162988, 0.11607757],\n",
       "       [0.10745704, 0.10042856, 0.10160366, 0.08884913, 0.09296093,\n",
       "        0.1151541 , 0.08331128, 0.11196935, 0.11317366, 0.08509227]],\n",
       "      dtype=float32)"
      ]
     },
     "execution_count": 625,
     "metadata": {},
     "output_type": "execute_result"
    }
   ],
   "source": [
    "model.predict(X_test_pad)"
   ]
  },
  {
   "cell_type": "code",
   "execution_count": null,
   "metadata": {},
   "outputs": [],
   "source": []
  }
 ],
 "metadata": {
  "kernelspec": {
   "display_name": "Python 3",
   "language": "python",
   "name": "python3"
  },
  "language_info": {
   "codemirror_mode": {
    "name": "ipython",
    "version": 3
   },
   "file_extension": ".py",
   "mimetype": "text/x-python",
   "name": "python",
   "nbconvert_exporter": "python",
   "pygments_lexer": "ipython3",
   "version": "3.7.7"
  },
  "toc": {
   "base_numbering": 1,
   "nav_menu": {},
   "number_sections": true,
   "sideBar": true,
   "skip_h1_title": false,
   "title_cell": "Table of Contents",
   "title_sidebar": "Contents",
   "toc_cell": false,
   "toc_position": {},
   "toc_section_display": true,
   "toc_window_display": true
  }
 },
 "nbformat": 4,
 "nbformat_minor": 4
}
