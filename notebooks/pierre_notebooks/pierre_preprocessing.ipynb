{
 "cells": [
  {
   "cell_type": "markdown",
   "metadata": {},
   "source": [
    "# Prétraitement des données"
   ]
  },
  {
   "cell_type": "markdown",
   "metadata": {},
   "source": [
    "## Suppression des ponctuations indésirables"
   ]
  },
  {
   "cell_type": "code",
   "execution_count": 1,
   "metadata": {},
   "outputs": [],
   "source": [
    "# Imports nécessaires\n",
    "import pandas as pd\n",
    "import numpy as np\n",
    "import string "
   ]
  },
  {
   "cell_type": "code",
   "execution_count": 2,
   "metadata": {
    "scrolled": true
   },
   "outputs": [
    {
     "data": {
      "text/html": [
       "<div>\n",
       "<style scoped>\n",
       "    .dataframe tbody tr th:only-of-type {\n",
       "        vertical-align: middle;\n",
       "    }\n",
       "\n",
       "    .dataframe tbody tr th {\n",
       "        vertical-align: top;\n",
       "    }\n",
       "\n",
       "    .dataframe thead th {\n",
       "        text-align: right;\n",
       "    }\n",
       "</style>\n",
       "<table border=\"1\" class=\"dataframe\">\n",
       "  <thead>\n",
       "    <tr style=\"text-align: right;\">\n",
       "      <th></th>\n",
       "      <th>mep_id</th>\n",
       "      <th>name</th>\n",
       "      <th>country</th>\n",
       "      <th>group</th>\n",
       "      <th>nat_group</th>\n",
       "      <th>twitter</th>\n",
       "      <th>content</th>\n",
       "    </tr>\n",
       "  </thead>\n",
       "  <tbody>\n",
       "    <tr>\n",
       "      <th>0</th>\n",
       "      <td>197490</td>\n",
       "      <td>Magdalena ADAMOWICZ</td>\n",
       "      <td>Poland</td>\n",
       "      <td>Group of the European People's Party (Christia...</td>\n",
       "      <td>Independent</td>\n",
       "      <td>Adamowicz_Magda</td>\n",
       "      <td>['W tym dniu, w tym miejscu, w tej godzinie pr...</td>\n",
       "    </tr>\n",
       "    <tr>\n",
       "      <th>1</th>\n",
       "      <td>189525</td>\n",
       "      <td>Asim ADEMOV</td>\n",
       "      <td>Bulgaria</td>\n",
       "      <td>Group of the European People's Party (Christia...</td>\n",
       "      <td>Citizens for European Development of Bulgaria</td>\n",
       "      <td>AdemovAsim</td>\n",
       "      <td>['RT @ECinBulgaria: 📢 Остана 1⃣ седмица! Преди...</td>\n",
       "    </tr>\n",
       "    <tr>\n",
       "      <th>2</th>\n",
       "      <td>124831</td>\n",
       "      <td>Isabella ADINOLFI</td>\n",
       "      <td>Italy</td>\n",
       "      <td>Non-attached Members</td>\n",
       "      <td>Movimento 5 Stelle</td>\n",
       "      <td>Isa_Adinolfi</td>\n",
       "      <td>[\"Sembra un film, ma purtroppo è realtà: le im...</td>\n",
       "    </tr>\n",
       "    <tr>\n",
       "      <th>6</th>\n",
       "      <td>125045</td>\n",
       "      <td>Clara AGUILERA</td>\n",
       "      <td>Spain</td>\n",
       "      <td>Group of the Progressive Alliance of Socialist...</td>\n",
       "      <td>Partido Socialista Obrero Español</td>\n",
       "      <td>ClaraAguilera7</td>\n",
       "      <td>['RT @ClaraAguilera7: Debate e importantes vot...</td>\n",
       "    </tr>\n",
       "    <tr>\n",
       "      <th>7</th>\n",
       "      <td>204335</td>\n",
       "      <td>Alviina ALAMETSÄ</td>\n",
       "      <td>Finland</td>\n",
       "      <td>Group of the Greens/European Free Alliance</td>\n",
       "      <td>Vihreä liitto</td>\n",
       "      <td>alviinaalametsa</td>\n",
       "      <td>['Toimeentulotukea korotetaan 75e koronakriisi...</td>\n",
       "    </tr>\n",
       "  </tbody>\n",
       "</table>\n",
       "</div>"
      ],
      "text/plain": [
       "   mep_id                 name   country  \\\n",
       "0  197490  Magdalena ADAMOWICZ    Poland   \n",
       "1  189525          Asim ADEMOV  Bulgaria   \n",
       "2  124831    Isabella ADINOLFI     Italy   \n",
       "6  125045       Clara AGUILERA     Spain   \n",
       "7  204335     Alviina ALAMETSÄ   Finland   \n",
       "\n",
       "                                               group  \\\n",
       "0  Group of the European People's Party (Christia...   \n",
       "1  Group of the European People's Party (Christia...   \n",
       "2                               Non-attached Members   \n",
       "6  Group of the Progressive Alliance of Socialist...   \n",
       "7         Group of the Greens/European Free Alliance   \n",
       "\n",
       "                                       nat_group          twitter  \\\n",
       "0                                    Independent  Adamowicz_Magda   \n",
       "1  Citizens for European Development of Bulgaria       AdemovAsim   \n",
       "2                             Movimento 5 Stelle     Isa_Adinolfi   \n",
       "6              Partido Socialista Obrero Español   ClaraAguilera7   \n",
       "7                                  Vihreä liitto  alviinaalametsa   \n",
       "\n",
       "                                             content  \n",
       "0  ['W tym dniu, w tym miejscu, w tej godzinie pr...  \n",
       "1  ['RT @ECinBulgaria: 📢 Остана 1⃣ седмица! Преди...  \n",
       "2  [\"Sembra un film, ma purtroppo è realtà: le im...  \n",
       "6  ['RT @ClaraAguilera7: Debate e importantes vot...  \n",
       "7  ['Toimeentulotukea korotetaan 75e koronakriisi...  "
      ]
     },
     "execution_count": 2,
     "metadata": {},
     "output_type": "execute_result"
    }
   ],
   "source": [
    "# Lecture et stockage de la base de données\n",
    "tweet_df = pd.read_csv('../../delphes/data/final2_clean.csv', index_col=0)\n",
    "tweet_df.head()"
   ]
  },
  {
   "cell_type": "code",
   "execution_count": 3,
   "metadata": {},
   "outputs": [],
   "source": [
    "# Remove the undesirable elements in the entire dataframe\n",
    "def rmurl_df(df, column_name):\n",
    "    '''\n",
    "    This function removes all the URLs, the #hashtag and the @user of a column made of strings.\n",
    "    Be careful to apply it BEFORE all the other preprocessing steps (if not it wont'\n",
    "    be recognized as a URL)\n",
    "    '''\n",
    "    df = df.copy()\n",
    "    df[column_name] = df[column_name].str.replace('http\\S+|www.\\S+|@\\S+|#\\S+', '', case=False)\n",
    "    return df\n",
    "\n"
   ]
  },
  {
   "cell_type": "code",
   "execution_count": 4,
   "metadata": {},
   "outputs": [],
   "source": [
    "# Lowercase the tweet's column\n",
    "def lower_df(df, column_name):\n",
    "    '''\n",
    "    This function lowercases a column made of strings.\n",
    "    '''\n",
    "    df = df.copy()\n",
    "    df[column_name] = df[column_name].str.lower()\n",
    "    return df"
   ]
  },
  {
   "cell_type": "code",
   "execution_count": 5,
   "metadata": {},
   "outputs": [],
   "source": [
    "# Remove the numbers in the tweet's column\n",
    "def rmnumbers_df(df, column_name):\n",
    "    '''\n",
    "    This function removes all the digits of a column made of strings.\n",
    "    '''\n",
    "    df = df.copy()\n",
    "    def remove_numbers(text):\n",
    "        return ''.join(word for word in text if not word.isdigit())\n",
    "    df[column_name] = df[column_name].apply(remove_numbers)\n",
    "    return df"
   ]
  },
  {
   "cell_type": "code",
   "execution_count": 6,
   "metadata": {},
   "outputs": [],
   "source": [
    "# Remove the undesirable punctuations in the tweet's column\n",
    "def rmpunct_df(df, column_name):\n",
    "    '''\n",
    "    This function removes all the punctuations of a column made of strings.\n",
    "    '''\n",
    "    punct = string.punctuation\n",
    "    df = df.copy()\n",
    "    def replace_punct(text):\n",
    "        for punctu in punct:\n",
    "            text = text.replace(punctu, ' ')\n",
    "        return text\n",
    "    df[column_name] = df[column_name].apply(replace_punct)\n",
    "    return df"
   ]
  },
  {
   "cell_type": "code",
   "execution_count": 7,
   "metadata": {},
   "outputs": [],
   "source": [
    "# Remove the undesirable emojis in the entire dataframe\n",
    "def rmemojis_df(df):\n",
    "    '''\n",
    "    This function removes all the emojis of a column made of strings.\n",
    "    Be careful to translate in latin alphabet before applying this function : \n",
    "    it also removes cyrillic alphabet\n",
    "    '''\n",
    "    df = df.copy()\n",
    "    df = df.astype(str).apply(lambda x: x.str.encode('ascii', 'ignore').str.decode('ascii'))\n",
    "    return df"
   ]
  },
  {
   "cell_type": "code",
   "execution_count": 8,
   "metadata": {},
   "outputs": [],
   "source": [
    "test_df = rmurl_df(tweet_df, 'content')"
   ]
  },
  {
   "cell_type": "code",
   "execution_count": 9,
   "metadata": {},
   "outputs": [
    {
     "data": {
      "text/plain": [
       "'[\\'W tym dniu, w tym miejscu, w tej godzinie proszę o jedno: nie o puste slogany a o zrozumienie, jak zaczyna się każd…  \\'RT  Bóg nie potrzebuje być przez nikogo broniony i nie chce, aby Jego imię było używane do terroryzowania ludzi. Proszę wszyst…\\', \\'Złożyłam wnioski do NSA o przyspieszenie rozpoznania moich skarg kasacyjnych oraz do Dyrektora Izby Administracji S…  \\'Gdyby empatia, dobroć i koncyliacyjność miały ludzką twarz, byłaby to twarz Twoja, Henryku. Spoczywaj w pokoju. \\\\nHenryk Wujec 1940-2020.\\', \\'Pomimo tego, że nie zgadzam się z interpretacją organu podatkowego, informuję, iż wszystkie podatki tuż po decyzji…  \\'W ogóle mnie nie dziwi, że od wczoraj treść zarzutów znają media rządowe i już wczoraj zadawały pytania, a ani ja a…  \\'W związku z informacjami o skierowaniu do sądu aktu oskarżenia przeciwko mnie, proszę o używanie mojego pełnego imi…  \\'Do tej pory nie ścigali przestępstw swoich aparatczyków wbrew prawu. Teraz to będą robili zgodnie z prawem. Ot lega…  \\'RPO  przed chwilą w  - to wystąpienie przejdzie do historii. Jakże mądre, jakże odważne, jakże…  \\'A wystarczyłoby wysłać jednego faceta na emeryturę i nagle się okaże, że nie ma żadnych wrogów religii, tradycji, n…  \\'Bardzo dziękuję rządowi PiS i PAD za to, że wzywa Łukaszenkę, aby przestrzegał rządów prawa, nie używał policji prz…  \\'RT  Law enforcement crackdown and  falsification must have consequences. We call for targeted  against…\\', \\'As a member of  I strongly condemn the use of force and weapons against protestors in  I urge t…  \\'I express my solidarity with the people of  My thoughts and prayers are now with you 🇵🇱🇪🇺  \\'Wolność to przyrodzone prawo każdego człowieka. Wolna Białoruś to polska racja stanu. Trzymam kciuki za Swiatłanę C…  \\'Nie cieszcie się, bo nie znacie dnia ani godziny, gdy to Wy staniecie się wrogiem tej władzy. Dziś LGBT, jutro KTOK…  \\'Dlatego właśnie każda demokracja potrzebuje niezależnych instytucji broniących obywateli przed władzą. Dziękuję…  \\'Gratuluję Panom  i  oraz Pani mecenas  wygranego boju o przełom w orzec…  \\'Wybieralni autokraci zawsze stosują ten sam trick: „przecież technicznie rzecz biorąc głosowanie było prawie demokr…  \\'„Tak mi dopomóż Bóg” wypowie PAD po przysiędze wierności Konstytucji. Czy to nie będzie obraza uczuć religijnych wo…  \\'Zaproszenia nie przyjmuję. Za łamanie konstytucji. Za dehumanizację osób LGBT. Za hejt. Za dewastację sądownictwa.…  \\'Dla bezpieczeństwa (też militarnego) RP, demokracja na Białorusi jest bezcenna. Niestety, PiS i PAD nie po drodze z…  \\'Zmarł Piotr Soyka. Wieloletni prezes Gdańskiej Stoczni Remontowej, wielki menedżer, wizjoner, laureat jednego z naj…  \\'Ważność wyboru prezydenta RP stwierdza Sąd Najwyższy. Przed chwilą wypowiedziała się IKNiSP, która nie jest sądem,…  \\'Szacunek wobec Powstańców, bezkresny żal po bezbronnych dzieciach na warszawskich barykadach, pamięć o każdej z 200…  \\'„5 lat konwencji w Polsce pokazuje, że ona wydaje dobre owoce. A Jezus mówi \"po owocach poznacie\". Jeżeli ktoś dzia…  \\'Mądrość bohaterek, które jak nikt inny wiedzą, do czego prowadzi szczucie ludzi na ludzi.  \\'Wykluczanie, stygmatyzacja i odczłowieczanie nigdy nie będzie miało nic wspólnego z wolnością poglądów, obroną trad…  \\'Czyli dla prokuratury Ziobry problemem nie jest zaszczuwanie w tvp. Problemem jest brak ochrony zaszczuwanego. Żniw…  \\'RT  Sprawozdanie zamkniętych oczu – tak nazwać można sprawozdanie PKW z wyborów. PKW zamknęła oczy na to, ze wybory były ni…\\', \\'Ideologia nienawiści i wykluczenia zawsze krzywdzi ludzi i prowadzi do tragedii. Dodatkowo już teraz przynosi mater…  \\'Nawet 500 kobiet rocznie traci życie w Polsce z powodu przemocy domowej – wg Centrum Praw Kobiet. A dzieci? A inne…  \\'Bezwzględna ochrona ofiar przemocy, zapobieganie tej przemocy, edukacja antyprzemocowa i równość - NIGDY nie będą w…  \\'Parlament Europejski to jedyny bezpośrednio wybrany, czyli najbardziej demokratyczny głos stojący na straży wartośc…  \\'465 posłów z całej UE na 682 głosujących, NIE akceptuje ustaleń szczytu. Dla jasności: polskich posłów z EPL i SD jest tylko 25 🤷🏻\\\\u200d♂️\\', \\'PILNE‼️💥 PE NIE zaakceptował dotychczasowych ustaleń szefów państw/rządów. UE musi być ambitna, dalekowzroczna, wsp…  \\'  Panie Arkadiuszu, o to właśnie teraz walczymy 💪🇵🇱🇪🇺\\', \\'‼️ Trwa głosowanie, ale to już prawie pewne: Parlament Europejski NIE akceptuje porozumienia politycznego Rady. M.…  \\'‼️Głosowania w PE trwają: Dobre wieści dla 🇵🇱. Dobre dla 🇪🇺. Złe dla PiS i Orbana.\\', \\'‼️Debata w PE: Ostatnią rzeczą, na którą możemy sobie teraz pozwolić to krótkowzroczność i nacjonalizmy: ambitne in…  \\'‼️ Debata w PE: Nie ma zgody Parlamentu na renacjonalizację unijnych pieniędzy oraz karmienie nimi nacjonalizmów. P…  \\'‼️ Debata w PE: Nie ma zgody Parlamentu na wydawanie unijnych pieniędzy bez przestrzegania praworządności. PE zażąd…  \\'Skoro szefowie rządów bardziej kupczyli i liczyli, to Parlament jutro bardziej przypomni o wartościach i klimacie,…  \\'Po co populistom nienawiść? O tym rozmawialiśmy. Mądrość i dojrzałość seniorów to najwspanialsza inspiracja. Cykl s…  \\' To prawda, że prawda sama się nie obroni 👍🇵🇱🇪🇺\\', \\'No co Ty,  Nie będziesz im przecież mówiła, że białe jest białe a czarne jest czarne! Gdy ktoś ślepo koc…  \\'Prawda leży tam, gdzie leży. W tym wypadku w konkluzjach po szczycie. I nie jest tym, o czym z taką euforią opowiad…  \\'Jako obwołana zdrajczyni Polski, solennie obiecuję, że już w czwartek będę walczyła o prawa obywatelskie wszystkich…  \\'Nieważne, że praworządności w Polsce już nie ma. Ważne, czy zostaniemy za to finansowo ukarani. Polska PiS 2020.\\', \\'Boję się uległości UE. Nie jej siły w walce z pisowskim bezprawiem. Parafrazując  🇵🇱🇪🇺\\', \\' Szanowna Pani, 82% to udział w posiedzeniach plenarnych, a nie nieobecność na nich. Poza tym sama obec…  \\'Rozpusta? Wymyślone ideologie? Obrazoburcze performanse? Pary jednopłciowe? Że niby to zagraża Kościołowi? To jak n…  \\'Reżimy autorytarne są albo prymitywne, albo wyrachowane. W tych drugich nie trzeba fałszować głosowań, żeby wygrywa…  \\'Gdyby burmistrzowie rządzili światem... To tytuł mądrej książki B. Barbera. W Polsce - moje marzenie ✌️🇵🇱🇪🇺\\\\nFoto:…  \\'TVP zainspirowała mordercę Pawła. Pozywa ludzi, którzy o tym mówią. Szczuje nas przeciw sobie. Za nasze 2 mld zrobi…  \\'Czy trzeźwy boi się alkomatu? Więc dlaczego PiS boi się uzależnienia funduszy UE od praworządności?\\', \\'Porażający raport o rządach PiS - systemowym bezprawiu i wypychaniu Polski poza nawias państw demokratycznych. TAK,…  \\'📢 Uwaga, MŁODZI❗️\\\\n\\\\nTrza! zmieniać Polskę❗️\\\\nTo Wasz kraj, to Wasza przyszłość i to Wasze działania mają Polskę zmien…  \\'Blamaż dyplomacji i służb PiS to jedno. Z angielskiego PAD nie drwię. Ale sytuacja, gdy głowa jakiegokolwiek państw…  \\'Modlitwą i myślami jestem z najbliższymi ofiar oraz poszkodowanymi w tragicznym wypadku autobusu w Mierzynie.\\', \\'Przepowiadanie historii nie jest proroctwem, tylko zrzędzeniem. Teraz czas na pełną mobilizację: za rogiem zamach na wolne media‼️ 🇵🇱🇪🇺\\', \\'RT  Chciałbym pogratulować Prezydentowi Dudzie uczciwie wygranych wyborów prezydenckich. Ale niestety nie mogę, bo były nieuczciwe.\\', \\'Wygrana Andrzeja Dudy może, ale nie musi być końcem demokracji w Polsce. Będzie, gdy uznamy, że wygrał uczciwie.\\', \\'Poddać się? Nigdy‼️ Wolne media, sądy, samorządy, prawa kobiet, LGBTQ, klimat, UE – ja będę broniła przyszłości Pol…  \\'Na końcu zawsze jest światło ❤️  \\'Gdańsk już nadchodzi‼️💪 Ale sami Polski nie obronimy. Poznań, Wrocław, Łódź, Kraków, Szczecin, Bydgoszcz, Białystok…  \\'Jeszcze nigdy wybór prezydenta Polski nie znaczył tak wiele i nie był tak prosty. ✌️🇵🇱🇪🇺❤️  \\'WIELKIE, kolorowe, różnorodne, piękne, wesołe i najbardziej morskie TRZA! w Polsce! Trójmiasto przesyła wspaniałą e…  \\'Andrzej Duda, 19 stycznia 2019 r. chciał siedzieć w I rzędzie na mszy św. pogrzebowej mojego męża, zamordowanego Pa…  \\'Miałam szczerą nadzieję, że PiS i ich telewizja opamiętają się. To co się teraz dzieje przekracza wszelkie granice. A więc przypominam:\\', \\' \\'Pomoc dla rolników to kwestia ich przetrwania. Pomoc odroczona to brak pomocy! Dlatego z 60 europosłami wnioskujemy…  \\'Idzcie i głosujcie w imię miłości a nie nienawiści, w imię dobra a nie zła, słuchając serca a nie szczucia. Dla Pol…  \\' Pani Moniko, jak nastroje w pięknym Krakowie?\\', \\'Jeszcze nigdy Polska nie straciła tak wiele w tak niewiele dni przez jednego człowieka.\\', \\'W Twojej wspólnocie od lat mieszka starszy, smętny kawaler. Nie ma przyjaciół, nie chodzi na zakupy, nigdy nie był…  \\'Kochająca się rodzina, najpiękniejsze, co można mieć ❤️❤️❤️  \\'Czyli STABILNY Duda poparł dziś „ideologię” LGBT, związki jednopłciowe, uchodźców, komuchów, warszawkę i krakówek?…  \\'Imagine ❤️  \\'5 lat temu zatrudniłaś/eś speca do remontu łazienki. Bo dużo gadał, że ta łazienka w ruinie. Teraz wszystko skute,…  \\'PiS zabrał samorządom po „100” zł. Teraz PMM jeździ po kraju za nasze pieniądze i rozdaje kartoniki z napisem „30”…  \\'„Jeśli wygra A. Duda, niewątpliwie stanie się coś bardzo złego. Pewien krąg działań antydemokratycznych prowadzącyc…  \\'Dziękuję Panu  za odwagę stania na straży prawdy! Przerażające jest jednak, że doszliśmy do absurdu, w któ…  \\'Proroka dziś spotkałam w Potęgowie❗️Widzicie bluzę? 😀 Dzięki Wójcie  ✌️  \\'PiS dla wygrania wyborów jest w stanie zrobić wszystko, łącznie z rozdrażnieniem JEDYNEGO sojusznika.  \\'\"Nigdzie nie jest powiedziane, że człowiek musi być zgodny z drugim, żeby go szanować\" - mówił śp. Władysław Bartos…  \\'„Władysław Bartoszewski i Tadeusz Mazowiecki byli ludźmi bardzo głębokiej wiary. Brzydzili się jednak wykorzystywan…  \\' To ja dziękuję! Zawsze do Was przyjeżdżam z radością ❤️ Cudne, polskie wybrzeże 👍🇵🇱🇪🇺\\', \\'   To ja dziękuję! Zawsze do Was przyjeżdżam z radością ❤️ Cudne, polskie wybrzeże 👍🇵🇱🇪🇺\\', \\'Rozmawiając zadaję proste pytanie: czy chcesz, żeby o WSZYSTKIM w Polsce decydowała tylko jedna osoba, niezależnie…  \\'Panie  taki obrazek dostałam ja,  i  od Pańskiego zagorzałego zwolennik…  \\'Nie „walczymy” o głosy. Rozmawiamy, przekonujemy i się uśmiechamy. I jest WIELKA MOC 🇵🇱🇪🇺 Luzino ❤️   \\'W strachu przed debatą nie chodzi o to, że padną nieznane pytania. Chodzi o to, że padną te znane, na które nie ma dobrej odpowiedzi.\\', \\'„Prognoza [Min. Fin.] zakłada spadek zatrudnienia o ponad 190 tys. etatów i wzrost rejestrowanego bezrobocia o 415…  \\'RT  Dziś rozmawiałem z  o demokracji w Polsce, o znaczeniu naszego kraju dla zjednoczonej Europy, a także o tym,…\\', \\'Apeluję, aby rząd RP poparł nasze  starania o utrzymanie lokalnego statusu dla polskich studentów w GB🇬🇧 p…  \\'Tak właśnie działa Bielan, pijarowiec Dudy. Ten, który nie pozwala Dudzie wziąć udziału w niezależnej debacie.\\\\n \\'Dla zaślepionych wyjaśniam: obrzydliwe jest ratowanie wizerunku Dudy w taki sposób. Nie oceniam prawdziwości zarzut…  \\'Obrzydlistwo‼️ BIELANska Fabryka Ściemy na pełnych obrotach: media zarzucają Dudzie, że ułaskawił pedofila, który z…  \\'Niezłomny, odważny, niezależny... Wyrób prezydentopodobny. Producent: Bielańska Fabryka Ściemy.\\\\n  \\'Monopol władzy, to władza niekontrolowana. Taka władza działa ZAWSZE źle – tak twierdzi Jarosław Kaczyński. Do symp…  \\'Co zyskujesz głosując na Dudę? Nic. Co tracisz? Demokrację. A głosując na Trzaskowskiego? Nic nie tracisz, a odzysk…  \\'RT  Wierzę w Was. Wierzę w nas. Wierzę w Polskę!✌🏻🇵🇱  \\'„Mężczyzno”... nawet bym tego nie chciała! Podpowiadam jedynie, że głosując na Dudę, kuku sami sobie zrobicie. Więc…  \\'Do wyborców  Waszym KONKURENTEM jest tylko PiS (wyborców PO nie przekonacie). Waszym egzystencjalny…  \\'RT   stchórzył. Nie przyjdzie na debatę   i  Walkower dla  1:…\\', \\' stchórzył. Nie przyjdzie na debatę   i  Walkower dla  1:0 👍🇵🇱🇪🇺\\', \\'Dlaczego zagłosuję na  bo chcę, żeby pieniądze na szkołę, dla nauczycieli, na lokalne drogi, par…  \\'Mam do  proste pytanie – czy jest dumna, że złamała prawo i konstytucję po to, aby do TK wepchnąć swoic…  \\'Dlaczego zagłosuję na  bo chcę, aby 500+ naprawdę poprawiło poziom życia polskich rodzin, a nie…  \\'RT  Kochani‼️ Polska, my wszyscy możemy mieć wspaniałego Prezydenta i cudowną, ciepłą i bardzo mądrą Pierwszą Damę. Możemy…\\', \\'Kochani‼️ Polska, my wszyscy możemy mieć wspaniałego Prezydenta i cudowną, ciepłą i bardzo mądrą Pierwszą Damę. Moż…  \\'ZDECYDOWANA większość Polek i Polaków powiedziała dziś  Już za 2 tyg. wygra Polska mądra, uśmiechnięta, o…  \\'Gdańsk‼️ Czas na Twój potężny ryk! Dajce głos! W imię demokracji. W imię Pawła. W imię Polski‼️  \\'Spełniłam obowiązek. Z przyjemnością 🇪🇺🇵🇱 \\\\n  \\'Dziś każdy głos jest decydujący. KAŻDY! A Twój najbardziej! To Ty zdecydujesz o Polsce. Zagłosuj.\\\\n  \\'Polska 2020... susza i burze piaskowe, a teraz powodzie błyskawiczne. A dla PiS zmiany klimatu to nie kryzys, to id…  \\'Czy to TVP Info w ciszy wyborczej? Bo filtr rodzicielski mam włączony i nie mogę sprawdzić... 😉   \\'Jeden krzyżyk przy  a milion powodów!  \\'Czas jasno powiedzieć: potrzebujemy głowy państwa, a nie ręki prezesa. Potrzebujemy silnego prezydenta polskiej wsp…  \\'Wiem na pewno, że na koniec Jego marzenia się spełnią 🖤 \\\\nMy je spełnimy!  \\'W najbliższą niedzielę to 👉Ty wybierzesz przyszłość Polski 🇵🇱🇪🇺‼️ Pamiętaj, że:  \\'Duda - tłiterowy koordynator akcji ratunkowej, przekroczył dziś kolejne granice. Niech każdy sobie odpowie, czego.\\', \\'Wyborcy PiS! \"Tym razem rzeczywiście żadnych umów nie było\" przyznał Duda. A jego PR zrobił z Was znów \"ciemny lud,…  \\'Trump właśnie potwierdził, że zredukuje siły USA w Niemczech z 52 tys. do 25 tys. Do Polski trafi z tego 1 tys. Dud…  \\'Zobaczcie, co oni dziś z własnym prezesem zrobili, który o wolności mówił... 🤦\\\\u200d♀️ A „być wolnym, to móc nie kłamać”…  \\'Kochani zwolennicy PiS: tego w Waszym TVPiS się nie dowiecie, a warto:\\\\n \\'W najbliższą niedzielę to 👉Ty wybierzesz przyszłość Polski 🇵🇱🇪🇺‼️ Pamiętaj, że:  \\' \"często jest, że ktoś słowem złym zabija tak, jak nożem\".\\', \\'Mam się cieszyć? Z tego, że zamiast spalić się ze wstydu, nadal sieją hejt, że trzeba prawdy o morderstwie Pawła w…  \\'W najbliższą niedzielę to 👉Ty wybierzesz przyszłość Polski 🇵🇱🇪🇺‼️ Pamiętaj, że:  \\'„Nie widzę powodu, żeby wplątywać Polskę w kłótnię między Trumpem a Merkel” - mówi Daniel Fried, amerykański dyplom…  \\'RT  Niektórym się wydaje, że coś im się \"po prostu należy\". Może należy się zastanowić? Przemyśl to. Najlepiej do 28 czerwca.…\\', \\'Podobno TVPiS pisze o potrzebie zahamowania hejtu i przemocy w polityce... Bolszewicy mówili o potrzebie obrony rob…  \\'Zybertowicz w  znowu o „ideologii” LGBT. Że jest krytyczna wobec rodziny. Czyli walczą o prawo do legali…  \\'(1z5 serii  najbliższą niedzielę to 👉Ty wybierzesz przyszłość Polski 🇵🇱🇪🇺‼️ Pamiętaj, że:  \\'Sztab Dudy za pomocą pozwu chciał ocenzurować prawdę. Nie dość, że przegrał, to jeszcze cała Polska dowiedziała się…  \\'Europoseł Szydło na czele akcji ratowania... wizerunku Dudy, bo nie dobytku.   \\'Ministrowie i premier zamiast kierować akcją ratunkową, rozdają po kraju ulotki Dudy. Na szczęście, nagle zjawia si…  \\'Gubię się: czy my wybieramy wójta, min. infrastruktury, komendanta straży pożarnej, a może biskupa? Bo jeżeli prezy…  \\'Cyt.: „są dwa wyjścia: albo kłamie, albo jest niezrównoważony, skoro zmienia zdanie z dnia na dzień”. Doskonale pas…  \\'Pan Hołownia rośnie na antypartyjniactwu w imię ratowania Polski, a tak naprawdę buduje swoją partię mocno ryzykują…  \\'Demokrata Joe Biden będzie najpewniej nowym prezydentem USA. Dziś Demokraci mówią o Dudzie „autokrata” i żądają odw…  \\'Szef Komisji Spraw Zagranicznych Izby Reprezentantów żąda odwołania wizyty Andrzeja Dudy w USA jako „lidera, który…  \\'RT  Bruksela walczy‼️                                     \\'Transmisję spotkania Trump-Duda oglądajcie w TVN albo Polsacie. W  będzie momentami czarno-biała.  \\'Cyrk w tvpis nazywany fałszywie „debatą” to idealny przykład manipulacji. Do czego to prowadzi, mówiłam dziś w wyst…  \\'Wbrew NATO, wbrew europejskim sojusznikom, grubo przepłacając będziemy wykorzystani do rozgrywki Trump-Merkel. Tak…  \\'Nagle maseczki i rękawiczki. 10 dni do wyborów, kampania w rozsypce, sondaże w dół, debata skompromitowała układ Pi…  \\'„Czyż demokratycznymi można nazwać wybory oparte na nieprawdzie, manipulacji, ograniczaniu dostępu do rzetelnej inf…  \\'Krzyżówkę rozwiązuję: silny prezydent na 5 liter? Duda za mało a Andrzej za dużo... \\\\n \\'RT  Czy nieszczepione dzieci homoseksualnych par uchodźców powinny otrzymywać na I komunie sw złotówki czy eur?\\', \\'Pytania  kult niewiedzy i  nienawiści.\\', \\' w  Przy niej, debata Wałęsa-Miodowicz to wzorzec równych szans i sensu takich debat. St…  \\'Przed dzisiejszą „debatą” w TVP mam do prowadzących i Andrzeja Dudy tylko dwa słowa: Paweł Adamowicz\\', \\'„USA potępiają dyskryminację i nienawiść na tle orientacji seksualnej”. Czekamy już tylko na oklaski z Kremla.  \\'„Ten, kto zamknął się w nienawiści, już się skończył!”. Kardynał Stefan Wyszyński \\\\n  \\'Członkowie PiS i zjednoczonej prawicy, działacze i popierający Dudę: bezwzględni spindoktorzy wplątali Was w nazist…  \\'RT  We fully support  to become the next President of Poland! He is a strong &amp; independent leader who can reunit…\\', \\'Bez wolnych i niezależnych mediów stracimy możliwość dokonywania wolnych i demokratycznych wyborów.  \\\\n \\'RT  🔴 NA ŻYWO: posiedzenie Komisji  - przedstawienie projektu raportu ws. wolności mediów, mowy nienawiści i dezinf…\\', \\'Dziś na  przedstawiłam mój raport ws. wolności mediów w UE: Wybory z nienawiści, oparte na braku informa…  \\'Moja ukochana babcia Stefania (nr obozowy 26926) i jej mama Marysia (nr obozowy 26925) były więźniarkami KL…  \\' Czas na silny  za ten hejterski wrzask!  \\'Dziś już nie chodzi o to, czy prezydent RP jest prezydentem wszystkich Polaków. Dziś chodzi o to, żeby prezydent RP…  \\'Smutny, bardzo smutny obraz upadku najgorszego prezydenta RP w naszej historii. Czas na wielki  na ten hejte…  \\'Zwracam się do Pani Redaktor Katarzyny Kolendy-Zaleskiej  Najprościej jak można, wyrażam dla Pani najwięk…  \\'Wykrzyczeć do połowy Polaków „zdradzieckie mordy chamskiej hołoty komunistów i złodziei”, a potem schować się za ko…  \\'Przypomnę: PiS przejął prawie całą władzę. Demokracji broni już tylko Senat (1 głos przewagi) i RPO (zostały 3 mce)…  \\'Uwaga! NIE dajcie się wykorzystać PiSowskiej propagandzie! „Tęczowe disco pod pałacem prezydenckim” to ustawka! Na…  \\' Nie spocznę póki z nienawiści robi się oręże walki politycznej!\\', \\'Dwie ideologię są w Polsce zakazane: faszystowska i komunistyczna. Obie prześladowały i eksterminowały homoseksuali…  \\'„Homoseksualiści zagrażają naszym rodzinom, dzieciom, większości narodu\" - Heinrich Himmler, szef SS i Gestapo. Chc…  \\'Podobno Andrzej Duda powiedział dziś do Pana Obywatela, że TVP ma misję? Już to mówiłam do wszystkich. Powiem teraz…  \\'Sędzia Igor Tuleya w punkt: „Zarzucono mi czyn, który nie jest przestępstwem, moja sprawa trafiła do sądu, który ni…  \\'Do mediów i komentatorów: Nie było dziś \"decyzji Izby Dyscyplinarnej SN\", bo nie może być decyzji czegoś, czego nie…  \\'Tę władzę, jak każdy rodzący się autorytaryzm, można zatrzymać tylko wielkim oporem społecznym. Teraz jeszcze można…  \\'Gdańsk  W demokratycznym państwie prawa orzeczenia sądów można podważyć tylko w wyższej instancji są…  \\' to murem za demokracją, to murem za prawem do sądu niezależnego a nie partyjnego. To murem za polską…  \\'Przywróćmy porządek rzeczy: Andrzej Duda nie może być prezydentem, bo parafował demolowanie demokracji w Polsce, a…  \\'Maturzyści  Nie trzymam kciuków, żebyście zdali, bo zdacie. Lepiej, trochę gorzej, teraz albo później,…  \\'Czy  zamienił się dziś redaktorami z tvpis? Czy live z  to za duże oczekiwanie wobec „pierwsz…  \\'Dziś słoneczna Gdynia. Uśmiechy i wielka energia. Jak wiatr od morza 👍💪    \\'Polską rządzą bezwzględni kuglarze naszych emocji. Każą nam nienawidzić albo kochać. A politycy, ci niby najważniej…  \\'Zbudujemy od nowa Wspólnotę. Prawdziwą RzeczPOSPOLITĄ. Idziemy po zwycięstwo, wszyscy razem!\\\\n  \\'W Sejmie znowu co drugie zdanie \"nasze lepsze niż wasze\". My i wy. Rzecznasza i Rzeczwasza. A może tak wreszcie Rze…  \\'3 dni przed śmiercią Paweł napisał o  \"Uczcijmy narodziny wolnej Polski, które symbolicznie wiążemy ze zw…  \\'Miało być „od słów do czynów”, a jest „od słów do stand-upów”. Kosztownych. Bo to pewnie ze 100 tys. NAS kosztuje.…  \\'Negacjonista ocieplenia klimatu i piewca brudnej energii będzie kopał oczka wodne przy każdym domu walcząc z suszą.…  \\'„Wszyscy powinniśmy być razem. Trzeba powiedzieć dość nienawiści, kłamstwu, hejtowi. Dzisiaj potrzebujemy solidarno…  \\'„Życie się składa ze złudzenia wieczności i z przerażającej utraty tego złudzenia”. Jerzy Pilch. R.I.P.\\', \\'\"Nigdy nie zapomnimy o wkładzie Pawła Adamowicza, który reprezentował fundamentalne wartości europejskiego pokoju,…  \\'Wreszcie. Rozróżniać wolność słowa od siania nienawiści i prowokowania przemocy. O to mi chodzi w Imagine There’s N…  \\'- Andżejku (sic!), Mateuszku!\\\\n- Tak psze Pani?\\\\n- Widzę, że jesteście nierozłączni\\\\n- Tak, nikt nam nie podskoczy!\\\\n-…  \\'Związkowcy z  zawiadomili prokuraturę o możliwości popełnienia przez zarząd przestępstwa wyprowadzenia…  \\'- Andżejku, Mateuszku!\\\\n- Tak mamusiu? \\\\n- Mam dla was 63 cukierki\\\\n- Wow! Pochwalimy się kolegom!\\\\n- Chwileczkę. Czy m…  \\' - krzyczę to w imię pełnej solidarności z wszystkimi poniżanymi, obrażanymi i pozbawianymi godności LUD…  \\'Prezydent zaprasza panów Bosaka i Biedronia. Umawiają się: marsze równości bez szydzenia z katolików i bez obscenic…  \\'„Samorząd to wspólnota. Demokracja to więź międzyludzka. Bez pogardy i wdeptywania przeciwnika w ziemię”. Posłuchaj…  \\'Do każdego hejtera, który pomyśli albo nie daj Boże napisze, że to Pan Prezydent dr Andrzej Duda powinien stanąć w…  \\' Na wstyd środowiska nie liczę. Współczuję wstydu osobistego, bo jego się nie zagada w żaden sposób.\\', \\'Stanowisko można przejąć siłą, podstępem, dać się wepchnąć albo przepchnąć. Tylko co z tym wstydem potem zrobić...\\\\n \\'Rzecznik rządu: \"Nie chodzi o to, aby nie było nowych zachorowań, wystarczy, że nie brakuje respiratorów. A premier…  \\'„Twój pedofil jest lepszy niż mój” - stan polskiej debaty publicznej A.D. 2020.   \\'W ciągu ostatnich 5 lat Polska spadła z 18. na 62. miejsce na  światowej liście wolności prasy. Unieważnić? Czekam…  \\'„Najpierw cię ignorują, potem się z ciebie śmieją, potem cię zwalczają, potem wygrywasz” - Mahatma Gandhi. \\\\n \\'RT  Rafał Trzaskowski ma rację- fundamentem życia publicznego w Polsce, jeśli ma ono być normalne i Polska ma być normalna, nie…\\', \\'Zbudować pomnik, nadać imię, ubóstwiać albo potępiać. To tylko potrafimy. Zrozumieć słowa, naprawić błędy - tego pe…  \\'  Wygramy Panie Profesorze!\\', \\'  PISTroli nie dotyczy\\', \\'  PISTroli nie dotyczy\\', \\'  Jak przyjdziesz to będziesz\\', \\'  PISTroli nie dotyczy\\', \\'  PISTroli nie dotyczy\\', \\' A chcesz Mu coś powiedzieć?\\', \\'  PISTroli nie dotyczy\\', \\'    To ten święty obraz daje taką moc i odwagę\\', \\' PISTroli nie dotyczy\\', \\'  PISTroli nie dotyczy\\', \\' PISTroli nie dotyczy\\', \\' PISTroli nie dotyczy\\', \\' Widzę, że 🇵🇱 kochasz i 👨\\\\u200d👩\\\\u200d👧\\\\u200d👦, a spojrzysz w wigilijny wieczór moim córkom w oczy?\\', \\'  Tomku trzeba zatrzymać truciznę nienawiści szerzącą się w TVPis.\\', \\' Stop truciźnie nienawiści szerzącej się w TVPis.\\', \\' Wygramy\\', \\'  Rafał musi wygrać, to początek zmian i powrotu do normalności. Wtedy zmienią się i media.\\', \\' Ciebie tez zapraszam. Przyjdź i spójrz w oczy moich córek\\', \\' ”Nie będziemy dłużej obojętni na panosząca się truciznę nienawiści w mediach....” Szybko zapomnieliśmy.\\', \\'Każdego, kto broni TVP zapraszam do mnie na Wigilię w tym roku.  \\'Międzynarodowy Dzień Przeciw Homofobii, Transfobii i Bifobii -czyli przeciw nienawiści, uprzedzeniom, prześladowani…  \\'RT  Piosenka \"Twój ból jest lepszy niż mój\" nie jest groźna dla PiS przez groteskowe zamieszanie z listą przebojów. Jest g…\\', \\'Święte oburzenie, gromkie oświadczenia, buńczuczne przyrzeczenia... I co? I nic! Jesteśmy wszyscy odpowiedzialni, ż…  \\'Że nowoczesny, że uśmiechnięty, że nie wyklucza kogokolwiek, że europejski, że szanuje partnerów? Właśnie tak! Taka…  \\'Panie premierze  i Panie ministrze  nie widzicie jaki chaos robicie z  To je…  \\'Będzie potężny wstrząs. Raport komisji LIBE Parl. Europ. to całościowy obraz bezprawia PiS i wniosek o twarde dział…  \\'Ostry cień mgły z Kremla właśnie sięgnął SN \\\\n  \\'Nie czołgami ani zielonymi ludzikami, a nienawiścią sianą przez swoich pożytecznych idiotów Putin nas już podbił. M…  \\'80 mln istnień ludzkich... Ofiar nienawiści i pogardy do ludzi wyhodowanej na głębokim zakompleksieniu z dzieciństw…  \\'Kamień na kamieniu nie został z państwa prawa i demokracji. Kto wygrał, kto przegrał - dziecinada w piaskownicy a n…  \\'Przelać własne szambo a potem opróżnić je granatem. Geniusz strategii politycznej podpisał ugodę z polskim prawie-S…  \\'\"Jak Duda wygra wybory, to będą nielegalne, niekonstytucyjne i nie można będzie uznać ich wyniku, a jak wygra Hołow…  \\'RT  On  Adamowicz states: \"The re-shaping of the public broadcaster into pro government propaganda media reminds one of the…\\', \\'PiSowcy broniący gejów to jak wilcy na straży owiec... Ale i tak dziękuję - praw osób LGBT musimy bronić wszyscy. P…  \\'Mieszanina pożytecznych idiotów Moskwy, tchórzy, leni, cyników, karierowiczów, złoczyńców i tłuszczy oślepionej nie…  \\'Pan Zaradkiewicz porzuca zawód sędziego?!  \\'Brak wody i kryzys klimatyczny, potężna recesja, szczepionka na koronawirusa, epidemia raka, Chiny, Rosja... A PiS…  \\'\"Zaradkiewicz-prawnik, w latach 2017-20 wziął udział w pełzającym zamachu stanu dokonanym przez układ Kaczyńskiego.…  \\'Sąd Najwyższy kierowany przez 6 lat przez prof. dr hab. Małgorzatę Gersdorf pokazał, że Polska może być wzorem nawe…  \\'RT  „Nowe prawo o sądownictwie podważa niezależność Polskich sędziów i jest niezgodne z prawem UE”\\\\n\\\\nKomisja Europejska staj…\\', \\'Dlaczego Kaczyński chce mieć kopertowo obsadzonego Dudę, skoro może mieć legalnie wybranego prezydenta Dudę? Że boi…  \\'Jeżeli polska demokracja zależy od wallenrodyzmu  i  to powtórzę słowa prof. Strze…  \\'3xNIE Nielegalna, Niebezpieczna, Nieprzyzwoita. Taka będzie 10 maja „procedura głosowania”, bo przecież nie wybory.  \\'Panie Profesorze, od dawna jesteśmy w matni, coraz głębiej, coraz bardziej beznadziejnie. Ale ja wierzę, a nawet wi…  \\'\"Ja nie będę głosował. Nie mogę legalizować tego bezprawia.\" - sędzia Hermeliński, onegdaj promowany przez obu brac…  \\'...różne pomysły na Polskę, wymiana argumentów a nie sianie hejtu, spokojne wybory, legalny prezydent, prawdziwa pr…  \\'Twój PESEL, data ur., adres, imiona i nazwisko... To krąży teraz zwykłymi mailami i trafi do Poczty, a potem...  Op…  \\'Wiarygodność Sasina i PiS: \"Mogę to zagwarantować. Spółki Skarbu Państwa nie będą więcej importować węgla\" - przyrz…  \\'          Chodzi o EP \\'Jesteśmy w przeddzień pierwszych po \\\\\\'89 r. nielegalnych wyborów w RP. To już nie tylko Polexit ale \"exit\" z grona p…  \\'Po ’89 nie zawsze wybieraliśmy mądrze, ale zawsze legalnie. Teraz wybierzemy nielegalnie, więc nie ma znaczenia, cz…  \\'Primo Levi: „To się wydarzyło. To znaczy, że się może wydarzyć wszędzie...”. Kiedy nienawiść do innych zabija człow…  \\'Trudno wyobrazić sobie coś bardziej odrażającego: medycy narażają swoje życie, żeby ratować nasze, a spotyka ich he…  \\'Skutki rządów PiS będą analogiczne do rządów PRL, które doprowadziły do nałożenia na Polskę sankcji przez demokraty…  \\'Dziś w PE: setki miliardów EUR na sprzęt medyczny i wielki program odbudowy gospodarki. Ale także ostre skarcenie P…  \\'Wódz przemówił: poza gospodarką UE nie jest potrzebna i ma się nie wtrącać. Cóż... O ile władza prezesa otwiera zam…  \\'RT   Nie wiemy jeszcze, kiedy ten kryzys się skończy. Ale aby upewnić się, że wyjdziemy z niego…\\', \\'Wielkanoc to nadzieja na nowy początek, nowe życie, światło po ciemności. Tego my wszyscy tak bardzo potrzebujemy,…  \\'Dziesięć lat po. I znów zamiast modlitwy za zmarłych, wzmaga fala nienawiści, kłamstw i brudnej polityki. Znowu dzi…  \\'Nielegalne: TK, KRS, Izba Dyscyplinarna SN, sejm i prezydent łamiący Konstytucję a za chwilę nielegalnie obsadzony.…  \\'RT  On  our thoughts are with those who are working on the frontline to keep us safe and healthy🏥. During these t…\\', \\'Nielegalnie powołany (bo nie wybrany)  w niczym nie będzie gorszy od prezydenta Dudy wybranego legalnie…  \\'Trauma pandemii nie usprawiedliwia agresji i hejtu: wobec zakażonych i ich rodzin, nauczycielek z lekcji TVP, polic…  \\'A mogłoby być normalnie w tych nienormalnych czasach, gdyby rządzili normalni politycy: stan klęski, doraźna pomoc…  \\'Wybory? Dolary przeciw orzechom: Kaczyński tonie a wokół niego już wojna o schedę. Wódz układu PiS nie ma już siły…  \\'Liberał  poskąpił pomocy dla polskich firm i ludzi. Po  będzie katastrofa gosp.: firmy z…  \\'Chóry anielskie od dziś pod batutą Maestro Krzysztofa Pendereckiego. Twoja muzyka  to światowe dziedzictwo, na zaws…  \\'Masz mniej niż 60 lat, astmę, alergię, nadciśnienie, miażdżycę, cukrzycę, raka, jesteś po przeszczepie, leżysz pod…  \\'Rzym sprzed 2 tys. lat, rozbiory, II wojna, nacjonalistyczny atak na UE... Złotouści, pełni patosu. A lekarzom brak…  \\'RT  “We welcome the decision taken to redirect €37bill of  under the  Response Investment Initiative to…\\', \\'Ważne decyzje w Parlamencie Europejskim w trybie pilnym: 👉37 mld Euro z Funduszy Strukturalnych, 👉800 mln Euro z Fu…  \\' zdecydował w trybie pilnym (art. 163 Regulaminu PE) rozpatrywać ważne dla całej UE propozycje KE na walkę z kor…  \\'Już jutro nadzwyczajne posiedzenie Parlamentu Europejskiego. Najpierw debata, a później głosowanie nad pakietem trz…  \\'Kiedy już to przetrwamy musimy zmienić podejście do naszego państwa. Dość głupiego politykierstwa i marnowania pien…  \\'Dzisiejsze wybory uzupełniające! To jest plucie w twarz lekarzom walczącym o życie zakażonych! To jest zbrodnia na…  \\'Dziś o 17:00 w oknach i na balkonach dziękujemy personelowi medycznemu! Proszę okażmy nas…  \\'Lekarze, pielęgniarki, ratownicy medyczni, diagności, aptekarze, salowe, personel sprzątający, sprzedawcy w sklepac…  \\' Najszczersze wyrazy współczucia.\\', \\'3 razy szybszy i bardzo dokładny. Nowy test na  Trzymajmy mocno kciuki za naukowców ale też SAMI BĄDŹM…  \\'Jesteście dziś jednymi z bohaterów💪 Bez Waszej pracy nie dalibyśmy rady. Dziękujemy🙂  \\'Mają być dziesiątki tysięcy zarażonych, tysiące ciężko chorych, setki umierających i setki tysięcy na przymusowej k…  \\'Unia Europejska podejmuje ważne decyzje w ochronie nas wszystkich. Dziś musimy być przede wszystkim solidarni i sku…  \\'7,5 mld Euro na walkę z  dla Polski z Unii Europejskiej dzięki uelastycznieniu procedur budżetowych!…  \\'RT  Apeluję do rządu o uruchomienie programu powszechnego dostępu do testów na  Naszym obywatelskim prawem jest w…\\', \\'Zdrowie najważniejsze. Ale bezpieczeństwo Polek i Polaków wobec pandemi koronawirusa to także przeciwdziałanie groź…  \\'Wysłuchanie przed TSUE: Komisja Europejska oskarża rząd PiS. Wspiera ją  Belgia, Holandia,…  \\'Czy Pana „brutalna szczerość” dotyczy też: Małgorzaty Gosiewskiej, Beaty Gosiewskiej, Magdaleny Merty, Jacka Świata…  \\'Panie red., nie „wyjechałam za granicę dzięki wpisaniu na listę PO” tylko zostałam wybrana do PE głosami 200 tys. P…  \\' Panie red.  nie „wyjechałam za granicę dzięki wpisaniu na listę PO” tylko zostałam wybran…  \\'Ogromne Gratulacje❗️ Jesteście cudowni❤️  \\'Dzięki   i  przestępcy mogą spać spokojnie. W razie czego wystarczy, że wyjadą za grani… '"
      ]
     },
     "execution_count": 9,
     "metadata": {},
     "output_type": "execute_result"
    }
   ],
   "source": [
    "test_df['content'][0]"
   ]
  },
  {
   "cell_type": "code",
   "execution_count": null,
   "metadata": {},
   "outputs": [],
   "source": []
  }
 ],
 "metadata": {
  "kernelspec": {
   "display_name": "Python 3",
   "language": "python",
   "name": "python3"
  },
  "language_info": {
   "codemirror_mode": {
    "name": "ipython",
    "version": 3
   },
   "file_extension": ".py",
   "mimetype": "text/x-python",
   "name": "python",
   "nbconvert_exporter": "python",
   "pygments_lexer": "ipython3",
   "version": "3.7.7"
  },
  "toc": {
   "base_numbering": 1,
   "nav_menu": {},
   "number_sections": true,
   "sideBar": true,
   "skip_h1_title": false,
   "title_cell": "Table of Contents",
   "title_sidebar": "Contents",
   "toc_cell": false,
   "toc_position": {},
   "toc_section_display": true,
   "toc_window_display": true
  }
 },
 "nbformat": 4,
 "nbformat_minor": 4
}
