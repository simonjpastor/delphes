{
 "cells": [
  {
   "cell_type": "code",
   "execution_count": 1,
   "metadata": {
    "ExecuteTime": {
     "end_time": "2020-09-07T15:35:22.641812Z",
     "start_time": "2020-09-07T15:35:22.249161Z"
    }
   },
   "outputs": [],
   "source": [
    "import numpy as np\n",
    "import pandas as pd\n",
    "from googletrans import Translator"
   ]
  },
  {
   "cell_type": "code",
   "execution_count": 2,
   "metadata": {
    "ExecuteTime": {
     "end_time": "2020-09-07T15:35:22.761151Z",
     "start_time": "2020-09-07T15:35:22.643322Z"
    }
   },
   "outputs": [
    {
     "name": "stdout",
     "output_type": "stream",
     "text": [
      "ls: cannot access '../delphes/data/': No such file or directory\r\n"
     ]
    }
   ],
   "source": [
    "!ls ../delphes/data/"
   ]
  },
  {
   "cell_type": "code",
   "execution_count": 3,
   "metadata": {
    "ExecuteTime": {
     "end_time": "2020-09-07T15:35:23.366224Z",
     "start_time": "2020-09-07T15:35:23.218217Z"
    }
   },
   "outputs": [],
   "source": [
    "df = pd.read_csv('../../delphes/data/final2_clean.csv')"
   ]
  },
  {
   "cell_type": "code",
   "execution_count": 4,
   "metadata": {
    "ExecuteTime": {
     "end_time": "2020-09-07T15:35:23.683301Z",
     "start_time": "2020-09-07T15:35:23.657185Z"
    },
    "scrolled": true
   },
   "outputs": [
    {
     "data": {
      "text/html": [
       "<div>\n",
       "<style scoped>\n",
       "    .dataframe tbody tr th:only-of-type {\n",
       "        vertical-align: middle;\n",
       "    }\n",
       "\n",
       "    .dataframe tbody tr th {\n",
       "        vertical-align: top;\n",
       "    }\n",
       "\n",
       "    .dataframe thead th {\n",
       "        text-align: right;\n",
       "    }\n",
       "</style>\n",
       "<table border=\"1\" class=\"dataframe\">\n",
       "  <thead>\n",
       "    <tr style=\"text-align: right;\">\n",
       "      <th></th>\n",
       "      <th>Unnamed: 0</th>\n",
       "      <th>mep_id</th>\n",
       "      <th>name</th>\n",
       "      <th>country</th>\n",
       "      <th>group</th>\n",
       "      <th>nat_group</th>\n",
       "      <th>twitter</th>\n",
       "      <th>content</th>\n",
       "    </tr>\n",
       "  </thead>\n",
       "  <tbody>\n",
       "    <tr>\n",
       "      <th>0</th>\n",
       "      <td>0</td>\n",
       "      <td>197490</td>\n",
       "      <td>Magdalena ADAMOWICZ</td>\n",
       "      <td>Poland</td>\n",
       "      <td>Group of the European People's Party (Christia...</td>\n",
       "      <td>Independent</td>\n",
       "      <td>Adamowicz_Magda</td>\n",
       "      <td>['W tym dniu, w tym miejscu, w tej godzinie pr...</td>\n",
       "    </tr>\n",
       "    <tr>\n",
       "      <th>1</th>\n",
       "      <td>1</td>\n",
       "      <td>189525</td>\n",
       "      <td>Asim ADEMOV</td>\n",
       "      <td>Bulgaria</td>\n",
       "      <td>Group of the European People's Party (Christia...</td>\n",
       "      <td>Citizens for European Development of Bulgaria</td>\n",
       "      <td>AdemovAsim</td>\n",
       "      <td>['RT @ECinBulgaria: 📢 Остана 1⃣ седмица! Преди...</td>\n",
       "    </tr>\n",
       "    <tr>\n",
       "      <th>2</th>\n",
       "      <td>2</td>\n",
       "      <td>124831</td>\n",
       "      <td>Isabella ADINOLFI</td>\n",
       "      <td>Italy</td>\n",
       "      <td>Non-attached Members</td>\n",
       "      <td>Movimento 5 Stelle</td>\n",
       "      <td>Isa_Adinolfi</td>\n",
       "      <td>[\"Sembra un film, ma purtroppo è realtà: le im...</td>\n",
       "    </tr>\n",
       "    <tr>\n",
       "      <th>3</th>\n",
       "      <td>6</td>\n",
       "      <td>125045</td>\n",
       "      <td>Clara AGUILERA</td>\n",
       "      <td>Spain</td>\n",
       "      <td>Group of the Progressive Alliance of Socialist...</td>\n",
       "      <td>Partido Socialista Obrero Español</td>\n",
       "      <td>ClaraAguilera7</td>\n",
       "      <td>['RT @ClaraAguilera7: Debate e importantes vot...</td>\n",
       "    </tr>\n",
       "    <tr>\n",
       "      <th>4</th>\n",
       "      <td>7</td>\n",
       "      <td>204335</td>\n",
       "      <td>Alviina ALAMETSÄ</td>\n",
       "      <td>Finland</td>\n",
       "      <td>Group of the Greens/European Free Alliance</td>\n",
       "      <td>Vihreä liitto</td>\n",
       "      <td>alviinaalametsa</td>\n",
       "      <td>['Toimeentulotukea korotetaan 75e koronakriisi...</td>\n",
       "    </tr>\n",
       "  </tbody>\n",
       "</table>\n",
       "</div>"
      ],
      "text/plain": [
       "   Unnamed: 0  mep_id                 name   country  \\\n",
       "0           0  197490  Magdalena ADAMOWICZ    Poland   \n",
       "1           1  189525          Asim ADEMOV  Bulgaria   \n",
       "2           2  124831    Isabella ADINOLFI     Italy   \n",
       "3           6  125045       Clara AGUILERA     Spain   \n",
       "4           7  204335     Alviina ALAMETSÄ   Finland   \n",
       "\n",
       "                                               group  \\\n",
       "0  Group of the European People's Party (Christia...   \n",
       "1  Group of the European People's Party (Christia...   \n",
       "2                               Non-attached Members   \n",
       "3  Group of the Progressive Alliance of Socialist...   \n",
       "4         Group of the Greens/European Free Alliance   \n",
       "\n",
       "                                       nat_group          twitter  \\\n",
       "0                                    Independent  Adamowicz_Magda   \n",
       "1  Citizens for European Development of Bulgaria       AdemovAsim   \n",
       "2                             Movimento 5 Stelle     Isa_Adinolfi   \n",
       "3              Partido Socialista Obrero Español   ClaraAguilera7   \n",
       "4                                  Vihreä liitto  alviinaalametsa   \n",
       "\n",
       "                                             content  \n",
       "0  ['W tym dniu, w tym miejscu, w tej godzinie pr...  \n",
       "1  ['RT @ECinBulgaria: 📢 Остана 1⃣ седмица! Преди...  \n",
       "2  [\"Sembra un film, ma purtroppo è realtà: le im...  \n",
       "3  ['RT @ClaraAguilera7: Debate e importantes vot...  \n",
       "4  ['Toimeentulotukea korotetaan 75e koronakriisi...  "
      ]
     },
     "execution_count": 4,
     "metadata": {},
     "output_type": "execute_result"
    }
   ],
   "source": [
    "df.head()"
   ]
  },
  {
   "cell_type": "code",
   "execution_count": 5,
   "metadata": {
    "ExecuteTime": {
     "end_time": "2020-09-07T15:35:24.051540Z",
     "start_time": "2020-09-07T15:35:24.046948Z"
    }
   },
   "outputs": [],
   "source": [
    "def split_tweet(X):\n",
    "    return X.split(\",\")"
   ]
  },
  {
   "cell_type": "code",
   "execution_count": 6,
   "metadata": {
    "ExecuteTime": {
     "end_time": "2020-09-07T15:35:24.643130Z",
     "start_time": "2020-09-07T15:35:24.579413Z"
    }
   },
   "outputs": [],
   "source": [
    "df.content = df.content.apply(split_tweet)"
   ]
  },
  {
   "cell_type": "code",
   "execution_count": 7,
   "metadata": {
    "ExecuteTime": {
     "end_time": "2020-09-07T15:35:27.134282Z",
     "start_time": "2020-09-07T15:35:27.120038Z"
    }
   },
   "outputs": [],
   "source": [
    "translator = Translator()\n",
    "def get_language(X):\n",
    "    for cel in X:\n",
    "        langs = translator.detect(cel).lang\n",
    "        return langs\n",
    "\n"
   ]
  },
  {
   "cell_type": "code",
   "execution_count": 8,
   "metadata": {
    "ExecuteTime": {
     "end_time": "2020-09-07T15:37:03.421882Z",
     "start_time": "2020-09-07T15:35:28.272478Z"
    }
   },
   "outputs": [],
   "source": [
    "df['lang'] = df.content.apply(get_language)"
   ]
  },
  {
   "cell_type": "code",
   "execution_count": 15,
   "metadata": {
    "ExecuteTime": {
     "end_time": "2020-09-07T15:39:37.113740Z",
     "start_time": "2020-09-07T15:39:37.101216Z"
    }
   },
   "outputs": [
    {
     "data": {
      "text/plain": [
       "['pl',\n",
       " 'bg',\n",
       " 'it',\n",
       " 'es',\n",
       " 'fi',\n",
       " 'en',\n",
       " 'lv',\n",
       " 'de',\n",
       " 'ro',\n",
       " 'el',\n",
       " 'fr',\n",
       " 'gl',\n",
       " 'nl',\n",
       " 'sl',\n",
       " 'hr',\n",
       " 'cs',\n",
       " 'id',\n",
       " 'pt',\n",
       " 'itco',\n",
       " 'sv',\n",
       " 'da',\n",
       " 'no',\n",
       " 'ru',\n",
       " 'ltet',\n",
       " 'gd',\n",
       " 'lb',\n",
       " 'esit',\n",
       " 'ca',\n",
       " 'fy']"
      ]
     },
     "execution_count": 15,
     "metadata": {},
     "output_type": "execute_result"
    }
   ],
   "source": [
    "language_use = list(df['lang'].unique())\n",
    "language_use"
   ]
  },
  {
   "cell_type": "code",
   "execution_count": 17,
   "metadata": {
    "ExecuteTime": {
     "end_time": "2020-09-07T15:43:26.913099Z",
     "start_time": "2020-09-07T15:43:26.900881Z"
    }
   },
   "outputs": [
    {
     "data": {
      "text/plain": [
       "['af',\n",
       " 'sq',\n",
       " 'am',\n",
       " 'ar',\n",
       " 'hy',\n",
       " 'az',\n",
       " 'eu',\n",
       " 'be',\n",
       " 'bn',\n",
       " 'bs',\n",
       " 'bg',\n",
       " 'ca',\n",
       " 'ceb',\n",
       " 'ny',\n",
       " 'zh-cn',\n",
       " 'zh-tw',\n",
       " 'co',\n",
       " 'hr',\n",
       " 'cs',\n",
       " 'da',\n",
       " 'nl',\n",
       " 'en',\n",
       " 'eo',\n",
       " 'et',\n",
       " 'tl',\n",
       " 'fi',\n",
       " 'fr',\n",
       " 'fy',\n",
       " 'gl',\n",
       " 'ka',\n",
       " 'de',\n",
       " 'el',\n",
       " 'gu',\n",
       " 'ht',\n",
       " 'ha',\n",
       " 'haw',\n",
       " 'he',\n",
       " 'hi',\n",
       " 'hmn',\n",
       " 'hu',\n",
       " 'is',\n",
       " 'ig',\n",
       " 'id',\n",
       " 'ga',\n",
       " 'it',\n",
       " 'ja',\n",
       " 'jw',\n",
       " 'kn',\n",
       " 'kk',\n",
       " 'km',\n",
       " 'ko',\n",
       " 'ku',\n",
       " 'ky',\n",
       " 'lo',\n",
       " 'la',\n",
       " 'lv',\n",
       " 'lt',\n",
       " 'lb',\n",
       " 'mk',\n",
       " 'mg',\n",
       " 'ms',\n",
       " 'ml',\n",
       " 'mt',\n",
       " 'mi',\n",
       " 'mr',\n",
       " 'mn',\n",
       " 'my',\n",
       " 'ne',\n",
       " 'no',\n",
       " 'or',\n",
       " 'ps',\n",
       " 'fa',\n",
       " 'pl',\n",
       " 'pt',\n",
       " 'pa',\n",
       " 'ro',\n",
       " 'ru',\n",
       " 'sm',\n",
       " 'gd',\n",
       " 'sr',\n",
       " 'st',\n",
       " 'sn',\n",
       " 'sd',\n",
       " 'si',\n",
       " 'sk',\n",
       " 'sl',\n",
       " 'so',\n",
       " 'es',\n",
       " 'su',\n",
       " 'sw',\n",
       " 'sv',\n",
       " 'tg',\n",
       " 'ta',\n",
       " 'te',\n",
       " 'th',\n",
       " 'tr',\n",
       " 'uk',\n",
       " 'ur',\n",
       " 'ug',\n",
       " 'uz',\n",
       " 'vi',\n",
       " 'cy',\n",
       " 'xh',\n",
       " 'yi',\n",
       " 'yo',\n",
       " 'zu']"
      ]
     },
     "execution_count": 17,
     "metadata": {},
     "output_type": "execute_result"
    }
   ],
   "source": [
    "from googletrans import LANGUAGES\n",
    "LANGCODES = dict(map(reversed, LANGUAGES.items()))\n",
    "Languages = list(LANGCODES.values())\n",
    "Languages"
   ]
  },
  {
   "cell_type": "code",
   "execution_count": 20,
   "metadata": {
    "ExecuteTime": {
     "end_time": "2020-09-07T15:45:23.836790Z",
     "start_time": "2020-09-07T15:45:23.820704Z"
    }
   },
   "outputs": [
    {
     "data": {
      "text/plain": [
       "{'afrikaans': 'af',\n",
       " 'albanian': 'sq',\n",
       " 'amharic': 'am',\n",
       " 'arabic': 'ar',\n",
       " 'armenian': 'hy',\n",
       " 'azerbaijani': 'az',\n",
       " 'basque': 'eu',\n",
       " 'belarusian': 'be',\n",
       " 'bengali': 'bn',\n",
       " 'bosnian': 'bs',\n",
       " 'bulgarian': 'bg',\n",
       " 'catalan': 'ca',\n",
       " 'cebuano': 'ceb',\n",
       " 'chichewa': 'ny',\n",
       " 'chinese (simplified)': 'zh-cn',\n",
       " 'chinese (traditional)': 'zh-tw',\n",
       " 'corsican': 'co',\n",
       " 'croatian': 'hr',\n",
       " 'czech': 'cs',\n",
       " 'danish': 'da',\n",
       " 'dutch': 'nl',\n",
       " 'english': 'en',\n",
       " 'esperanto': 'eo',\n",
       " 'estonian': 'et',\n",
       " 'filipino': 'tl',\n",
       " 'finnish': 'fi',\n",
       " 'french': 'fr',\n",
       " 'frisian': 'fy',\n",
       " 'galician': 'gl',\n",
       " 'georgian': 'ka',\n",
       " 'german': 'de',\n",
       " 'greek': 'el',\n",
       " 'gujarati': 'gu',\n",
       " 'haitian creole': 'ht',\n",
       " 'hausa': 'ha',\n",
       " 'hawaiian': 'haw',\n",
       " 'hebrew': 'he',\n",
       " 'hindi': 'hi',\n",
       " 'hmong': 'hmn',\n",
       " 'hungarian': 'hu',\n",
       " 'icelandic': 'is',\n",
       " 'igbo': 'ig',\n",
       " 'indonesian': 'id',\n",
       " 'irish': 'ga',\n",
       " 'italian': 'it',\n",
       " 'japanese': 'ja',\n",
       " 'javanese': 'jw',\n",
       " 'kannada': 'kn',\n",
       " 'kazakh': 'kk',\n",
       " 'khmer': 'km',\n",
       " 'korean': 'ko',\n",
       " 'kurdish (kurmanji)': 'ku',\n",
       " 'kyrgyz': 'ky',\n",
       " 'lao': 'lo',\n",
       " 'latin': 'la',\n",
       " 'latvian': 'lv',\n",
       " 'lithuanian': 'lt',\n",
       " 'luxembourgish': 'lb',\n",
       " 'macedonian': 'mk',\n",
       " 'malagasy': 'mg',\n",
       " 'malay': 'ms',\n",
       " 'malayalam': 'ml',\n",
       " 'maltese': 'mt',\n",
       " 'maori': 'mi',\n",
       " 'marathi': 'mr',\n",
       " 'mongolian': 'mn',\n",
       " 'myanmar (burmese)': 'my',\n",
       " 'nepali': 'ne',\n",
       " 'norwegian': 'no',\n",
       " 'odia': 'or',\n",
       " 'pashto': 'ps',\n",
       " 'persian': 'fa',\n",
       " 'polish': 'pl',\n",
       " 'portuguese': 'pt',\n",
       " 'punjabi': 'pa',\n",
       " 'romanian': 'ro',\n",
       " 'russian': 'ru',\n",
       " 'samoan': 'sm',\n",
       " 'scots gaelic': 'gd',\n",
       " 'serbian': 'sr',\n",
       " 'sesotho': 'st',\n",
       " 'shona': 'sn',\n",
       " 'sindhi': 'sd',\n",
       " 'sinhala': 'si',\n",
       " 'slovak': 'sk',\n",
       " 'slovenian': 'sl',\n",
       " 'somali': 'so',\n",
       " 'spanish': 'es',\n",
       " 'sundanese': 'su',\n",
       " 'swahili': 'sw',\n",
       " 'swedish': 'sv',\n",
       " 'tajik': 'tg',\n",
       " 'tamil': 'ta',\n",
       " 'telugu': 'te',\n",
       " 'thai': 'th',\n",
       " 'turkish': 'tr',\n",
       " 'ukrainian': 'uk',\n",
       " 'urdu': 'ur',\n",
       " 'uyghur': 'ug',\n",
       " 'uzbek': 'uz',\n",
       " 'vietnamese': 'vi',\n",
       " 'welsh': 'cy',\n",
       " 'xhosa': 'xh',\n",
       " 'yiddish': 'yi',\n",
       " 'yoruba': 'yo',\n",
       " 'zulu': 'zu'}"
      ]
     },
     "execution_count": 20,
     "metadata": {},
     "output_type": "execute_result"
    }
   ],
   "source": [
    "LANGCODES"
   ]
  },
  {
   "cell_type": "code",
   "execution_count": 29,
   "metadata": {
    "ExecuteTime": {
     "end_time": "2020-09-07T15:52:56.331798Z",
     "start_time": "2020-09-07T15:52:56.313096Z"
    },
    "scrolled": true
   },
   "outputs": [
    {
     "data": {
      "text/plain": [
       "[('afrikaans', 'af'),\n",
       " ('albanian', 'sq'),\n",
       " ('amharic', 'am'),\n",
       " ('arabic', 'ar'),\n",
       " ('armenian', 'hy'),\n",
       " ('azerbaijani', 'az'),\n",
       " ('basque', 'eu'),\n",
       " ('belarusian', 'be'),\n",
       " ('bengali', 'bn'),\n",
       " ('bosnian', 'bs'),\n",
       " ('bulgarian', 'bg'),\n",
       " ('catalan', 'ca'),\n",
       " ('cebuano', 'ceb'),\n",
       " ('chichewa', 'ny'),\n",
       " ('chinese (simplified)', 'zh-cn'),\n",
       " ('chinese (traditional)', 'zh-tw'),\n",
       " ('corsican', 'co'),\n",
       " ('croatian', 'hr'),\n",
       " ('czech', 'cs'),\n",
       " ('danish', 'da'),\n",
       " ('dutch', 'nl'),\n",
       " ('english', 'en'),\n",
       " ('esperanto', 'eo'),\n",
       " ('estonian', 'et'),\n",
       " ('filipino', 'tl'),\n",
       " ('finnish', 'fi'),\n",
       " ('french', 'fr'),\n",
       " ('frisian', 'fy'),\n",
       " ('galician', 'gl'),\n",
       " ('georgian', 'ka'),\n",
       " ('german', 'de'),\n",
       " ('greek', 'el'),\n",
       " ('gujarati', 'gu'),\n",
       " ('haitian creole', 'ht'),\n",
       " ('hausa', 'ha'),\n",
       " ('hawaiian', 'haw'),\n",
       " ('hebrew', 'he'),\n",
       " ('hindi', 'hi'),\n",
       " ('hmong', 'hmn'),\n",
       " ('hungarian', 'hu'),\n",
       " ('icelandic', 'is'),\n",
       " ('igbo', 'ig'),\n",
       " ('indonesian', 'id'),\n",
       " ('irish', 'ga'),\n",
       " ('italian', 'it'),\n",
       " ('japanese', 'ja'),\n",
       " ('javanese', 'jw'),\n",
       " ('kannada', 'kn'),\n",
       " ('kazakh', 'kk'),\n",
       " ('khmer', 'km'),\n",
       " ('korean', 'ko'),\n",
       " ('kurdish (kurmanji)', 'ku'),\n",
       " ('kyrgyz', 'ky'),\n",
       " ('lao', 'lo'),\n",
       " ('latin', 'la'),\n",
       " ('latvian', 'lv'),\n",
       " ('lithuanian', 'lt'),\n",
       " ('luxembourgish', 'lb'),\n",
       " ('macedonian', 'mk'),\n",
       " ('malagasy', 'mg'),\n",
       " ('malay', 'ms'),\n",
       " ('malayalam', 'ml'),\n",
       " ('maltese', 'mt'),\n",
       " ('maori', 'mi'),\n",
       " ('marathi', 'mr'),\n",
       " ('mongolian', 'mn'),\n",
       " ('myanmar (burmese)', 'my'),\n",
       " ('nepali', 'ne'),\n",
       " ('norwegian', 'no'),\n",
       " ('odia', 'or'),\n",
       " ('pashto', 'ps'),\n",
       " ('persian', 'fa'),\n",
       " ('polish', 'pl'),\n",
       " ('portuguese', 'pt'),\n",
       " ('punjabi', 'pa'),\n",
       " ('romanian', 'ro'),\n",
       " ('russian', 'ru'),\n",
       " ('samoan', 'sm'),\n",
       " ('scots gaelic', 'gd'),\n",
       " ('serbian', 'sr'),\n",
       " ('sesotho', 'st'),\n",
       " ('shona', 'sn'),\n",
       " ('sindhi', 'sd'),\n",
       " ('sinhala', 'si'),\n",
       " ('slovak', 'sk'),\n",
       " ('slovenian', 'sl'),\n",
       " ('somali', 'so'),\n",
       " ('spanish', 'es'),\n",
       " ('sundanese', 'su'),\n",
       " ('swahili', 'sw'),\n",
       " ('swedish', 'sv'),\n",
       " ('tajik', 'tg'),\n",
       " ('tamil', 'ta'),\n",
       " ('telugu', 'te'),\n",
       " ('thai', 'th'),\n",
       " ('turkish', 'tr'),\n",
       " ('ukrainian', 'uk'),\n",
       " ('urdu', 'ur'),\n",
       " ('uyghur', 'ug'),\n",
       " ('uzbek', 'uz'),\n",
       " ('vietnamese', 'vi'),\n",
       " ('welsh', 'cy'),\n",
       " ('xhosa', 'xh'),\n",
       " ('yiddish', 'yi'),\n",
       " ('yoruba', 'yo'),\n",
       " ('zulu', 'zu')]"
      ]
     },
     "execution_count": 29,
     "metadata": {},
     "output_type": "execute_result"
    }
   ],
   "source": [
    "l = []\n",
    "for k, v in LANGCODES.items():\n",
    "    l.append((k,v))\n",
    "\n"
   ]
  },
  {
   "cell_type": "code",
   "execution_count": 35,
   "metadata": {
    "ExecuteTime": {
     "end_time": "2020-09-07T16:00:55.862411Z",
     "start_time": "2020-09-07T16:00:55.852185Z"
    }
   },
   "outputs": [
    {
     "data": {
      "text/plain": [
       "False"
      ]
     },
     "execution_count": 35,
     "metadata": {},
     "output_type": "execute_result"
    }
   ],
   "source": []
  },
  {
   "cell_type": "markdown",
   "metadata": {
    "heading_collapsed": true
   },
   "source": [
    "# MUSE"
   ]
  },
  {
   "cell_type": "code",
   "execution_count": null,
   "metadata": {
    "ExecuteTime": {
     "end_time": "2020-09-07T15:25:39.684110Z",
     "start_time": "2020-09-07T15:25:39.540821Z"
    },
    "hidden": true
   },
   "outputs": [],
   "source": [
    "import io\n",
    "import numpy as np"
   ]
  },
  {
   "cell_type": "code",
   "execution_count": null,
   "metadata": {
    "ExecuteTime": {
     "end_time": "2020-09-07T15:25:49.790308Z",
     "start_time": "2020-09-07T15:25:49.776887Z"
    },
    "hidden": true
   },
   "outputs": [],
   "source": [
    "def load_vec(emb_path, nmax=50000):\n",
    "    vectors = []\n",
    "    word2id = {}\n",
    "    with io.open(emb_path, 'r', encoding='utf-8', newline='\\n', errors='ignore') as f:\n",
    "        next(f)\n",
    "        for i, line in enumerate(f):\n",
    "            word, vect = line.rstrip().split(' ', 1)\n",
    "            vect = np.fromstring(vect, sep=' ')\n",
    "            assert word not in word2id, 'word found twice'\n",
    "            vectors.append(vect)\n",
    "            word2id[word] = len(word2id)\n",
    "            if len(word2id) == nmax:\n",
    "                break\n",
    "    id2word = {v: k for k, v in word2id.items()}\n",
    "    embeddings = np.vstack(vectors)\n",
    "    return embeddings, id2word, word2id"
   ]
  },
  {
   "cell_type": "code",
   "execution_count": null,
   "metadata": {
    "ExecuteTime": {
     "end_time": "2020-09-07T15:26:02.517602Z",
     "start_time": "2020-09-07T15:26:02.429221Z"
    },
    "hidden": true
   },
   "outputs": [],
   "source": [
    "src_path = '/private/home/aconneau/projects/MUSE/dumped/debug/8gqhcyvoto/vectors-en.txt'\n",
    "tgt_path = '/private/home/aconneau/projects/MUSE/dumped/debug/8gqhcyvoto/vectors-es.txt'\n",
    "nmax = 50000  # maximum number of word embeddings to load\n",
    "\n",
    "src_embeddings, src_id2word, src_word2id = load_vec(src_path, nmax)\n",
    "tgt_embeddings, tgt_id2word, tgt_word2id = load_vec(tgt_path, nmax)"
   ]
  },
  {
   "cell_type": "code",
   "execution_count": null,
   "metadata": {
    "hidden": true
   },
   "outputs": [],
   "source": [
    "def get_nn(word, src_emb, src_id2word, tgt_emb, tgt_id2word, K=5):\n",
    "    print(\"Nearest neighbors of \\\"%s\\\":\" % word)\n",
    "    word2id = {v: k for k, v in src_id2word.items()}\n",
    "    word_emb = src_emb[word2id[word]]\n",
    "    scores = (tgt_emb / np.linalg.norm(tgt_emb, 2, 1)[:, None]).dot(word_emb / np.linalg.norm(word_emb))\n",
    "    k_best = scores.argsort()[-K:][::-1]\n",
    "    for i, idx in enumerate(k_best):\n",
    "        print('%.4f - %s' % (scores[idx], tgt_id2word[idx]))"
   ]
  },
  {
   "cell_type": "code",
   "execution_count": null,
   "metadata": {
    "hidden": true
   },
   "outputs": [],
   "source": []
  }
 ],
 "metadata": {
  "kernelspec": {
   "display_name": "Python 3",
   "language": "python",
   "name": "python3"
  },
  "language_info": {
   "codemirror_mode": {
    "name": "ipython",
    "version": 3
   },
   "file_extension": ".py",
   "mimetype": "text/x-python",
   "name": "python",
   "nbconvert_exporter": "python",
   "pygments_lexer": "ipython3",
   "version": "3.7.7"
  },
  "toc": {
   "base_numbering": 1,
   "nav_menu": {},
   "number_sections": true,
   "sideBar": true,
   "skip_h1_title": false,
   "title_cell": "Table of Contents",
   "title_sidebar": "Contents",
   "toc_cell": false,
   "toc_position": {},
   "toc_section_display": true,
   "toc_window_display": false
  }
 },
 "nbformat": 4,
 "nbformat_minor": 4
}
