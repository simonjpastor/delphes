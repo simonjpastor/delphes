{
 "cells": [
  {
   "cell_type": "markdown",
   "metadata": {},
   "source": [
    "## Imports"
   ]
  },
  {
   "cell_type": "markdown",
   "metadata": {},
   "source": [
    "### Imports & Stuff"
   ]
  },
  {
   "cell_type": "code",
   "execution_count": 1,
   "metadata": {
    "ExecuteTime": {
     "end_time": "2020-09-11T07:52:43.100840Z",
     "start_time": "2020-09-11T07:52:42.050404Z"
    }
   },
   "outputs": [],
   "source": [
    "import pandas as pd\n",
    "## pandas 1.1.1 necessary\n",
    "import numpy as np\n",
    "import string \n",
    "import re\n",
    "from sklearn.feature_extraction.text import TfidfVectorizer\n",
    "import math\n",
    "from gensim.models import Word2Vec\n",
    "from plotly.graph_objects import Scatter3d"
   ]
  },
  {
   "cell_type": "code",
   "execution_count": 2,
   "metadata": {
    "ExecuteTime": {
     "end_time": "2020-09-11T07:52:43.221985Z",
     "start_time": "2020-09-11T07:52:43.102378Z"
    }
   },
   "outputs": [
    {
     "name": "stdout",
     "output_type": "stream",
     "text": [
      "/home/conte/code/kiddbenji/delphes/notebooks/kiddbenji_notebooks\r\n"
     ]
    }
   ],
   "source": [
    "!pwd"
   ]
  },
  {
   "cell_type": "code",
   "execution_count": 4,
   "metadata": {
    "ExecuteTime": {
     "end_time": "2020-09-11T07:53:00.028673Z",
     "start_time": "2020-09-11T07:52:59.092909Z"
    },
    "scrolled": true
   },
   "outputs": [],
   "source": [
    "#Getting the merger data\n",
    "merger = pd.read_pickle(\"../../raw_data/merger\")"
   ]
  },
  {
   "cell_type": "code",
   "execution_count": 6,
   "metadata": {
    "ExecuteTime": {
     "end_time": "2020-09-11T07:53:16.422801Z",
     "start_time": "2020-09-11T07:53:16.271864Z"
    }
   },
   "outputs": [],
   "source": [
    "#Getting all the data\n",
    "data = pd.read_pickle(\"../../raw_data/update_age_sex\")\n",
    "data = data.reset_index()"
   ]
  },
  {
   "cell_type": "markdown",
   "metadata": {},
   "source": [
    "## Cleaning"
   ]
  },
  {
   "cell_type": "code",
   "execution_count": 7,
   "metadata": {
    "ExecuteTime": {
     "end_time": "2020-09-11T07:53:18.885728Z",
     "start_time": "2020-09-11T07:53:18.865396Z"
    }
   },
   "outputs": [],
   "source": [
    "#reducing the dataset\n",
    "extract = merger[[\"index\",\"content_y\"]]"
   ]
  },
  {
   "cell_type": "markdown",
   "metadata": {},
   "source": [
    "### Dropping the None"
   ]
  },
  {
   "cell_type": "code",
   "execution_count": 8,
   "metadata": {
    "ExecuteTime": {
     "end_time": "2020-09-11T07:53:19.763846Z",
     "start_time": "2020-09-11T07:53:19.751454Z"
    }
   },
   "outputs": [],
   "source": [
    "#identifying the None rows\n",
    "count = 0\n",
    "dropables = []\n",
    "for i in extract[\"content_y\"]:\n",
    "    if i == None:\n",
    "        dropables.append(count)\n",
    "        count+= 1\n",
    "    else:\n",
    "        count+=1"
   ]
  },
  {
   "cell_type": "code",
   "execution_count": 9,
   "metadata": {
    "ExecuteTime": {
     "end_time": "2020-09-11T07:53:23.874432Z",
     "start_time": "2020-09-11T07:53:23.863717Z"
    }
   },
   "outputs": [],
   "source": [
    "#removing the Nones\n",
    "extract = extract.drop(labels=dropables)"
   ]
  },
  {
   "cell_type": "code",
   "execution_count": 10,
   "metadata": {
    "ExecuteTime": {
     "end_time": "2020-09-11T07:53:33.508355Z",
     "start_time": "2020-09-11T07:53:33.501233Z"
    }
   },
   "outputs": [],
   "source": [
    "extract = extract.reset_index()"
   ]
  },
  {
   "cell_type": "markdown",
   "metadata": {},
   "source": [
    "### Creating a Dictionary with Averaged Arrays"
   ]
  },
  {
   "cell_type": "markdown",
   "metadata": {},
   "source": [
    "### Deleting Floats and Other Falses"
   ]
  },
  {
   "cell_type": "code",
   "execution_count": 12,
   "metadata": {
    "ExecuteTime": {
     "end_time": "2020-09-11T07:53:46.500378Z",
     "start_time": "2020-09-11T07:53:46.485816Z"
    }
   },
   "outputs": [],
   "source": [
    "### Removing the Falses within the Sentences\n",
    "floats = []\n",
    "for i,j in dict_tweets.items(): \n",
    "    if type(j) != np.ndarray:\n",
    "        floats.append(i)"
   ]
  },
  {
   "cell_type": "code",
   "execution_count": 13,
   "metadata": {
    "ExecuteTime": {
     "end_time": "2020-09-11T07:53:47.447096Z",
     "start_time": "2020-09-11T07:53:47.442882Z"
    }
   },
   "outputs": [],
   "source": [
    "for i in floats:\n",
    "    del dict_tweets[i]"
   ]
  },
  {
   "cell_type": "markdown",
   "metadata": {},
   "source": [
    "### Creating DF"
   ]
  },
  {
   "cell_type": "code",
   "execution_count": 14,
   "metadata": {
    "ExecuteTime": {
     "end_time": "2020-09-11T07:53:49.078591Z",
     "start_time": "2020-09-11T07:53:48.651484Z"
    }
   },
   "outputs": [],
   "source": [
    "d_i_tweets = pd.DataFrame(dict_tweets).transpose()"
   ]
  },
  {
   "cell_type": "code",
   "execution_count": 15,
   "metadata": {
    "ExecuteTime": {
     "end_time": "2020-09-11T07:53:49.098474Z",
     "start_time": "2020-09-11T07:53:49.080744Z"
    }
   },
   "outputs": [],
   "source": [
    "d_i_tweets = d_i_tweets.reset_index()"
   ]
  },
  {
   "cell_type": "code",
   "execution_count": 16,
   "metadata": {
    "ExecuteTime": {
     "end_time": "2020-09-11T07:53:49.353666Z",
     "start_time": "2020-09-11T07:53:49.336426Z"
    }
   },
   "outputs": [
    {
     "data": {
      "text/plain": [
       "Index(['index',       0,       1,       2,       3,       4,       5,       6,\n",
       "             7,       8,\n",
       "       ...\n",
       "           290,     291,     292,     293,     294,     295,     296,     297,\n",
       "           298,     299],\n",
       "      dtype='object', length=301)"
      ]
     },
     "execution_count": 16,
     "metadata": {},
     "output_type": "execute_result"
    }
   ],
   "source": [
    "d_i_tweets.columns"
   ]
  },
  {
   "cell_type": "markdown",
   "metadata": {},
   "source": [
    "### Merging DFs"
   ]
  },
  {
   "cell_type": "code",
   "execution_count": 17,
   "metadata": {
    "ExecuteTime": {
     "end_time": "2020-09-11T07:53:51.978258Z",
     "start_time": "2020-09-11T07:53:51.930273Z"
    }
   },
   "outputs": [],
   "source": [
    "all_info = data.merge(d_i_tweets,on=\"index\")"
   ]
  },
  {
   "cell_type": "code",
   "execution_count": 18,
   "metadata": {
    "ExecuteTime": {
     "end_time": "2020-09-11T07:53:52.256505Z",
     "start_time": "2020-09-11T07:53:52.248457Z"
    }
   },
   "outputs": [
    {
     "data": {
      "text/plain": [
       "Index([    'index',    'mep_id',      'name',   'country',     'group',\n",
       "       'nat_group',   'twitter',   'content',       'age',       'sex',\n",
       "       ...\n",
       "               290,         291,         292,         293,         294,\n",
       "               295,         296,         297,         298,         299],\n",
       "      dtype='object', length=310)"
      ]
     },
     "execution_count": 18,
     "metadata": {},
     "output_type": "execute_result"
    }
   ],
   "source": [
    "all_info.columns"
   ]
  },
  {
   "cell_type": "code",
   "execution_count": null,
   "metadata": {},
   "outputs": [],
   "source": []
  },
  {
   "cell_type": "markdown",
   "metadata": {},
   "source": [
    "## Label Encoding"
   ]
  },
  {
   "cell_type": "markdown",
   "metadata": {},
   "source": [
    "### Country"
   ]
  },
  {
   "cell_type": "code",
   "execution_count": 19,
   "metadata": {
    "ExecuteTime": {
     "end_time": "2020-09-11T07:53:54.897439Z",
     "start_time": "2020-09-11T07:53:54.889942Z"
    }
   },
   "outputs": [],
   "source": [
    "def countries(values):\n",
    "    if values == \"Netherlands\":\n",
    "        return 0\n",
    "    elif values == \"Denmark\":\n",
    "        return 1\n",
    "    else:\n",
    "        return 2"
   ]
  },
  {
   "cell_type": "code",
   "execution_count": 20,
   "metadata": {
    "ExecuteTime": {
     "end_time": "2020-09-11T07:53:55.472281Z",
     "start_time": "2020-09-11T07:53:55.458969Z"
    }
   },
   "outputs": [],
   "source": [
    "all_info[\"countries\"] = all_info[\"country\"].apply(countries)"
   ]
  },
  {
   "cell_type": "markdown",
   "metadata": {},
   "source": [
    "### European Group"
   ]
  },
  {
   "cell_type": "code",
   "execution_count": 21,
   "metadata": {
    "ExecuteTime": {
     "end_time": "2020-09-11T07:53:56.526148Z",
     "start_time": "2020-09-11T07:53:56.517626Z"
    }
   },
   "outputs": [],
   "source": [
    "def groups(values):\n",
    "    if values == 'Group of the Greens/European Free Alliance':\n",
    "        return 0\n",
    "    elif values == 'Renew Europe Group':\n",
    "        return 1\n",
    "    elif values == \"Group of the European People's Party (Christian Democrats)\":\n",
    "        return 2\n",
    "    elif values == 'Group of the Progressive Alliance of Socialists and Democrats in the European Parliament':\n",
    "        return 3\n",
    "    elif values == 'European Conservatives and Reformists Group':\n",
    "        return 4\n",
    "    elif values == 'Group of the European United Left - Nordic Green Left':\n",
    "        return 5\n",
    "    elif values == 'Non-attached Members':\n",
    "        return 6\n",
    "    else:\n",
    "        return 7"
   ]
  },
  {
   "cell_type": "code",
   "execution_count": 22,
   "metadata": {
    "ExecuteTime": {
     "end_time": "2020-09-11T07:53:58.784565Z",
     "start_time": "2020-09-11T07:53:58.772088Z"
    }
   },
   "outputs": [],
   "source": [
    "all_info[\"european_group\"] = all_info[\"group\"].apply(groups)"
   ]
  },
  {
   "cell_type": "markdown",
   "metadata": {},
   "source": [
    "### National Party"
   ]
  },
  {
   "cell_type": "code",
   "execution_count": 23,
   "metadata": {
    "ExecuteTime": {
     "end_time": "2020-09-11T07:54:00.829538Z",
     "start_time": "2020-09-11T07:54:00.822294Z"
    }
   },
   "outputs": [],
   "source": [
    "parties_list = ['Socialistisk Folkeparti',\n",
    "       'Volkspartij voor Vrijheid en Democratie',\n",
    "       'Christen Democratisch Appèl', 'Partij van de Arbeid',\n",
    "       'ChristenUnie', 'GroenLinks', 'Forum voor Democratie',\n",
    "       'Socialdemokratiet', 'Partij voor de Dieren', 'Democraten 66',\n",
    "       'Venstre, Danmarks Liberale Parti', 'Det Radikale Venstre',\n",
    "       'GO Realisme & Daadkracht', 'Staatkundig Gereformeerde Partij',\n",
    "       'Enhedslisten', 'Det Konservative Folkeparti']\n",
    "\n",
    "def parties(values):\n",
    "    for i in parties_list:\n",
    "        if values == i:\n",
    "            return parties_list.index(i)"
   ]
  },
  {
   "cell_type": "code",
   "execution_count": 24,
   "metadata": {
    "ExecuteTime": {
     "end_time": "2020-09-11T07:54:03.027906Z",
     "start_time": "2020-09-11T07:54:03.004159Z"
    }
   },
   "outputs": [],
   "source": [
    "all_info[\"nat_party_code\"] = all_info[\"nat_group\"].apply(parties)"
   ]
  },
  {
   "cell_type": "markdown",
   "metadata": {},
   "source": [
    "### Age"
   ]
  },
  {
   "cell_type": "code",
   "execution_count": 25,
   "metadata": {
    "ExecuteTime": {
     "end_time": "2020-09-11T07:54:27.504507Z",
     "start_time": "2020-09-11T07:54:27.497752Z"
    }
   },
   "outputs": [],
   "source": [
    "def age_func(values):\n",
    "    if values <= 30:\n",
    "        return 0\n",
    "    if (values > 30) & (values <= 40):\n",
    "        return 1\n",
    "    if (values > 40) & (values <=50):\n",
    "        return 2\n",
    "    if (values > 50) & (values <= 60):\n",
    "        return 3\n",
    "    if values > 60:\n",
    "        return 4"
   ]
  },
  {
   "cell_type": "code",
   "execution_count": 26,
   "metadata": {
    "ExecuteTime": {
     "end_time": "2020-09-11T07:54:28.342521Z",
     "start_time": "2020-09-11T07:54:28.327890Z"
    }
   },
   "outputs": [],
   "source": [
    "all_info[\"age_code\"] = all_info[\"age\"].apply(age_func)\n"
   ]
  },
  {
   "cell_type": "code",
   "execution_count": 27,
   "metadata": {
    "ExecuteTime": {
     "end_time": "2020-09-11T07:54:28.682245Z",
     "start_time": "2020-09-11T07:54:28.672625Z"
    }
   },
   "outputs": [
    {
     "data": {
      "text/plain": [
       "0        0\n",
       "1        0\n",
       "2        0\n",
       "3        0\n",
       "4        0\n",
       "        ..\n",
       "10687    3\n",
       "10688    3\n",
       "10689    3\n",
       "10690    3\n",
       "10691    3\n",
       "Name: age_code, Length: 10692, dtype: int64"
      ]
     },
     "execution_count": 27,
     "metadata": {},
     "output_type": "execute_result"
    }
   ],
   "source": [
    "all_info[\"age_code\"]"
   ]
  },
  {
   "cell_type": "markdown",
   "metadata": {},
   "source": [
    "## Exporting Document"
   ]
  },
  {
   "cell_type": "markdown",
   "metadata": {},
   "source": [
    "### Exporting Words Matrix"
   ]
  },
  {
   "cell_type": "code",
   "execution_count": 28,
   "metadata": {
    "ExecuteTime": {
     "end_time": "2020-09-11T08:01:22.782836Z",
     "start_time": "2020-09-11T08:01:17.281046Z"
    }
   },
   "outputs": [],
   "source": [
    "d_i_tweets.to_csv('d_i_tweets.tsv',sep=\"\\t\", index=False, header=False)"
   ]
  },
  {
   "cell_type": "code",
   "execution_count": 29,
   "metadata": {
    "ExecuteTime": {
     "end_time": "2020-09-11T08:01:22.793904Z",
     "start_time": "2020-09-11T08:01:22.786252Z"
    }
   },
   "outputs": [
    {
     "data": {
      "text/plain": [
       "Index([         'index',         'mep_id',           'name',        'country',\n",
       "                'group',      'nat_group',        'twitter',        'content',\n",
       "                  'age',            'sex',\n",
       "       ...\n",
       "                    294,              295,              296,              297,\n",
       "                    298,              299,      'countries', 'european_group',\n",
       "       'nat_party_code',       'age_code'],\n",
       "      dtype='object', length=314)"
      ]
     },
     "execution_count": 29,
     "metadata": {},
     "output_type": "execute_result"
    }
   ],
   "source": [
    "all_info.columns"
   ]
  },
  {
   "cell_type": "code",
   "execution_count": null,
   "metadata": {},
   "outputs": [],
   "source": []
  },
  {
   "cell_type": "markdown",
   "metadata": {},
   "source": [
    "### Exporting Labels"
   ]
  },
  {
   "cell_type": "code",
   "execution_count": 30,
   "metadata": {
    "ExecuteTime": {
     "end_time": "2020-09-11T08:01:24.428916Z",
     "start_time": "2020-09-11T08:01:24.366233Z"
    }
   },
   "outputs": [],
   "source": [
    "all_info[[\"countries\",\"european_group\",\"nat_party_code\",\"sex\",\"age_code\"]].to_csv(\"multi_variables.tsv\",sep=\"\\t\", index=False, header=True)"
   ]
  },
  {
   "cell_type": "code",
   "execution_count": 31,
   "metadata": {
    "ExecuteTime": {
     "end_time": "2020-09-11T08:01:25.234712Z",
     "start_time": "2020-09-11T08:01:25.186210Z"
    }
   },
   "outputs": [
    {
     "data": {
      "text/html": [
       "<div>\n",
       "<style scoped>\n",
       "    .dataframe tbody tr th:only-of-type {\n",
       "        vertical-align: middle;\n",
       "    }\n",
       "\n",
       "    .dataframe tbody tr th {\n",
       "        vertical-align: top;\n",
       "    }\n",
       "\n",
       "    .dataframe thead th {\n",
       "        text-align: right;\n",
       "    }\n",
       "</style>\n",
       "<table border=\"1\" class=\"dataframe\">\n",
       "  <thead>\n",
       "    <tr style=\"text-align: right;\">\n",
       "      <th></th>\n",
       "      <th>index</th>\n",
       "      <th>mep_id</th>\n",
       "      <th>name</th>\n",
       "      <th>country</th>\n",
       "      <th>group</th>\n",
       "      <th>nat_group</th>\n",
       "      <th>twitter</th>\n",
       "      <th>content</th>\n",
       "      <th>age</th>\n",
       "      <th>sex</th>\n",
       "      <th>...</th>\n",
       "      <th>294</th>\n",
       "      <th>295</th>\n",
       "      <th>296</th>\n",
       "      <th>297</th>\n",
       "      <th>298</th>\n",
       "      <th>299</th>\n",
       "      <th>countries</th>\n",
       "      <th>european_group</th>\n",
       "      <th>nat_party_code</th>\n",
       "      <th>age_code</th>\n",
       "    </tr>\n",
       "  </thead>\n",
       "  <tbody>\n",
       "    <tr>\n",
       "      <th>0</th>\n",
       "      <td>5076</td>\n",
       "      <td>28161</td>\n",
       "      <td>Margrete AUKEN</td>\n",
       "      <td>Denmark</td>\n",
       "      <td>Group of the Greens/European Free Alliance</td>\n",
       "      <td>Socialistisk Folkeparti</td>\n",
       "      <td>MargreteAuken</td>\n",
       "      <td>Hvornår agerer #Bagmandspolitiet på anmeldelse...</td>\n",
       "      <td>30</td>\n",
       "      <td>1.0</td>\n",
       "      <td>...</td>\n",
       "      <td>-0.008443</td>\n",
       "      <td>-0.042849</td>\n",
       "      <td>-0.014880</td>\n",
       "      <td>0.041051</td>\n",
       "      <td>0.023303</td>\n",
       "      <td>-0.012236</td>\n",
       "      <td>1</td>\n",
       "      <td>0</td>\n",
       "      <td>0</td>\n",
       "      <td>0</td>\n",
       "    </tr>\n",
       "    <tr>\n",
       "      <th>1</th>\n",
       "      <td>5079</td>\n",
       "      <td>28161</td>\n",
       "      <td>Margrete AUKEN</td>\n",
       "      <td>Denmark</td>\n",
       "      <td>Group of the Greens/European Free Alliance</td>\n",
       "      <td>Socialistisk Folkeparti</td>\n",
       "      <td>MargreteAuken</td>\n",
       "      <td>Amazonas brænder, og skov- og klimakrisen er a...</td>\n",
       "      <td>30</td>\n",
       "      <td>1.0</td>\n",
       "      <td>...</td>\n",
       "      <td>0.000622</td>\n",
       "      <td>-0.024272</td>\n",
       "      <td>-0.017961</td>\n",
       "      <td>0.043717</td>\n",
       "      <td>0.026246</td>\n",
       "      <td>-0.006339</td>\n",
       "      <td>1</td>\n",
       "      <td>0</td>\n",
       "      <td>0</td>\n",
       "      <td>0</td>\n",
       "    </tr>\n",
       "    <tr>\n",
       "      <th>2</th>\n",
       "      <td>5080</td>\n",
       "      <td>28161</td>\n",
       "      <td>Margrete AUKEN</td>\n",
       "      <td>Denmark</td>\n",
       "      <td>Group of the Greens/European Free Alliance</td>\n",
       "      <td>Socialistisk Folkeparti</td>\n",
       "      <td>MargreteAuken</td>\n",
       "      <td>Covid-19 vaccine makers lobby the EU for immun...</td>\n",
       "      <td>30</td>\n",
       "      <td>1.0</td>\n",
       "      <td>...</td>\n",
       "      <td>0.006047</td>\n",
       "      <td>-0.046107</td>\n",
       "      <td>-0.023379</td>\n",
       "      <td>0.041657</td>\n",
       "      <td>0.028609</td>\n",
       "      <td>-0.009291</td>\n",
       "      <td>1</td>\n",
       "      <td>0</td>\n",
       "      <td>0</td>\n",
       "      <td>0</td>\n",
       "    </tr>\n",
       "    <tr>\n",
       "      <th>3</th>\n",
       "      <td>5081</td>\n",
       "      <td>28161</td>\n",
       "      <td>Margrete AUKEN</td>\n",
       "      <td>Denmark</td>\n",
       "      <td>Group of the Greens/European Free Alliance</td>\n",
       "      <td>Socialistisk Folkeparti</td>\n",
       "      <td>MargreteAuken</td>\n",
       "      <td>Den britiske økonomi er i knæ: 'De kommende må...</td>\n",
       "      <td>30</td>\n",
       "      <td>1.0</td>\n",
       "      <td>...</td>\n",
       "      <td>0.009990</td>\n",
       "      <td>-0.015177</td>\n",
       "      <td>-0.028269</td>\n",
       "      <td>0.005696</td>\n",
       "      <td>0.034646</td>\n",
       "      <td>0.007942</td>\n",
       "      <td>1</td>\n",
       "      <td>0</td>\n",
       "      <td>0</td>\n",
       "      <td>0</td>\n",
       "    </tr>\n",
       "    <tr>\n",
       "      <th>4</th>\n",
       "      <td>5082</td>\n",
       "      <td>28161</td>\n",
       "      <td>Margrete AUKEN</td>\n",
       "      <td>Denmark</td>\n",
       "      <td>Group of the Greens/European Free Alliance</td>\n",
       "      <td>Socialistisk Folkeparti</td>\n",
       "      <td>MargreteAuken</td>\n",
       "      <td>Jeg bliver så fly forbandet vred, ked af det, ...</td>\n",
       "      <td>30</td>\n",
       "      <td>1.0</td>\n",
       "      <td>...</td>\n",
       "      <td>0.010506</td>\n",
       "      <td>-0.017543</td>\n",
       "      <td>-0.027306</td>\n",
       "      <td>0.027216</td>\n",
       "      <td>0.015570</td>\n",
       "      <td>0.010784</td>\n",
       "      <td>1</td>\n",
       "      <td>0</td>\n",
       "      <td>0</td>\n",
       "      <td>0</td>\n",
       "    </tr>\n",
       "    <tr>\n",
       "      <th>...</th>\n",
       "      <td>...</td>\n",
       "      <td>...</td>\n",
       "      <td>...</td>\n",
       "      <td>...</td>\n",
       "      <td>...</td>\n",
       "      <td>...</td>\n",
       "      <td>...</td>\n",
       "      <td>...</td>\n",
       "      <td>...</td>\n",
       "      <td>...</td>\n",
       "      <td>...</td>\n",
       "      <td>...</td>\n",
       "      <td>...</td>\n",
       "      <td>...</td>\n",
       "      <td>...</td>\n",
       "      <td>...</td>\n",
       "      <td>...</td>\n",
       "      <td>...</td>\n",
       "      <td>...</td>\n",
       "      <td>...</td>\n",
       "      <td>...</td>\n",
       "    </tr>\n",
       "    <tr>\n",
       "      <th>10687</th>\n",
       "      <td>133994</td>\n",
       "      <td>5392</td>\n",
       "      <td>Lara WOLTERS</td>\n",
       "      <td>Netherlands</td>\n",
       "      <td>Group of the Progressive Alliance of Socialist...</td>\n",
       "      <td>Partij van de Arbeid</td>\n",
       "      <td>larawoltersEU</td>\n",
       "      <td>A Green New Deal for Europe must include great...</td>\n",
       "      <td>58</td>\n",
       "      <td>1.0</td>\n",
       "      <td>...</td>\n",
       "      <td>0.009091</td>\n",
       "      <td>-0.043326</td>\n",
       "      <td>-0.025808</td>\n",
       "      <td>0.038204</td>\n",
       "      <td>0.031567</td>\n",
       "      <td>-0.006687</td>\n",
       "      <td>0</td>\n",
       "      <td>3</td>\n",
       "      <td>3</td>\n",
       "      <td>3</td>\n",
       "    </tr>\n",
       "    <tr>\n",
       "      <th>10688</th>\n",
       "      <td>133995</td>\n",
       "      <td>5392</td>\n",
       "      <td>Lara WOLTERS</td>\n",
       "      <td>Netherlands</td>\n",
       "      <td>Group of the Progressive Alliance of Socialist...</td>\n",
       "      <td>Partij van de Arbeid</td>\n",
       "      <td>larawoltersEU</td>\n",
       "      <td>A more socially and environmentally sustainabl...</td>\n",
       "      <td>58</td>\n",
       "      <td>1.0</td>\n",
       "      <td>...</td>\n",
       "      <td>0.003003</td>\n",
       "      <td>-0.046619</td>\n",
       "      <td>-0.022752</td>\n",
       "      <td>0.059461</td>\n",
       "      <td>0.049146</td>\n",
       "      <td>-0.007352</td>\n",
       "      <td>0</td>\n",
       "      <td>3</td>\n",
       "      <td>3</td>\n",
       "      <td>3</td>\n",
       "    </tr>\n",
       "    <tr>\n",
       "      <th>10689</th>\n",
       "      <td>133997</td>\n",
       "      <td>5392</td>\n",
       "      <td>Lara WOLTERS</td>\n",
       "      <td>Netherlands</td>\n",
       "      <td>Group of the Progressive Alliance of Socialist...</td>\n",
       "      <td>Partij van de Arbeid</td>\n",
       "      <td>larawoltersEU</td>\n",
       "      <td>Goed gesprek met @EUombudsman Emily O’Reilly o...</td>\n",
       "      <td>58</td>\n",
       "      <td>1.0</td>\n",
       "      <td>...</td>\n",
       "      <td>-0.000672</td>\n",
       "      <td>-0.035493</td>\n",
       "      <td>-0.011981</td>\n",
       "      <td>0.056631</td>\n",
       "      <td>0.027491</td>\n",
       "      <td>-0.012153</td>\n",
       "      <td>0</td>\n",
       "      <td>3</td>\n",
       "      <td>3</td>\n",
       "      <td>3</td>\n",
       "    </tr>\n",
       "    <tr>\n",
       "      <th>10690</th>\n",
       "      <td>133998</td>\n",
       "      <td>5392</td>\n",
       "      <td>Lara WOLTERS</td>\n",
       "      <td>Netherlands</td>\n",
       "      <td>Group of the Progressive Alliance of Socialist...</td>\n",
       "      <td>Partij van de Arbeid</td>\n",
       "      <td>larawoltersEU</td>\n",
       "      <td>@pieterzwaan Ja hoor! Graag naar mijn EP email.</td>\n",
       "      <td>58</td>\n",
       "      <td>1.0</td>\n",
       "      <td>...</td>\n",
       "      <td>0.037959</td>\n",
       "      <td>-0.042401</td>\n",
       "      <td>-0.030223</td>\n",
       "      <td>0.052912</td>\n",
       "      <td>0.042841</td>\n",
       "      <td>-0.019456</td>\n",
       "      <td>0</td>\n",
       "      <td>3</td>\n",
       "      <td>3</td>\n",
       "      <td>3</td>\n",
       "    </tr>\n",
       "    <tr>\n",
       "      <th>10691</th>\n",
       "      <td>133999</td>\n",
       "      <td>5392</td>\n",
       "      <td>Lara WOLTERS</td>\n",
       "      <td>Netherlands</td>\n",
       "      <td>Group of the Progressive Alliance of Socialist...</td>\n",
       "      <td>Partij van de Arbeid</td>\n",
       "      <td>larawoltersEU</td>\n",
       "      <td>https://t.co/CPvJzq9lQZ\\nMooi! D66 maakt einde...</td>\n",
       "      <td>58</td>\n",
       "      <td>1.0</td>\n",
       "      <td>...</td>\n",
       "      <td>0.020126</td>\n",
       "      <td>-0.038221</td>\n",
       "      <td>-0.038930</td>\n",
       "      <td>0.046088</td>\n",
       "      <td>0.045208</td>\n",
       "      <td>0.006622</td>\n",
       "      <td>0</td>\n",
       "      <td>3</td>\n",
       "      <td>3</td>\n",
       "      <td>3</td>\n",
       "    </tr>\n",
       "  </tbody>\n",
       "</table>\n",
       "<p>10692 rows × 314 columns</p>\n",
       "</div>"
      ],
      "text/plain": [
       "        index mep_id            name      country  \\\n",
       "0        5076  28161  Margrete AUKEN      Denmark   \n",
       "1        5079  28161  Margrete AUKEN      Denmark   \n",
       "2        5080  28161  Margrete AUKEN      Denmark   \n",
       "3        5081  28161  Margrete AUKEN      Denmark   \n",
       "4        5082  28161  Margrete AUKEN      Denmark   \n",
       "...       ...    ...             ...          ...   \n",
       "10687  133994   5392    Lara WOLTERS  Netherlands   \n",
       "10688  133995   5392    Lara WOLTERS  Netherlands   \n",
       "10689  133997   5392    Lara WOLTERS  Netherlands   \n",
       "10690  133998   5392    Lara WOLTERS  Netherlands   \n",
       "10691  133999   5392    Lara WOLTERS  Netherlands   \n",
       "\n",
       "                                                   group  \\\n",
       "0             Group of the Greens/European Free Alliance   \n",
       "1             Group of the Greens/European Free Alliance   \n",
       "2             Group of the Greens/European Free Alliance   \n",
       "3             Group of the Greens/European Free Alliance   \n",
       "4             Group of the Greens/European Free Alliance   \n",
       "...                                                  ...   \n",
       "10687  Group of the Progressive Alliance of Socialist...   \n",
       "10688  Group of the Progressive Alliance of Socialist...   \n",
       "10689  Group of the Progressive Alliance of Socialist...   \n",
       "10690  Group of the Progressive Alliance of Socialist...   \n",
       "10691  Group of the Progressive Alliance of Socialist...   \n",
       "\n",
       "                     nat_group        twitter  \\\n",
       "0      Socialistisk Folkeparti  MargreteAuken   \n",
       "1      Socialistisk Folkeparti  MargreteAuken   \n",
       "2      Socialistisk Folkeparti  MargreteAuken   \n",
       "3      Socialistisk Folkeparti  MargreteAuken   \n",
       "4      Socialistisk Folkeparti  MargreteAuken   \n",
       "...                        ...            ...   \n",
       "10687     Partij van de Arbeid  larawoltersEU   \n",
       "10688     Partij van de Arbeid  larawoltersEU   \n",
       "10689     Partij van de Arbeid  larawoltersEU   \n",
       "10690     Partij van de Arbeid  larawoltersEU   \n",
       "10691     Partij van de Arbeid  larawoltersEU   \n",
       "\n",
       "                                                 content  age  sex  ...  \\\n",
       "0      Hvornår agerer #Bagmandspolitiet på anmeldelse...   30  1.0  ...   \n",
       "1      Amazonas brænder, og skov- og klimakrisen er a...   30  1.0  ...   \n",
       "2      Covid-19 vaccine makers lobby the EU for immun...   30  1.0  ...   \n",
       "3      Den britiske økonomi er i knæ: 'De kommende må...   30  1.0  ...   \n",
       "4      Jeg bliver så fly forbandet vred, ked af det, ...   30  1.0  ...   \n",
       "...                                                  ...  ...  ...  ...   \n",
       "10687  A Green New Deal for Europe must include great...   58  1.0  ...   \n",
       "10688  A more socially and environmentally sustainabl...   58  1.0  ...   \n",
       "10689  Goed gesprek met @EUombudsman Emily O’Reilly o...   58  1.0  ...   \n",
       "10690    @pieterzwaan Ja hoor! Graag naar mijn EP email.   58  1.0  ...   \n",
       "10691  https://t.co/CPvJzq9lQZ\\nMooi! D66 maakt einde...   58  1.0  ...   \n",
       "\n",
       "            294       295       296       297       298       299  countries  \\\n",
       "0     -0.008443 -0.042849 -0.014880  0.041051  0.023303 -0.012236          1   \n",
       "1      0.000622 -0.024272 -0.017961  0.043717  0.026246 -0.006339          1   \n",
       "2      0.006047 -0.046107 -0.023379  0.041657  0.028609 -0.009291          1   \n",
       "3      0.009990 -0.015177 -0.028269  0.005696  0.034646  0.007942          1   \n",
       "4      0.010506 -0.017543 -0.027306  0.027216  0.015570  0.010784          1   \n",
       "...         ...       ...       ...       ...       ...       ...        ...   \n",
       "10687  0.009091 -0.043326 -0.025808  0.038204  0.031567 -0.006687          0   \n",
       "10688  0.003003 -0.046619 -0.022752  0.059461  0.049146 -0.007352          0   \n",
       "10689 -0.000672 -0.035493 -0.011981  0.056631  0.027491 -0.012153          0   \n",
       "10690  0.037959 -0.042401 -0.030223  0.052912  0.042841 -0.019456          0   \n",
       "10691  0.020126 -0.038221 -0.038930  0.046088  0.045208  0.006622          0   \n",
       "\n",
       "       european_group  nat_party_code  age_code  \n",
       "0                   0               0         0  \n",
       "1                   0               0         0  \n",
       "2                   0               0         0  \n",
       "3                   0               0         0  \n",
       "4                   0               0         0  \n",
       "...               ...             ...       ...  \n",
       "10687               3               3         3  \n",
       "10688               3               3         3  \n",
       "10689               3               3         3  \n",
       "10690               3               3         3  \n",
       "10691               3               3         3  \n",
       "\n",
       "[10692 rows x 314 columns]"
      ]
     },
     "execution_count": 31,
     "metadata": {},
     "output_type": "execute_result"
    }
   ],
   "source": [
    "all_info"
   ]
  },
  {
   "cell_type": "markdown",
   "metadata": {},
   "source": [
    "## k-Means"
   ]
  },
  {
   "cell_type": "code",
   "execution_count": 32,
   "metadata": {
    "ExecuteTime": {
     "end_time": "2020-09-11T08:01:39.250502Z",
     "start_time": "2020-09-11T08:01:39.113954Z"
    }
   },
   "outputs": [
    {
     "data": {
      "text/html": [
       "<div>\n",
       "<style scoped>\n",
       "    .dataframe tbody tr th:only-of-type {\n",
       "        vertical-align: middle;\n",
       "    }\n",
       "\n",
       "    .dataframe tbody tr th {\n",
       "        vertical-align: top;\n",
       "    }\n",
       "\n",
       "    .dataframe thead th {\n",
       "        text-align: right;\n",
       "    }\n",
       "</style>\n",
       "<table border=\"1\" class=\"dataframe\">\n",
       "  <thead>\n",
       "    <tr style=\"text-align: right;\">\n",
       "      <th></th>\n",
       "      <th>0</th>\n",
       "      <th>1</th>\n",
       "      <th>2</th>\n",
       "      <th>3</th>\n",
       "      <th>4</th>\n",
       "      <th>5</th>\n",
       "      <th>6</th>\n",
       "      <th>7</th>\n",
       "      <th>8</th>\n",
       "      <th>9</th>\n",
       "      <th>...</th>\n",
       "      <th>290</th>\n",
       "      <th>291</th>\n",
       "      <th>292</th>\n",
       "      <th>293</th>\n",
       "      <th>294</th>\n",
       "      <th>295</th>\n",
       "      <th>296</th>\n",
       "      <th>297</th>\n",
       "      <th>298</th>\n",
       "      <th>299</th>\n",
       "    </tr>\n",
       "  </thead>\n",
       "  <tbody>\n",
       "    <tr>\n",
       "      <th>0</th>\n",
       "      <td>-0.016846</td>\n",
       "      <td>-0.011860</td>\n",
       "      <td>-0.042851</td>\n",
       "      <td>0.044163</td>\n",
       "      <td>-0.027453</td>\n",
       "      <td>0.022471</td>\n",
       "      <td>0.000556</td>\n",
       "      <td>-0.036933</td>\n",
       "      <td>-0.001978</td>\n",
       "      <td>0.050484</td>\n",
       "      <td>...</td>\n",
       "      <td>0.010223</td>\n",
       "      <td>-0.011244</td>\n",
       "      <td>0.009240</td>\n",
       "      <td>0.028963</td>\n",
       "      <td>-0.008443</td>\n",
       "      <td>-0.042849</td>\n",
       "      <td>-0.014880</td>\n",
       "      <td>0.041051</td>\n",
       "      <td>0.023303</td>\n",
       "      <td>-0.012236</td>\n",
       "    </tr>\n",
       "    <tr>\n",
       "      <th>1</th>\n",
       "      <td>-0.025288</td>\n",
       "      <td>-0.020077</td>\n",
       "      <td>-0.029960</td>\n",
       "      <td>0.033417</td>\n",
       "      <td>-0.022732</td>\n",
       "      <td>0.031891</td>\n",
       "      <td>0.014065</td>\n",
       "      <td>-0.054808</td>\n",
       "      <td>0.008609</td>\n",
       "      <td>0.072909</td>\n",
       "      <td>...</td>\n",
       "      <td>0.014924</td>\n",
       "      <td>-0.009034</td>\n",
       "      <td>0.017069</td>\n",
       "      <td>0.036944</td>\n",
       "      <td>0.000622</td>\n",
       "      <td>-0.024272</td>\n",
       "      <td>-0.017961</td>\n",
       "      <td>0.043717</td>\n",
       "      <td>0.026246</td>\n",
       "      <td>-0.006339</td>\n",
       "    </tr>\n",
       "    <tr>\n",
       "      <th>2</th>\n",
       "      <td>-0.026789</td>\n",
       "      <td>0.006986</td>\n",
       "      <td>-0.025454</td>\n",
       "      <td>0.034253</td>\n",
       "      <td>-0.019140</td>\n",
       "      <td>0.003891</td>\n",
       "      <td>-0.009987</td>\n",
       "      <td>-0.062290</td>\n",
       "      <td>-0.005792</td>\n",
       "      <td>0.039410</td>\n",
       "      <td>...</td>\n",
       "      <td>0.033633</td>\n",
       "      <td>-0.010781</td>\n",
       "      <td>0.009733</td>\n",
       "      <td>-0.002281</td>\n",
       "      <td>0.006047</td>\n",
       "      <td>-0.046107</td>\n",
       "      <td>-0.023379</td>\n",
       "      <td>0.041657</td>\n",
       "      <td>0.028609</td>\n",
       "      <td>-0.009291</td>\n",
       "    </tr>\n",
       "    <tr>\n",
       "      <th>3</th>\n",
       "      <td>-0.018487</td>\n",
       "      <td>-0.005300</td>\n",
       "      <td>-0.019736</td>\n",
       "      <td>0.044298</td>\n",
       "      <td>-0.020414</td>\n",
       "      <td>0.032369</td>\n",
       "      <td>0.003270</td>\n",
       "      <td>-0.053760</td>\n",
       "      <td>-0.012529</td>\n",
       "      <td>0.039304</td>\n",
       "      <td>...</td>\n",
       "      <td>0.008235</td>\n",
       "      <td>-0.011501</td>\n",
       "      <td>0.014615</td>\n",
       "      <td>0.038758</td>\n",
       "      <td>0.009990</td>\n",
       "      <td>-0.015177</td>\n",
       "      <td>-0.028269</td>\n",
       "      <td>0.005696</td>\n",
       "      <td>0.034646</td>\n",
       "      <td>0.007942</td>\n",
       "    </tr>\n",
       "    <tr>\n",
       "      <th>4</th>\n",
       "      <td>-0.010963</td>\n",
       "      <td>-0.039525</td>\n",
       "      <td>-0.020190</td>\n",
       "      <td>0.044142</td>\n",
       "      <td>-0.027780</td>\n",
       "      <td>0.032248</td>\n",
       "      <td>0.009840</td>\n",
       "      <td>-0.049892</td>\n",
       "      <td>0.001871</td>\n",
       "      <td>0.058652</td>\n",
       "      <td>...</td>\n",
       "      <td>0.018865</td>\n",
       "      <td>-0.011564</td>\n",
       "      <td>0.013905</td>\n",
       "      <td>0.023749</td>\n",
       "      <td>0.010506</td>\n",
       "      <td>-0.017543</td>\n",
       "      <td>-0.027306</td>\n",
       "      <td>0.027216</td>\n",
       "      <td>0.015570</td>\n",
       "      <td>0.010784</td>\n",
       "    </tr>\n",
       "    <tr>\n",
       "      <th>...</th>\n",
       "      <td>...</td>\n",
       "      <td>...</td>\n",
       "      <td>...</td>\n",
       "      <td>...</td>\n",
       "      <td>...</td>\n",
       "      <td>...</td>\n",
       "      <td>...</td>\n",
       "      <td>...</td>\n",
       "      <td>...</td>\n",
       "      <td>...</td>\n",
       "      <td>...</td>\n",
       "      <td>...</td>\n",
       "      <td>...</td>\n",
       "      <td>...</td>\n",
       "      <td>...</td>\n",
       "      <td>...</td>\n",
       "      <td>...</td>\n",
       "      <td>...</td>\n",
       "      <td>...</td>\n",
       "      <td>...</td>\n",
       "      <td>...</td>\n",
       "    </tr>\n",
       "    <tr>\n",
       "      <th>10687</th>\n",
       "      <td>-0.029210</td>\n",
       "      <td>0.011155</td>\n",
       "      <td>-0.006377</td>\n",
       "      <td>0.046776</td>\n",
       "      <td>-0.025457</td>\n",
       "      <td>0.002079</td>\n",
       "      <td>0.006012</td>\n",
       "      <td>-0.028870</td>\n",
       "      <td>0.015737</td>\n",
       "      <td>0.046332</td>\n",
       "      <td>...</td>\n",
       "      <td>0.037759</td>\n",
       "      <td>-0.015325</td>\n",
       "      <td>0.009431</td>\n",
       "      <td>-0.009702</td>\n",
       "      <td>0.009091</td>\n",
       "      <td>-0.043326</td>\n",
       "      <td>-0.025808</td>\n",
       "      <td>0.038204</td>\n",
       "      <td>0.031567</td>\n",
       "      <td>-0.006687</td>\n",
       "    </tr>\n",
       "    <tr>\n",
       "      <th>10688</th>\n",
       "      <td>-0.041173</td>\n",
       "      <td>0.010350</td>\n",
       "      <td>-0.021792</td>\n",
       "      <td>0.045523</td>\n",
       "      <td>-0.020995</td>\n",
       "      <td>0.017644</td>\n",
       "      <td>0.002863</td>\n",
       "      <td>-0.055886</td>\n",
       "      <td>-0.019077</td>\n",
       "      <td>0.063391</td>\n",
       "      <td>...</td>\n",
       "      <td>0.017315</td>\n",
       "      <td>0.016870</td>\n",
       "      <td>0.006894</td>\n",
       "      <td>-0.020515</td>\n",
       "      <td>0.003003</td>\n",
       "      <td>-0.046619</td>\n",
       "      <td>-0.022752</td>\n",
       "      <td>0.059461</td>\n",
       "      <td>0.049146</td>\n",
       "      <td>-0.007352</td>\n",
       "    </tr>\n",
       "    <tr>\n",
       "      <th>10689</th>\n",
       "      <td>-0.030016</td>\n",
       "      <td>0.003368</td>\n",
       "      <td>-0.033410</td>\n",
       "      <td>0.023910</td>\n",
       "      <td>-0.019755</td>\n",
       "      <td>0.018780</td>\n",
       "      <td>0.005391</td>\n",
       "      <td>-0.040908</td>\n",
       "      <td>-0.017813</td>\n",
       "      <td>0.065019</td>\n",
       "      <td>...</td>\n",
       "      <td>0.022029</td>\n",
       "      <td>-0.017187</td>\n",
       "      <td>0.017818</td>\n",
       "      <td>-0.004375</td>\n",
       "      <td>-0.000672</td>\n",
       "      <td>-0.035493</td>\n",
       "      <td>-0.011981</td>\n",
       "      <td>0.056631</td>\n",
       "      <td>0.027491</td>\n",
       "      <td>-0.012153</td>\n",
       "    </tr>\n",
       "    <tr>\n",
       "      <th>10690</th>\n",
       "      <td>-0.006542</td>\n",
       "      <td>0.005297</td>\n",
       "      <td>-0.014884</td>\n",
       "      <td>0.020711</td>\n",
       "      <td>-0.029233</td>\n",
       "      <td>0.003898</td>\n",
       "      <td>-0.024561</td>\n",
       "      <td>-0.053010</td>\n",
       "      <td>-0.021391</td>\n",
       "      <td>0.050471</td>\n",
       "      <td>...</td>\n",
       "      <td>0.029530</td>\n",
       "      <td>0.007000</td>\n",
       "      <td>-0.000413</td>\n",
       "      <td>-0.044168</td>\n",
       "      <td>0.037959</td>\n",
       "      <td>-0.042401</td>\n",
       "      <td>-0.030223</td>\n",
       "      <td>0.052912</td>\n",
       "      <td>0.042841</td>\n",
       "      <td>-0.019456</td>\n",
       "    </tr>\n",
       "    <tr>\n",
       "      <th>10691</th>\n",
       "      <td>-0.023692</td>\n",
       "      <td>-0.005489</td>\n",
       "      <td>-0.010157</td>\n",
       "      <td>0.015438</td>\n",
       "      <td>-0.036750</td>\n",
       "      <td>0.012870</td>\n",
       "      <td>-0.010567</td>\n",
       "      <td>-0.045503</td>\n",
       "      <td>-0.001974</td>\n",
       "      <td>0.055648</td>\n",
       "      <td>...</td>\n",
       "      <td>0.012262</td>\n",
       "      <td>-0.011594</td>\n",
       "      <td>0.015671</td>\n",
       "      <td>0.012601</td>\n",
       "      <td>0.020126</td>\n",
       "      <td>-0.038221</td>\n",
       "      <td>-0.038930</td>\n",
       "      <td>0.046088</td>\n",
       "      <td>0.045208</td>\n",
       "      <td>0.006622</td>\n",
       "    </tr>\n",
       "  </tbody>\n",
       "</table>\n",
       "<p>10692 rows × 300 columns</p>\n",
       "</div>"
      ],
      "text/plain": [
       "            0         1         2         3         4         5         6    \\\n",
       "0     -0.016846 -0.011860 -0.042851  0.044163 -0.027453  0.022471  0.000556   \n",
       "1     -0.025288 -0.020077 -0.029960  0.033417 -0.022732  0.031891  0.014065   \n",
       "2     -0.026789  0.006986 -0.025454  0.034253 -0.019140  0.003891 -0.009987   \n",
       "3     -0.018487 -0.005300 -0.019736  0.044298 -0.020414  0.032369  0.003270   \n",
       "4     -0.010963 -0.039525 -0.020190  0.044142 -0.027780  0.032248  0.009840   \n",
       "...         ...       ...       ...       ...       ...       ...       ...   \n",
       "10687 -0.029210  0.011155 -0.006377  0.046776 -0.025457  0.002079  0.006012   \n",
       "10688 -0.041173  0.010350 -0.021792  0.045523 -0.020995  0.017644  0.002863   \n",
       "10689 -0.030016  0.003368 -0.033410  0.023910 -0.019755  0.018780  0.005391   \n",
       "10690 -0.006542  0.005297 -0.014884  0.020711 -0.029233  0.003898 -0.024561   \n",
       "10691 -0.023692 -0.005489 -0.010157  0.015438 -0.036750  0.012870 -0.010567   \n",
       "\n",
       "            7         8         9    ...       290       291       292  \\\n",
       "0     -0.036933 -0.001978  0.050484  ...  0.010223 -0.011244  0.009240   \n",
       "1     -0.054808  0.008609  0.072909  ...  0.014924 -0.009034  0.017069   \n",
       "2     -0.062290 -0.005792  0.039410  ...  0.033633 -0.010781  0.009733   \n",
       "3     -0.053760 -0.012529  0.039304  ...  0.008235 -0.011501  0.014615   \n",
       "4     -0.049892  0.001871  0.058652  ...  0.018865 -0.011564  0.013905   \n",
       "...         ...       ...       ...  ...       ...       ...       ...   \n",
       "10687 -0.028870  0.015737  0.046332  ...  0.037759 -0.015325  0.009431   \n",
       "10688 -0.055886 -0.019077  0.063391  ...  0.017315  0.016870  0.006894   \n",
       "10689 -0.040908 -0.017813  0.065019  ...  0.022029 -0.017187  0.017818   \n",
       "10690 -0.053010 -0.021391  0.050471  ...  0.029530  0.007000 -0.000413   \n",
       "10691 -0.045503 -0.001974  0.055648  ...  0.012262 -0.011594  0.015671   \n",
       "\n",
       "            293       294       295       296       297       298       299  \n",
       "0      0.028963 -0.008443 -0.042849 -0.014880  0.041051  0.023303 -0.012236  \n",
       "1      0.036944  0.000622 -0.024272 -0.017961  0.043717  0.026246 -0.006339  \n",
       "2     -0.002281  0.006047 -0.046107 -0.023379  0.041657  0.028609 -0.009291  \n",
       "3      0.038758  0.009990 -0.015177 -0.028269  0.005696  0.034646  0.007942  \n",
       "4      0.023749  0.010506 -0.017543 -0.027306  0.027216  0.015570  0.010784  \n",
       "...         ...       ...       ...       ...       ...       ...       ...  \n",
       "10687 -0.009702  0.009091 -0.043326 -0.025808  0.038204  0.031567 -0.006687  \n",
       "10688 -0.020515  0.003003 -0.046619 -0.022752  0.059461  0.049146 -0.007352  \n",
       "10689 -0.004375 -0.000672 -0.035493 -0.011981  0.056631  0.027491 -0.012153  \n",
       "10690 -0.044168  0.037959 -0.042401 -0.030223  0.052912  0.042841 -0.019456  \n",
       "10691  0.012601  0.020126 -0.038221 -0.038930  0.046088  0.045208  0.006622  \n",
       "\n",
       "[10692 rows x 300 columns]"
      ]
     },
     "execution_count": 32,
     "metadata": {},
     "output_type": "execute_result"
    }
   ],
   "source": [
    "from sklearn.neighbors import KNeighborsClassifier\n",
    "\n",
    "\n",
    "d_i_tweets.drop(columns='index', inplace=True)\n",
    "d_i_tweets\n"
   ]
  },
  {
   "cell_type": "code",
   "execution_count": null,
   "metadata": {
    "ExecuteTime": {
     "end_time": "2020-09-10T10:57:29.270732Z",
     "start_time": "2020-09-10T10:57:29.262601Z"
    }
   },
   "outputs": [],
   "source": [
    "all_info.columns"
   ]
  },
  {
   "cell_type": "code",
   "execution_count": null,
   "metadata": {
    "ExecuteTime": {
     "end_time": "2020-09-10T13:01:05.845508Z",
     "start_time": "2020-09-10T13:01:05.826815Z"
    }
   },
   "outputs": [],
   "source": [
    "X = all_info[d_i_tweets.columns]\n",
    "y = all_info[\"countries\"]"
   ]
  },
  {
   "cell_type": "code",
   "execution_count": 33,
   "metadata": {
    "ExecuteTime": {
     "end_time": "2020-09-11T08:01:42.245497Z",
     "start_time": "2020-09-11T08:01:42.240313Z"
    }
   },
   "outputs": [],
   "source": [
    "from sklearn.model_selection import train_test_split\n",
    "from sklearn.model_selection import GridSearchCV"
   ]
  },
  {
   "cell_type": "code",
   "execution_count": null,
   "metadata": {
    "ExecuteTime": {
     "end_time": "2020-09-10T13:01:06.319600Z",
     "start_time": "2020-09-10T13:01:06.294200Z"
    }
   },
   "outputs": [],
   "source": [
    "X_train, X_test, y_train, y_test = train_test_split(X, y, test_size=0.2, random_state=0)"
   ]
  },
  {
   "cell_type": "code",
   "execution_count": null,
   "metadata": {
    "ExecuteTime": {
     "end_time": "2020-09-10T13:01:06.616727Z",
     "start_time": "2020-09-10T13:01:06.611039Z"
    }
   },
   "outputs": [],
   "source": [
    "neigh = KNeighborsClassifier()\n",
    "k_grid = {'n_neighbors' : [2,5,10,20,30]}"
   ]
  },
  {
   "cell_type": "code",
   "execution_count": null,
   "metadata": {
    "ExecuteTime": {
     "end_time": "2020-09-10T13:01:56.742399Z",
     "start_time": "2020-09-10T13:01:07.045074Z"
    }
   },
   "outputs": [],
   "source": [
    "grid_search = GridSearchCV(neigh, k_grid, n_jobs=-1, scoring = 'accuracy', cv = 5)\n",
    "grid_search.fit(X_train,y_train)"
   ]
  },
  {
   "cell_type": "code",
   "execution_count": null,
   "metadata": {
    "ExecuteTime": {
     "end_time": "2020-09-10T13:02:06.626695Z",
     "start_time": "2020-09-10T13:01:56.746642Z"
    }
   },
   "outputs": [],
   "source": [
    "score = grid_search.score(X_test, y_test)"
   ]
  },
  {
   "cell_type": "code",
   "execution_count": null,
   "metadata": {
    "ExecuteTime": {
     "end_time": "2020-09-10T13:02:06.632743Z",
     "start_time": "2020-09-10T13:02:06.628353Z"
    }
   },
   "outputs": [],
   "source": [
    "score"
   ]
  },
  {
   "cell_type": "code",
   "execution_count": 34,
   "metadata": {
    "ExecuteTime": {
     "end_time": "2020-09-11T08:01:51.869455Z",
     "start_time": "2020-09-11T08:01:51.866428Z"
    }
   },
   "outputs": [],
   "source": [
    "from sklearn.metrics import plot_confusion_matrix\n"
   ]
  },
  {
   "cell_type": "markdown",
   "metadata": {},
   "source": [
    "## six_countries\n"
   ]
  },
  {
   "cell_type": "code",
   "execution_count": 36,
   "metadata": {
    "ExecuteTime": {
     "end_time": "2020-09-11T08:02:07.778667Z",
     "start_time": "2020-09-11T08:02:07.639863Z"
    }
   },
   "outputs": [],
   "source": [
    "six_countries = pd.read_pickle(\"../../raw_data/six_countries\")"
   ]
  },
  {
   "cell_type": "code",
   "execution_count": 37,
   "metadata": {
    "ExecuteTime": {
     "end_time": "2020-09-11T08:02:12.474883Z",
     "start_time": "2020-09-11T08:02:12.445350Z"
    }
   },
   "outputs": [
    {
     "data": {
      "text/html": [
       "<div>\n",
       "<style scoped>\n",
       "    .dataframe tbody tr th:only-of-type {\n",
       "        vertical-align: middle;\n",
       "    }\n",
       "\n",
       "    .dataframe tbody tr th {\n",
       "        vertical-align: top;\n",
       "    }\n",
       "\n",
       "    .dataframe thead th {\n",
       "        text-align: right;\n",
       "    }\n",
       "</style>\n",
       "<table border=\"1\" class=\"dataframe\">\n",
       "  <thead>\n",
       "    <tr style=\"text-align: right;\">\n",
       "      <th></th>\n",
       "      <th>index</th>\n",
       "      <th>mep_id</th>\n",
       "      <th>name</th>\n",
       "      <th>country</th>\n",
       "      <th>group</th>\n",
       "      <th>nat_group</th>\n",
       "      <th>twitter</th>\n",
       "      <th>content</th>\n",
       "      <th>age</th>\n",
       "      <th>sex</th>\n",
       "      <th>...</th>\n",
       "      <th>293</th>\n",
       "      <th>294</th>\n",
       "      <th>295</th>\n",
       "      <th>296</th>\n",
       "      <th>297</th>\n",
       "      <th>298</th>\n",
       "      <th>299</th>\n",
       "      <th>countries</th>\n",
       "      <th>european_group</th>\n",
       "      <th>age_code</th>\n",
       "    </tr>\n",
       "  </thead>\n",
       "  <tbody>\n",
       "    <tr>\n",
       "      <th>0</th>\n",
       "      <td>836</td>\n",
       "      <td>125045</td>\n",
       "      <td>Clara AGUILERA</td>\n",
       "      <td>Spain</td>\n",
       "      <td>Group of the Progressive Alliance of Socialist...</td>\n",
       "      <td>Partido Socialista Obrero Español</td>\n",
       "      <td>ClaraAguilera7</td>\n",
       "      <td>Clara Aguilera: \"El criterio científico debe p...</td>\n",
       "      <td>56</td>\n",
       "      <td>1.0</td>\n",
       "      <td>...</td>\n",
       "      <td>0.041642</td>\n",
       "      <td>-0.003032</td>\n",
       "      <td>-0.044886</td>\n",
       "      <td>-0.004864</td>\n",
       "      <td>0.038302</td>\n",
       "      <td>-0.009395</td>\n",
       "      <td>0.010062</td>\n",
       "      <td>0</td>\n",
       "      <td>2</td>\n",
       "      <td>3</td>\n",
       "    </tr>\n",
       "  </tbody>\n",
       "</table>\n",
       "<p>1 rows × 313 columns</p>\n",
       "</div>"
      ],
      "text/plain": [
       "   index  mep_id            name country  \\\n",
       "0    836  125045  Clara AGUILERA   Spain   \n",
       "\n",
       "                                               group  \\\n",
       "0  Group of the Progressive Alliance of Socialist...   \n",
       "\n",
       "                           nat_group         twitter  \\\n",
       "0  Partido Socialista Obrero Español  ClaraAguilera7   \n",
       "\n",
       "                                             content  age  sex  ...       293  \\\n",
       "0  Clara Aguilera: \"El criterio científico debe p...   56  1.0  ...  0.041642   \n",
       "\n",
       "        294       295       296       297       298       299  countries  \\\n",
       "0 -0.003032 -0.044886 -0.004864  0.038302 -0.009395  0.010062          0   \n",
       "\n",
       "   european_group  age_code  \n",
       "0               2         3  \n",
       "\n",
       "[1 rows x 313 columns]"
      ]
     },
     "execution_count": 37,
     "metadata": {},
     "output_type": "execute_result"
    }
   ],
   "source": [
    "six_countries.head(1)\n"
   ]
  },
  {
   "cell_type": "code",
   "execution_count": 38,
   "metadata": {
    "ExecuteTime": {
     "end_time": "2020-09-11T08:02:26.266068Z",
     "start_time": "2020-09-11T08:02:26.227824Z"
    }
   },
   "outputs": [],
   "source": [
    "X = six_countries[d_i_tweets.columns]\n",
    "y = six_countries[\"nat_group\"]"
   ]
  },
  {
   "cell_type": "code",
   "execution_count": 39,
   "metadata": {
    "ExecuteTime": {
     "end_time": "2020-09-11T08:02:27.178638Z",
     "start_time": "2020-09-11T08:02:27.113723Z"
    }
   },
   "outputs": [],
   "source": [
    "X_train, X_test, y_train, y_test = train_test_split(X, y, test_size=0.2, random_state=0)"
   ]
  },
  {
   "cell_type": "code",
   "execution_count": 40,
   "metadata": {
    "ExecuteTime": {
     "end_time": "2020-09-11T08:02:27.436751Z",
     "start_time": "2020-09-11T08:02:27.431097Z"
    }
   },
   "outputs": [],
   "source": [
    "neigh = KNeighborsClassifier()\n",
    "k_grid = {'n_neighbors' : [2,5,10,20,30]}"
   ]
  },
  {
   "cell_type": "code",
   "execution_count": 41,
   "metadata": {
    "ExecuteTime": {
     "end_time": "2020-09-11T08:02:41.820536Z",
     "start_time": "2020-09-11T08:02:28.001712Z"
    }
   },
   "outputs": [
    {
     "ename": "KeyboardInterrupt",
     "evalue": "",
     "output_type": "error",
     "traceback": [
      "\u001b[0;31m---------------------------------------------------------------------------\u001b[0m",
      "\u001b[0;31mKeyboardInterrupt\u001b[0m                         Traceback (most recent call last)",
      "\u001b[0;32m<ipython-input-41-d69dfef5c5ec>\u001b[0m in \u001b[0;36m<module>\u001b[0;34m\u001b[0m\n\u001b[1;32m      1\u001b[0m \u001b[0mgrid_search\u001b[0m \u001b[0;34m=\u001b[0m \u001b[0mGridSearchCV\u001b[0m\u001b[0;34m(\u001b[0m\u001b[0mneigh\u001b[0m\u001b[0;34m,\u001b[0m \u001b[0mk_grid\u001b[0m\u001b[0;34m,\u001b[0m \u001b[0mn_jobs\u001b[0m\u001b[0;34m=\u001b[0m\u001b[0;34m-\u001b[0m\u001b[0;36m1\u001b[0m\u001b[0;34m,\u001b[0m \u001b[0mscoring\u001b[0m \u001b[0;34m=\u001b[0m \u001b[0;34m'accuracy'\u001b[0m\u001b[0;34m,\u001b[0m \u001b[0mcv\u001b[0m \u001b[0;34m=\u001b[0m \u001b[0;36m5\u001b[0m\u001b[0;34m)\u001b[0m\u001b[0;34m\u001b[0m\u001b[0;34m\u001b[0m\u001b[0m\n\u001b[0;32m----> 2\u001b[0;31m \u001b[0mgrid_search\u001b[0m\u001b[0;34m.\u001b[0m\u001b[0mfit\u001b[0m\u001b[0;34m(\u001b[0m\u001b[0mX_train\u001b[0m\u001b[0;34m,\u001b[0m\u001b[0my_train\u001b[0m\u001b[0;34m)\u001b[0m\u001b[0;34m\u001b[0m\u001b[0;34m\u001b[0m\u001b[0m\n\u001b[0m",
      "\u001b[0;32m~/.pyenv/versions/3.7.7/envs/delphes/lib/python3.7/site-packages/sklearn/utils/validation.py\u001b[0m in \u001b[0;36minner_f\u001b[0;34m(*args, **kwargs)\u001b[0m\n\u001b[1;32m     70\u001b[0m                           FutureWarning)\n\u001b[1;32m     71\u001b[0m         \u001b[0mkwargs\u001b[0m\u001b[0;34m.\u001b[0m\u001b[0mupdate\u001b[0m\u001b[0;34m(\u001b[0m\u001b[0;34m{\u001b[0m\u001b[0mk\u001b[0m\u001b[0;34m:\u001b[0m \u001b[0marg\u001b[0m \u001b[0;32mfor\u001b[0m \u001b[0mk\u001b[0m\u001b[0;34m,\u001b[0m \u001b[0marg\u001b[0m \u001b[0;32min\u001b[0m \u001b[0mzip\u001b[0m\u001b[0;34m(\u001b[0m\u001b[0msig\u001b[0m\u001b[0;34m.\u001b[0m\u001b[0mparameters\u001b[0m\u001b[0;34m,\u001b[0m \u001b[0margs\u001b[0m\u001b[0;34m)\u001b[0m\u001b[0;34m}\u001b[0m\u001b[0;34m)\u001b[0m\u001b[0;34m\u001b[0m\u001b[0;34m\u001b[0m\u001b[0m\n\u001b[0;32m---> 72\u001b[0;31m         \u001b[0;32mreturn\u001b[0m \u001b[0mf\u001b[0m\u001b[0;34m(\u001b[0m\u001b[0;34m**\u001b[0m\u001b[0mkwargs\u001b[0m\u001b[0;34m)\u001b[0m\u001b[0;34m\u001b[0m\u001b[0;34m\u001b[0m\u001b[0m\n\u001b[0m\u001b[1;32m     73\u001b[0m     \u001b[0;32mreturn\u001b[0m \u001b[0minner_f\u001b[0m\u001b[0;34m\u001b[0m\u001b[0;34m\u001b[0m\u001b[0m\n\u001b[1;32m     74\u001b[0m \u001b[0;34m\u001b[0m\u001b[0m\n",
      "\u001b[0;32m~/.pyenv/versions/3.7.7/envs/delphes/lib/python3.7/site-packages/sklearn/model_selection/_search.py\u001b[0m in \u001b[0;36mfit\u001b[0;34m(self, X, y, groups, **fit_params)\u001b[0m\n\u001b[1;32m    734\u001b[0m                 \u001b[0;32mreturn\u001b[0m \u001b[0mresults\u001b[0m\u001b[0;34m\u001b[0m\u001b[0;34m\u001b[0m\u001b[0m\n\u001b[1;32m    735\u001b[0m \u001b[0;34m\u001b[0m\u001b[0m\n\u001b[0;32m--> 736\u001b[0;31m             \u001b[0mself\u001b[0m\u001b[0;34m.\u001b[0m\u001b[0m_run_search\u001b[0m\u001b[0;34m(\u001b[0m\u001b[0mevaluate_candidates\u001b[0m\u001b[0;34m)\u001b[0m\u001b[0;34m\u001b[0m\u001b[0;34m\u001b[0m\u001b[0m\n\u001b[0m\u001b[1;32m    737\u001b[0m \u001b[0;34m\u001b[0m\u001b[0m\n\u001b[1;32m    738\u001b[0m         \u001b[0;31m# For multi-metric evaluation, store the best_index_, best_params_ and\u001b[0m\u001b[0;34m\u001b[0m\u001b[0;34m\u001b[0m\u001b[0;34m\u001b[0m\u001b[0m\n",
      "\u001b[0;32m~/.pyenv/versions/3.7.7/envs/delphes/lib/python3.7/site-packages/sklearn/model_selection/_search.py\u001b[0m in \u001b[0;36m_run_search\u001b[0;34m(self, evaluate_candidates)\u001b[0m\n\u001b[1;32m   1186\u001b[0m     \u001b[0;32mdef\u001b[0m \u001b[0m_run_search\u001b[0m\u001b[0;34m(\u001b[0m\u001b[0mself\u001b[0m\u001b[0;34m,\u001b[0m \u001b[0mevaluate_candidates\u001b[0m\u001b[0;34m)\u001b[0m\u001b[0;34m:\u001b[0m\u001b[0;34m\u001b[0m\u001b[0;34m\u001b[0m\u001b[0m\n\u001b[1;32m   1187\u001b[0m         \u001b[0;34m\"\"\"Search all candidates in param_grid\"\"\"\u001b[0m\u001b[0;34m\u001b[0m\u001b[0;34m\u001b[0m\u001b[0m\n\u001b[0;32m-> 1188\u001b[0;31m         \u001b[0mevaluate_candidates\u001b[0m\u001b[0;34m(\u001b[0m\u001b[0mParameterGrid\u001b[0m\u001b[0;34m(\u001b[0m\u001b[0mself\u001b[0m\u001b[0;34m.\u001b[0m\u001b[0mparam_grid\u001b[0m\u001b[0;34m)\u001b[0m\u001b[0;34m)\u001b[0m\u001b[0;34m\u001b[0m\u001b[0;34m\u001b[0m\u001b[0m\n\u001b[0m\u001b[1;32m   1189\u001b[0m \u001b[0;34m\u001b[0m\u001b[0m\n\u001b[1;32m   1190\u001b[0m \u001b[0;34m\u001b[0m\u001b[0m\n",
      "\u001b[0;32m~/.pyenv/versions/3.7.7/envs/delphes/lib/python3.7/site-packages/sklearn/model_selection/_search.py\u001b[0m in \u001b[0;36mevaluate_candidates\u001b[0;34m(candidate_params)\u001b[0m\n\u001b[1;32m    713\u001b[0m                                \u001b[0;32mfor\u001b[0m \u001b[0mparameters\u001b[0m\u001b[0;34m,\u001b[0m \u001b[0;34m(\u001b[0m\u001b[0mtrain\u001b[0m\u001b[0;34m,\u001b[0m \u001b[0mtest\u001b[0m\u001b[0;34m)\u001b[0m\u001b[0;34m\u001b[0m\u001b[0;34m\u001b[0m\u001b[0m\n\u001b[1;32m    714\u001b[0m                                in product(candidate_params,\n\u001b[0;32m--> 715\u001b[0;31m                                           cv.split(X, y, groups)))\n\u001b[0m\u001b[1;32m    716\u001b[0m \u001b[0;34m\u001b[0m\u001b[0m\n\u001b[1;32m    717\u001b[0m                 \u001b[0;32mif\u001b[0m \u001b[0mlen\u001b[0m\u001b[0;34m(\u001b[0m\u001b[0mout\u001b[0m\u001b[0;34m)\u001b[0m \u001b[0;34m<\u001b[0m \u001b[0;36m1\u001b[0m\u001b[0;34m:\u001b[0m\u001b[0;34m\u001b[0m\u001b[0;34m\u001b[0m\u001b[0m\n",
      "\u001b[0;32m~/.pyenv/versions/3.7.7/envs/delphes/lib/python3.7/site-packages/joblib/parallel.py\u001b[0m in \u001b[0;36m__call__\u001b[0;34m(self, iterable)\u001b[0m\n\u001b[1;32m   1040\u001b[0m \u001b[0;34m\u001b[0m\u001b[0m\n\u001b[1;32m   1041\u001b[0m             \u001b[0;32mwith\u001b[0m \u001b[0mself\u001b[0m\u001b[0;34m.\u001b[0m\u001b[0m_backend\u001b[0m\u001b[0;34m.\u001b[0m\u001b[0mretrieval_context\u001b[0m\u001b[0;34m(\u001b[0m\u001b[0;34m)\u001b[0m\u001b[0;34m:\u001b[0m\u001b[0;34m\u001b[0m\u001b[0;34m\u001b[0m\u001b[0m\n\u001b[0;32m-> 1042\u001b[0;31m                 \u001b[0mself\u001b[0m\u001b[0;34m.\u001b[0m\u001b[0mretrieve\u001b[0m\u001b[0;34m(\u001b[0m\u001b[0;34m)\u001b[0m\u001b[0;34m\u001b[0m\u001b[0;34m\u001b[0m\u001b[0m\n\u001b[0m\u001b[1;32m   1043\u001b[0m             \u001b[0;31m# Make sure that we get a last message telling us we are done\u001b[0m\u001b[0;34m\u001b[0m\u001b[0;34m\u001b[0m\u001b[0;34m\u001b[0m\u001b[0m\n\u001b[1;32m   1044\u001b[0m             \u001b[0melapsed_time\u001b[0m \u001b[0;34m=\u001b[0m \u001b[0mtime\u001b[0m\u001b[0;34m.\u001b[0m\u001b[0mtime\u001b[0m\u001b[0;34m(\u001b[0m\u001b[0;34m)\u001b[0m \u001b[0;34m-\u001b[0m \u001b[0mself\u001b[0m\u001b[0;34m.\u001b[0m\u001b[0m_start_time\u001b[0m\u001b[0;34m\u001b[0m\u001b[0;34m\u001b[0m\u001b[0m\n",
      "\u001b[0;32m~/.pyenv/versions/3.7.7/envs/delphes/lib/python3.7/site-packages/joblib/parallel.py\u001b[0m in \u001b[0;36mretrieve\u001b[0;34m(self)\u001b[0m\n\u001b[1;32m    919\u001b[0m             \u001b[0;32mtry\u001b[0m\u001b[0;34m:\u001b[0m\u001b[0;34m\u001b[0m\u001b[0;34m\u001b[0m\u001b[0m\n\u001b[1;32m    920\u001b[0m                 \u001b[0;32mif\u001b[0m \u001b[0mgetattr\u001b[0m\u001b[0;34m(\u001b[0m\u001b[0mself\u001b[0m\u001b[0;34m.\u001b[0m\u001b[0m_backend\u001b[0m\u001b[0;34m,\u001b[0m \u001b[0;34m'supports_timeout'\u001b[0m\u001b[0;34m,\u001b[0m \u001b[0;32mFalse\u001b[0m\u001b[0;34m)\u001b[0m\u001b[0;34m:\u001b[0m\u001b[0;34m\u001b[0m\u001b[0;34m\u001b[0m\u001b[0m\n\u001b[0;32m--> 921\u001b[0;31m                     \u001b[0mself\u001b[0m\u001b[0;34m.\u001b[0m\u001b[0m_output\u001b[0m\u001b[0;34m.\u001b[0m\u001b[0mextend\u001b[0m\u001b[0;34m(\u001b[0m\u001b[0mjob\u001b[0m\u001b[0;34m.\u001b[0m\u001b[0mget\u001b[0m\u001b[0;34m(\u001b[0m\u001b[0mtimeout\u001b[0m\u001b[0;34m=\u001b[0m\u001b[0mself\u001b[0m\u001b[0;34m.\u001b[0m\u001b[0mtimeout\u001b[0m\u001b[0;34m)\u001b[0m\u001b[0;34m)\u001b[0m\u001b[0;34m\u001b[0m\u001b[0;34m\u001b[0m\u001b[0m\n\u001b[0m\u001b[1;32m    922\u001b[0m                 \u001b[0;32melse\u001b[0m\u001b[0;34m:\u001b[0m\u001b[0;34m\u001b[0m\u001b[0;34m\u001b[0m\u001b[0m\n\u001b[1;32m    923\u001b[0m                     \u001b[0mself\u001b[0m\u001b[0;34m.\u001b[0m\u001b[0m_output\u001b[0m\u001b[0;34m.\u001b[0m\u001b[0mextend\u001b[0m\u001b[0;34m(\u001b[0m\u001b[0mjob\u001b[0m\u001b[0;34m.\u001b[0m\u001b[0mget\u001b[0m\u001b[0;34m(\u001b[0m\u001b[0;34m)\u001b[0m\u001b[0;34m)\u001b[0m\u001b[0;34m\u001b[0m\u001b[0;34m\u001b[0m\u001b[0m\n",
      "\u001b[0;32m~/.pyenv/versions/3.7.7/envs/delphes/lib/python3.7/site-packages/joblib/_parallel_backends.py\u001b[0m in \u001b[0;36mwrap_future_result\u001b[0;34m(future, timeout)\u001b[0m\n\u001b[1;32m    540\u001b[0m         AsyncResults.get from multiprocessing.\"\"\"\n\u001b[1;32m    541\u001b[0m         \u001b[0;32mtry\u001b[0m\u001b[0;34m:\u001b[0m\u001b[0;34m\u001b[0m\u001b[0;34m\u001b[0m\u001b[0m\n\u001b[0;32m--> 542\u001b[0;31m             \u001b[0;32mreturn\u001b[0m \u001b[0mfuture\u001b[0m\u001b[0;34m.\u001b[0m\u001b[0mresult\u001b[0m\u001b[0;34m(\u001b[0m\u001b[0mtimeout\u001b[0m\u001b[0;34m=\u001b[0m\u001b[0mtimeout\u001b[0m\u001b[0;34m)\u001b[0m\u001b[0;34m\u001b[0m\u001b[0;34m\u001b[0m\u001b[0m\n\u001b[0m\u001b[1;32m    543\u001b[0m         \u001b[0;32mexcept\u001b[0m \u001b[0mCfTimeoutError\u001b[0m \u001b[0;32mas\u001b[0m \u001b[0me\u001b[0m\u001b[0;34m:\u001b[0m\u001b[0;34m\u001b[0m\u001b[0;34m\u001b[0m\u001b[0m\n\u001b[1;32m    544\u001b[0m             \u001b[0;32mraise\u001b[0m \u001b[0mTimeoutError\u001b[0m \u001b[0;32mfrom\u001b[0m \u001b[0me\u001b[0m\u001b[0;34m\u001b[0m\u001b[0;34m\u001b[0m\u001b[0m\n",
      "\u001b[0;32m~/.pyenv/versions/3.7.7/lib/python3.7/concurrent/futures/_base.py\u001b[0m in \u001b[0;36mresult\u001b[0;34m(self, timeout)\u001b[0m\n\u001b[1;32m    428\u001b[0m                 \u001b[0;32mreturn\u001b[0m \u001b[0mself\u001b[0m\u001b[0;34m.\u001b[0m\u001b[0m__get_result\u001b[0m\u001b[0;34m(\u001b[0m\u001b[0;34m)\u001b[0m\u001b[0;34m\u001b[0m\u001b[0;34m\u001b[0m\u001b[0m\n\u001b[1;32m    429\u001b[0m \u001b[0;34m\u001b[0m\u001b[0m\n\u001b[0;32m--> 430\u001b[0;31m             \u001b[0mself\u001b[0m\u001b[0;34m.\u001b[0m\u001b[0m_condition\u001b[0m\u001b[0;34m.\u001b[0m\u001b[0mwait\u001b[0m\u001b[0;34m(\u001b[0m\u001b[0mtimeout\u001b[0m\u001b[0;34m)\u001b[0m\u001b[0;34m\u001b[0m\u001b[0;34m\u001b[0m\u001b[0m\n\u001b[0m\u001b[1;32m    431\u001b[0m \u001b[0;34m\u001b[0m\u001b[0m\n\u001b[1;32m    432\u001b[0m             \u001b[0;32mif\u001b[0m \u001b[0mself\u001b[0m\u001b[0;34m.\u001b[0m\u001b[0m_state\u001b[0m \u001b[0;32min\u001b[0m \u001b[0;34m[\u001b[0m\u001b[0mCANCELLED\u001b[0m\u001b[0;34m,\u001b[0m \u001b[0mCANCELLED_AND_NOTIFIED\u001b[0m\u001b[0;34m]\u001b[0m\u001b[0;34m:\u001b[0m\u001b[0;34m\u001b[0m\u001b[0;34m\u001b[0m\u001b[0m\n",
      "\u001b[0;32m~/.pyenv/versions/3.7.7/lib/python3.7/threading.py\u001b[0m in \u001b[0;36mwait\u001b[0;34m(self, timeout)\u001b[0m\n\u001b[1;32m    294\u001b[0m         \u001b[0;32mtry\u001b[0m\u001b[0;34m:\u001b[0m    \u001b[0;31m# restore state no matter what (e.g., KeyboardInterrupt)\u001b[0m\u001b[0;34m\u001b[0m\u001b[0;34m\u001b[0m\u001b[0m\n\u001b[1;32m    295\u001b[0m             \u001b[0;32mif\u001b[0m \u001b[0mtimeout\u001b[0m \u001b[0;32mis\u001b[0m \u001b[0;32mNone\u001b[0m\u001b[0;34m:\u001b[0m\u001b[0;34m\u001b[0m\u001b[0;34m\u001b[0m\u001b[0m\n\u001b[0;32m--> 296\u001b[0;31m                 \u001b[0mwaiter\u001b[0m\u001b[0;34m.\u001b[0m\u001b[0macquire\u001b[0m\u001b[0;34m(\u001b[0m\u001b[0;34m)\u001b[0m\u001b[0;34m\u001b[0m\u001b[0;34m\u001b[0m\u001b[0m\n\u001b[0m\u001b[1;32m    297\u001b[0m                 \u001b[0mgotit\u001b[0m \u001b[0;34m=\u001b[0m \u001b[0;32mTrue\u001b[0m\u001b[0;34m\u001b[0m\u001b[0;34m\u001b[0m\u001b[0m\n\u001b[1;32m    298\u001b[0m             \u001b[0;32melse\u001b[0m\u001b[0;34m:\u001b[0m\u001b[0;34m\u001b[0m\u001b[0;34m\u001b[0m\u001b[0m\n",
      "\u001b[0;31mKeyboardInterrupt\u001b[0m: "
     ]
    }
   ],
   "source": [
    "grid_search = GridSearchCV(neigh, k_grid, n_jobs=-1, scoring = 'accuracy', cv = 5)\n",
    "grid_search.fit(X_train,y_train)"
   ]
  },
  {
   "cell_type": "code",
   "execution_count": null,
   "metadata": {
    "ExecuteTime": {
     "end_time": "2020-09-11T08:02:41.825385Z",
     "start_time": "2020-09-11T08:02:28.936Z"
    }
   },
   "outputs": [],
   "source": [
    "score = grid_search.score(X_test, y_test)"
   ]
  },
  {
   "cell_type": "code",
   "execution_count": null,
   "metadata": {
    "ExecuteTime": {
     "end_time": "2020-09-11T08:02:41.828007Z",
     "start_time": "2020-09-11T08:02:29.202Z"
    }
   },
   "outputs": [],
   "source": [
    "score"
   ]
  },
  {
   "cell_type": "code",
   "execution_count": null,
   "metadata": {
    "ExecuteTime": {
     "end_time": "2020-09-11T08:02:41.830392Z",
     "start_time": "2020-09-11T08:02:29.692Z"
    }
   },
   "outputs": [],
   "source": [
    "plot_confusion_matrix(grid_search,X_test, y_test)"
   ]
  },
  {
   "cell_type": "code",
   "execution_count": 42,
   "metadata": {
    "ExecuteTime": {
     "end_time": "2020-09-11T08:02:51.529541Z",
     "start_time": "2020-09-11T08:02:50.525713Z"
    }
   },
   "outputs": [],
   "source": [
    "all_countries = pd.read_hdf('../../raw_data/full_mean_df_hdf.h5', 'h5')\n"
   ]
  },
  {
   "cell_type": "code",
   "execution_count": 43,
   "metadata": {
    "ExecuteTime": {
     "end_time": "2020-09-11T08:02:51.625992Z",
     "start_time": "2020-09-11T08:02:51.531296Z"
    }
   },
   "outputs": [
    {
     "data": {
      "text/html": [
       "<div>\n",
       "<style scoped>\n",
       "    .dataframe tbody tr th:only-of-type {\n",
       "        vertical-align: middle;\n",
       "    }\n",
       "\n",
       "    .dataframe tbody tr th {\n",
       "        vertical-align: top;\n",
       "    }\n",
       "\n",
       "    .dataframe thead th {\n",
       "        text-align: right;\n",
       "    }\n",
       "</style>\n",
       "<table border=\"1\" class=\"dataframe\">\n",
       "  <thead>\n",
       "    <tr style=\"text-align: right;\">\n",
       "      <th></th>\n",
       "      <th>mep_id</th>\n",
       "      <th>name</th>\n",
       "      <th>country</th>\n",
       "      <th>group</th>\n",
       "      <th>nat_group</th>\n",
       "      <th>twitter</th>\n",
       "      <th>content</th>\n",
       "      <th>lang</th>\n",
       "      <th>0</th>\n",
       "      <th>1</th>\n",
       "      <th>...</th>\n",
       "      <th>290</th>\n",
       "      <th>291</th>\n",
       "      <th>292</th>\n",
       "      <th>293</th>\n",
       "      <th>294</th>\n",
       "      <th>295</th>\n",
       "      <th>296</th>\n",
       "      <th>297</th>\n",
       "      <th>298</th>\n",
       "      <th>299</th>\n",
       "    </tr>\n",
       "  </thead>\n",
       "  <tbody>\n",
       "    <tr>\n",
       "      <th>0</th>\n",
       "      <td>197490</td>\n",
       "      <td>Magdalena ADAMOWICZ</td>\n",
       "      <td>Poland</td>\n",
       "      <td>Group of the European People's Party (Christia...</td>\n",
       "      <td>Independent</td>\n",
       "      <td>Adamowicz_Magda</td>\n",
       "      <td>bardzo dziękuję niezależne od władzy wolne med...</td>\n",
       "      <td>polish</td>\n",
       "      <td>-0.012661</td>\n",
       "      <td>0.002554</td>\n",
       "      <td>...</td>\n",
       "      <td>0.007531</td>\n",
       "      <td>-0.041275</td>\n",
       "      <td>0.029452</td>\n",
       "      <td>0.030989</td>\n",
       "      <td>0.010538</td>\n",
       "      <td>-0.049243</td>\n",
       "      <td>-0.025033</td>\n",
       "      <td>0.058314</td>\n",
       "      <td>0.019128</td>\n",
       "      <td>0.022892</td>\n",
       "    </tr>\n",
       "    <tr>\n",
       "      <th>1</th>\n",
       "      <td>197490</td>\n",
       "      <td>Magdalena ADAMOWICZ</td>\n",
       "      <td>Poland</td>\n",
       "      <td>Group of the European People's Party (Christia...</td>\n",
       "      <td>Independent</td>\n",
       "      <td>Adamowicz_Magda</td>\n",
       "      <td>komisja przyjęła arcyważne projekty pilotażowe...</td>\n",
       "      <td>polish</td>\n",
       "      <td>-0.018363</td>\n",
       "      <td>0.009202</td>\n",
       "      <td>...</td>\n",
       "      <td>0.010615</td>\n",
       "      <td>-0.039067</td>\n",
       "      <td>0.031028</td>\n",
       "      <td>0.025055</td>\n",
       "      <td>0.008500</td>\n",
       "      <td>-0.053187</td>\n",
       "      <td>-0.030836</td>\n",
       "      <td>0.053642</td>\n",
       "      <td>0.019144</td>\n",
       "      <td>0.015897</td>\n",
       "    </tr>\n",
       "    <tr>\n",
       "      <th>2</th>\n",
       "      <td>197490</td>\n",
       "      <td>Magdalena ADAMOWICZ</td>\n",
       "      <td>Poland</td>\n",
       "      <td>Group of the European People's Party (Christia...</td>\n",
       "      <td>Independent</td>\n",
       "      <td>Adamowicz_Magda</td>\n",
       "      <td>komisja przyjęła projekty pilotażowe mojego ws...</td>\n",
       "      <td>polish</td>\n",
       "      <td>-0.019916</td>\n",
       "      <td>0.006455</td>\n",
       "      <td>...</td>\n",
       "      <td>0.005200</td>\n",
       "      <td>-0.037808</td>\n",
       "      <td>0.030887</td>\n",
       "      <td>0.027038</td>\n",
       "      <td>0.009016</td>\n",
       "      <td>-0.054631</td>\n",
       "      <td>-0.028361</td>\n",
       "      <td>0.054603</td>\n",
       "      <td>0.024452</td>\n",
       "      <td>0.018427</td>\n",
       "    </tr>\n",
       "    <tr>\n",
       "      <th>3</th>\n",
       "      <td>197490</td>\n",
       "      <td>Magdalena ADAMOWICZ</td>\n",
       "      <td>Poland</td>\n",
       "      <td>Group of the European People's Party (Christia...</td>\n",
       "      <td>Independent</td>\n",
       "      <td>Adamowicz_Magda</td>\n",
       "      <td>w tym dniu w tym miejscu w tej godzinie proszę...</td>\n",
       "      <td>polish</td>\n",
       "      <td>-0.010152</td>\n",
       "      <td>0.005874</td>\n",
       "      <td>...</td>\n",
       "      <td>0.016721</td>\n",
       "      <td>-0.040829</td>\n",
       "      <td>0.033006</td>\n",
       "      <td>0.023900</td>\n",
       "      <td>0.013247</td>\n",
       "      <td>-0.052095</td>\n",
       "      <td>-0.029642</td>\n",
       "      <td>0.054064</td>\n",
       "      <td>0.021562</td>\n",
       "      <td>0.014025</td>\n",
       "    </tr>\n",
       "    <tr>\n",
       "      <th>4</th>\n",
       "      <td>197490</td>\n",
       "      <td>Magdalena ADAMOWICZ</td>\n",
       "      <td>Poland</td>\n",
       "      <td>Group of the European People's Party (Christia...</td>\n",
       "      <td>Independent</td>\n",
       "      <td>Adamowicz_Magda</td>\n",
       "      <td>bóg nie potrzebuje być przez nikogo broniony i...</td>\n",
       "      <td>polish</td>\n",
       "      <td>-0.017805</td>\n",
       "      <td>0.005459</td>\n",
       "      <td>...</td>\n",
       "      <td>0.012571</td>\n",
       "      <td>-0.039137</td>\n",
       "      <td>0.037016</td>\n",
       "      <td>0.028174</td>\n",
       "      <td>0.013037</td>\n",
       "      <td>-0.056093</td>\n",
       "      <td>-0.035508</td>\n",
       "      <td>0.053920</td>\n",
       "      <td>0.019459</td>\n",
       "      <td>0.015463</td>\n",
       "    </tr>\n",
       "    <tr>\n",
       "      <th>...</th>\n",
       "      <td>...</td>\n",
       "      <td>...</td>\n",
       "      <td>...</td>\n",
       "      <td>...</td>\n",
       "      <td>...</td>\n",
       "      <td>...</td>\n",
       "      <td>...</td>\n",
       "      <td>...</td>\n",
       "      <td>...</td>\n",
       "      <td>...</td>\n",
       "      <td>...</td>\n",
       "      <td>...</td>\n",
       "      <td>...</td>\n",
       "      <td>...</td>\n",
       "      <td>...</td>\n",
       "      <td>...</td>\n",
       "      <td>...</td>\n",
       "      <td>...</td>\n",
       "      <td>...</td>\n",
       "      <td>...</td>\n",
       "      <td>...</td>\n",
       "    </tr>\n",
       "    <tr>\n",
       "      <th>137295</th>\n",
       "      <td>197652</td>\n",
       "      <td>Angelika WINZIG</td>\n",
       "      <td>Austria</td>\n",
       "      <td>Group of the European People's Party (Christia...</td>\n",
       "      <td>Österreichische Volkspartei</td>\n",
       "      <td>AngelikaWinzig</td>\n",
       "      <td>italiens budgetpolitik gefährdet nicht nur ita...</td>\n",
       "      <td>german</td>\n",
       "      <td>-0.032662</td>\n",
       "      <td>-0.020359</td>\n",
       "      <td>...</td>\n",
       "      <td>-0.006590</td>\n",
       "      <td>-0.010474</td>\n",
       "      <td>0.038501</td>\n",
       "      <td>0.017754</td>\n",
       "      <td>-0.031848</td>\n",
       "      <td>-0.114873</td>\n",
       "      <td>-0.063869</td>\n",
       "      <td>-0.001768</td>\n",
       "      <td>0.014983</td>\n",
       "      <td>0.010953</td>\n",
       "    </tr>\n",
       "    <tr>\n",
       "      <th>137296</th>\n",
       "      <td>197652</td>\n",
       "      <td>Angelika WINZIG</td>\n",
       "      <td>Austria</td>\n",
       "      <td>Group of the European People's Party (Christia...</td>\n",
       "      <td>Österreichische Volkspartei</td>\n",
       "      <td>AngelikaWinzig</td>\n",
       "      <td>danke martin für die organisation des eu somme...</td>\n",
       "      <td>german</td>\n",
       "      <td>-0.035984</td>\n",
       "      <td>-0.029438</td>\n",
       "      <td>...</td>\n",
       "      <td>-0.009227</td>\n",
       "      <td>-0.008789</td>\n",
       "      <td>0.036854</td>\n",
       "      <td>0.021920</td>\n",
       "      <td>-0.032733</td>\n",
       "      <td>-0.112913</td>\n",
       "      <td>-0.060042</td>\n",
       "      <td>-0.002471</td>\n",
       "      <td>0.018086</td>\n",
       "      <td>0.008367</td>\n",
       "    </tr>\n",
       "    <tr>\n",
       "      <th>137297</th>\n",
       "      <td>197652</td>\n",
       "      <td>Angelika WINZIG</td>\n",
       "      <td>Austria</td>\n",
       "      <td>Group of the European People's Party (Christia...</td>\n",
       "      <td>Österreichische Volkspartei</td>\n",
       "      <td>AngelikaWinzig</td>\n",
       "      <td>tadition amp moderne top betriebe netzwerktref...</td>\n",
       "      <td>german</td>\n",
       "      <td>-0.028948</td>\n",
       "      <td>-0.023442</td>\n",
       "      <td>...</td>\n",
       "      <td>-0.006545</td>\n",
       "      <td>-0.011271</td>\n",
       "      <td>0.042163</td>\n",
       "      <td>0.016308</td>\n",
       "      <td>-0.039746</td>\n",
       "      <td>-0.117086</td>\n",
       "      <td>-0.060991</td>\n",
       "      <td>-0.004830</td>\n",
       "      <td>0.018593</td>\n",
       "      <td>0.007534</td>\n",
       "    </tr>\n",
       "    <tr>\n",
       "      <th>137298</th>\n",
       "      <td>197652</td>\n",
       "      <td>Angelika WINZIG</td>\n",
       "      <td>Austria</td>\n",
       "      <td>Group of the European People's Party (Christia...</td>\n",
       "      <td>Österreichische Volkspartei</td>\n",
       "      <td>AngelikaWinzig</td>\n",
       "      <td>hier mein statement zur budgetrede von finanzm...</td>\n",
       "      <td>german</td>\n",
       "      <td>-0.034614</td>\n",
       "      <td>-0.024161</td>\n",
       "      <td>...</td>\n",
       "      <td>-0.010266</td>\n",
       "      <td>-0.012133</td>\n",
       "      <td>0.036686</td>\n",
       "      <td>0.015777</td>\n",
       "      <td>-0.028820</td>\n",
       "      <td>-0.107009</td>\n",
       "      <td>-0.058627</td>\n",
       "      <td>0.000139</td>\n",
       "      <td>0.018164</td>\n",
       "      <td>0.005121</td>\n",
       "    </tr>\n",
       "    <tr>\n",
       "      <th>137299</th>\n",
       "      <td>197652</td>\n",
       "      <td>Angelika WINZIG</td>\n",
       "      <td>Austria</td>\n",
       "      <td>Group of the European People's Party (Christia...</td>\n",
       "      <td>Österreichische Volkspartei</td>\n",
       "      <td>AngelikaWinzig</td>\n",
       "      <td>morgen ist der große tag der budgetrede unsere...</td>\n",
       "      <td>german</td>\n",
       "      <td>-0.031250</td>\n",
       "      <td>-0.024603</td>\n",
       "      <td>...</td>\n",
       "      <td>-0.009020</td>\n",
       "      <td>-0.014803</td>\n",
       "      <td>0.039108</td>\n",
       "      <td>0.016989</td>\n",
       "      <td>-0.034541</td>\n",
       "      <td>-0.114006</td>\n",
       "      <td>-0.063066</td>\n",
       "      <td>0.000584</td>\n",
       "      <td>0.017401</td>\n",
       "      <td>0.007057</td>\n",
       "    </tr>\n",
       "  </tbody>\n",
       "</table>\n",
       "<p>134724 rows × 308 columns</p>\n",
       "</div>"
      ],
      "text/plain": [
       "        mep_id                 name  country  \\\n",
       "0       197490  Magdalena ADAMOWICZ   Poland   \n",
       "1       197490  Magdalena ADAMOWICZ   Poland   \n",
       "2       197490  Magdalena ADAMOWICZ   Poland   \n",
       "3       197490  Magdalena ADAMOWICZ   Poland   \n",
       "4       197490  Magdalena ADAMOWICZ   Poland   \n",
       "...        ...                  ...      ...   \n",
       "137295  197652      Angelika WINZIG  Austria   \n",
       "137296  197652      Angelika WINZIG  Austria   \n",
       "137297  197652      Angelika WINZIG  Austria   \n",
       "137298  197652      Angelika WINZIG  Austria   \n",
       "137299  197652      Angelika WINZIG  Austria   \n",
       "\n",
       "                                                    group  \\\n",
       "0       Group of the European People's Party (Christia...   \n",
       "1       Group of the European People's Party (Christia...   \n",
       "2       Group of the European People's Party (Christia...   \n",
       "3       Group of the European People's Party (Christia...   \n",
       "4       Group of the European People's Party (Christia...   \n",
       "...                                                   ...   \n",
       "137295  Group of the European People's Party (Christia...   \n",
       "137296  Group of the European People's Party (Christia...   \n",
       "137297  Group of the European People's Party (Christia...   \n",
       "137298  Group of the European People's Party (Christia...   \n",
       "137299  Group of the European People's Party (Christia...   \n",
       "\n",
       "                          nat_group          twitter  \\\n",
       "0                       Independent  Adamowicz_Magda   \n",
       "1                       Independent  Adamowicz_Magda   \n",
       "2                       Independent  Adamowicz_Magda   \n",
       "3                       Independent  Adamowicz_Magda   \n",
       "4                       Independent  Adamowicz_Magda   \n",
       "...                             ...              ...   \n",
       "137295  Österreichische Volkspartei   AngelikaWinzig   \n",
       "137296  Österreichische Volkspartei   AngelikaWinzig   \n",
       "137297  Österreichische Volkspartei   AngelikaWinzig   \n",
       "137298  Österreichische Volkspartei   AngelikaWinzig   \n",
       "137299  Österreichische Volkspartei   AngelikaWinzig   \n",
       "\n",
       "                                                  content    lang         0  \\\n",
       "0       bardzo dziękuję niezależne od władzy wolne med...  polish -0.012661   \n",
       "1       komisja przyjęła arcyważne projekty pilotażowe...  polish -0.018363   \n",
       "2       komisja przyjęła projekty pilotażowe mojego ws...  polish -0.019916   \n",
       "3       w tym dniu w tym miejscu w tej godzinie proszę...  polish -0.010152   \n",
       "4       bóg nie potrzebuje być przez nikogo broniony i...  polish -0.017805   \n",
       "...                                                   ...     ...       ...   \n",
       "137295  italiens budgetpolitik gefährdet nicht nur ita...  german -0.032662   \n",
       "137296  danke martin für die organisation des eu somme...  german -0.035984   \n",
       "137297  tadition amp moderne top betriebe netzwerktref...  german -0.028948   \n",
       "137298  hier mein statement zur budgetrede von finanzm...  german -0.034614   \n",
       "137299  morgen ist der große tag der budgetrede unsere...  german -0.031250   \n",
       "\n",
       "               1  ...       290       291       292       293       294  \\\n",
       "0       0.002554  ...  0.007531 -0.041275  0.029452  0.030989  0.010538   \n",
       "1       0.009202  ...  0.010615 -0.039067  0.031028  0.025055  0.008500   \n",
       "2       0.006455  ...  0.005200 -0.037808  0.030887  0.027038  0.009016   \n",
       "3       0.005874  ...  0.016721 -0.040829  0.033006  0.023900  0.013247   \n",
       "4       0.005459  ...  0.012571 -0.039137  0.037016  0.028174  0.013037   \n",
       "...          ...  ...       ...       ...       ...       ...       ...   \n",
       "137295 -0.020359  ... -0.006590 -0.010474  0.038501  0.017754 -0.031848   \n",
       "137296 -0.029438  ... -0.009227 -0.008789  0.036854  0.021920 -0.032733   \n",
       "137297 -0.023442  ... -0.006545 -0.011271  0.042163  0.016308 -0.039746   \n",
       "137298 -0.024161  ... -0.010266 -0.012133  0.036686  0.015777 -0.028820   \n",
       "137299 -0.024603  ... -0.009020 -0.014803  0.039108  0.016989 -0.034541   \n",
       "\n",
       "             295       296       297       298       299  \n",
       "0      -0.049243 -0.025033  0.058314  0.019128  0.022892  \n",
       "1      -0.053187 -0.030836  0.053642  0.019144  0.015897  \n",
       "2      -0.054631 -0.028361  0.054603  0.024452  0.018427  \n",
       "3      -0.052095 -0.029642  0.054064  0.021562  0.014025  \n",
       "4      -0.056093 -0.035508  0.053920  0.019459  0.015463  \n",
       "...          ...       ...       ...       ...       ...  \n",
       "137295 -0.114873 -0.063869 -0.001768  0.014983  0.010953  \n",
       "137296 -0.112913 -0.060042 -0.002471  0.018086  0.008367  \n",
       "137297 -0.117086 -0.060991 -0.004830  0.018593  0.007534  \n",
       "137298 -0.107009 -0.058627  0.000139  0.018164  0.005121  \n",
       "137299 -0.114006 -0.063066  0.000584  0.017401  0.007057  \n",
       "\n",
       "[134724 rows x 308 columns]"
      ]
     },
     "execution_count": 43,
     "metadata": {},
     "output_type": "execute_result"
    }
   ],
   "source": [
    "all_countries"
   ]
  },
  {
   "cell_type": "code",
   "execution_count": 44,
   "metadata": {
    "ExecuteTime": {
     "end_time": "2020-09-11T08:02:51.890241Z",
     "start_time": "2020-09-11T08:02:51.628044Z"
    },
    "scrolled": true
   },
   "outputs": [],
   "source": [
    "all_countries.dropna(inplace=True)"
   ]
  },
  {
   "cell_type": "code",
   "execution_count": 45,
   "metadata": {
    "ExecuteTime": {
     "end_time": "2020-09-11T08:03:16.822833Z",
     "start_time": "2020-09-11T08:03:16.718419Z"
    }
   },
   "outputs": [],
   "source": [
    "X = all_countries[d_i_tweets.columns]\n",
    "y = all_countries[\"name\"]"
   ]
  },
  {
   "cell_type": "code",
   "execution_count": 46,
   "metadata": {
    "ExecuteTime": {
     "end_time": "2020-09-11T08:03:21.161327Z",
     "start_time": "2020-09-11T08:03:20.878787Z"
    }
   },
   "outputs": [],
   "source": [
    "X_train, X_test, y_train, y_test = train_test_split(X, y, test_size=0.2, random_state=0)"
   ]
  },
  {
   "cell_type": "code",
   "execution_count": 47,
   "metadata": {
    "ExecuteTime": {
     "end_time": "2020-09-11T08:03:21.229844Z",
     "start_time": "2020-09-11T08:03:21.225027Z"
    }
   },
   "outputs": [],
   "source": [
    "neigh = KNeighborsClassifier()\n",
    "k_grid = {'n_neighbors' : [2,5,10,20,30]}"
   ]
  },
  {
   "cell_type": "code",
   "execution_count": 48,
   "metadata": {
    "ExecuteTime": {
     "end_time": "2020-09-11T08:21:41.855588Z",
     "start_time": "2020-09-11T08:03:21.907053Z"
    }
   },
   "outputs": [
    {
     "name": "stderr",
     "output_type": "stream",
     "text": [
      "/home/conte/.pyenv/versions/3.7.7/envs/delphes/lib/python3.7/site-packages/sklearn/model_selection/_split.py:672: UserWarning: The least populated class in y has only 1 members, which is less than n_splits=5.\n",
      "  % (min_groups, self.n_splits)), UserWarning)\n"
     ]
    },
    {
     "data": {
      "text/plain": [
       "GridSearchCV(cv=5, estimator=KNeighborsClassifier(), n_jobs=-1,\n",
       "             param_grid={'n_neighbors': [2, 5, 10, 20, 30]},\n",
       "             scoring='accuracy')"
      ]
     },
     "execution_count": 48,
     "metadata": {},
     "output_type": "execute_result"
    }
   ],
   "source": [
    "grid_search = GridSearchCV(neigh, k_grid, n_jobs=-1, scoring = 'accuracy', cv = 5)\n",
    "grid_search.fit(X_train,y_train)"
   ]
  },
  {
   "cell_type": "code",
   "execution_count": 49,
   "metadata": {
    "ExecuteTime": {
     "end_time": "2020-09-11T08:25:16.085818Z",
     "start_time": "2020-09-11T08:21:41.884333Z"
    }
   },
   "outputs": [],
   "source": [
    "score = grid_search.score(X_test, y_test)"
   ]
  },
  {
   "cell_type": "code",
   "execution_count": 50,
   "metadata": {
    "ExecuteTime": {
     "end_time": "2020-09-11T08:25:16.106118Z",
     "start_time": "2020-09-11T08:25:16.092043Z"
    }
   },
   "outputs": [
    {
     "data": {
      "text/plain": [
       "0.10613003631333218"
      ]
     },
     "execution_count": 50,
     "metadata": {},
     "output_type": "execute_result"
    }
   ],
   "source": [
    "score"
   ]
  },
  {
   "cell_type": "code",
   "execution_count": null,
   "metadata": {
    "ExecuteTime": {
     "start_time": "2020-09-11T08:03:26.422Z"
    }
   },
   "outputs": [],
   "source": [
    "plot_confusion_matrix(grid_search,X_test, y_test)"
   ]
  },
  {
   "cell_type": "code",
   "execution_count": null,
   "metadata": {},
   "outputs": [],
   "source": []
  }
 ],
 "metadata": {
  "kernelspec": {
   "display_name": "Python 3",
   "language": "python",
   "name": "python3"
  },
  "language_info": {
   "codemirror_mode": {
    "name": "ipython",
    "version": 3
   },
   "file_extension": ".py",
   "mimetype": "text/x-python",
   "name": "python",
   "nbconvert_exporter": "python",
   "pygments_lexer": "ipython3",
   "version": "3.7.7"
  },
  "toc": {
   "base_numbering": 1,
   "nav_menu": {},
   "number_sections": true,
   "sideBar": true,
   "skip_h1_title": false,
   "title_cell": "Table of Contents",
   "title_sidebar": "Contents",
   "toc_cell": false,
   "toc_position": {},
   "toc_section_display": true,
   "toc_window_display": false
  }
 },
 "nbformat": 4,
 "nbformat_minor": 4
}
