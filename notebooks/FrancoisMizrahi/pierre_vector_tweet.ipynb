{
 "cells": [
  {
   "cell_type": "markdown",
   "metadata": {},
   "source": [
    "# Vectoring Tweets"
   ]
  },
  {
   "cell_type": "code",
   "execution_count": 19,
   "metadata": {
    "ExecuteTime": {
     "end_time": "2020-09-09T09:32:27.921461Z",
     "start_time": "2020-09-09T09:32:27.916956Z"
    }
   },
   "outputs": [],
   "source": [
    "import pandas as pd\n",
    "import numpy as np\n",
    "import io\n",
    "from googletrans import Translator, LANGUAGES\n",
    "from time import sleep\n",
    "import string"
   ]
  },
  {
   "cell_type": "markdown",
   "metadata": {},
   "source": [
    "## Embedding dict"
   ]
  },
  {
   "cell_type": "code",
   "execution_count": 20,
   "metadata": {
    "ExecuteTime": {
     "end_time": "2020-09-09T09:32:29.273337Z",
     "start_time": "2020-09-09T09:32:29.264478Z"
    }
   },
   "outputs": [],
   "source": [
    "def load_vec(emb_path, nmax=50000):\n",
    "    vectors = []\n",
    "    word2id = {}\n",
    "    with io.open(emb_path, 'r', encoding='utf-8', newline='\\n', errors='ignore') as f:\n",
    "        next(f)\n",
    "        for i, line in enumerate(f):\n",
    "            word, vect = line.rstrip().split(' ', 1)\n",
    "            vect = np.fromstring(vect, sep=' ')\n",
    "            assert word not in word2id, 'word found twice'\n",
    "            vectors.append(vect)\n",
    "            word2id[word] = len(word2id)\n",
    "            if len(word2id) == nmax:\n",
    "                break\n",
    "    id2word = {v: k for k, v in word2id.items()}\n",
    "    embeddings = np.vstack(vectors)\n",
    "    return embeddings, id2word, word2id"
   ]
  },
  {
   "cell_type": "markdown",
   "metadata": {},
   "source": [
    "**Select Languages**"
   ]
  },
  {
   "cell_type": "code",
   "execution_count": 21,
   "metadata": {
    "ExecuteTime": {
     "end_time": "2020-09-09T09:32:30.365477Z",
     "start_time": "2020-09-09T09:32:30.361439Z"
    }
   },
   "outputs": [],
   "source": [
    "languages = [\"english\", \"spanish\"]"
   ]
  },
  {
   "cell_type": "markdown",
   "metadata": {},
   "source": [
    "**Select path to languages embedding txt**"
   ]
  },
  {
   "cell_type": "code",
   "execution_count": 22,
   "metadata": {
    "ExecuteTime": {
     "end_time": "2020-09-09T09:33:04.221407Z",
     "start_time": "2020-09-09T09:32:31.389495Z"
    }
   },
   "outputs": [],
   "source": [
    "nmax = 100000  # maximum number of word embeddings to load\n",
    "emb_dict = {}\n",
    "for lang in languages:\n",
    "    path = f\"../../raw_data/vectors_{lang}.txt\" #Select here\n",
    "    embeddings, id2word, word2id = load_vec(path, nmax)\n",
    "    emb_dict[lang] = [embeddings, id2word, word2id]"
   ]
  },
  {
   "cell_type": "code",
   "execution_count": 23,
   "metadata": {
    "ExecuteTime": {
     "end_time": "2020-09-09T09:33:04.615278Z",
     "start_time": "2020-09-09T09:33:04.611807Z"
    }
   },
   "outputs": [],
   "source": [
    "def multilang_word_vector(word, emb_dict, lang=None):\n",
    "    translator = Translator()\n",
    "    if lang == None: lang = LANGUAGES[translator.detect(word).lang]\n",
    "    lang_val = LANGUAGES.values()\n",
    "    if lang in lang_val and lang in emb_dict.keys():\n",
    "        if word in emb_dict.get(lang)[2].keys():\n",
    "            return emb_dict[lang][0][emb_dict[lang][2][word]]\n",
    "    return False  "
   ]
  },
  {
   "cell_type": "code",
   "execution_count": 24,
   "metadata": {
    "ExecuteTime": {
     "end_time": "2020-09-09T09:33:05.004476Z",
     "start_time": "2020-09-09T09:33:05.001242Z"
    }
   },
   "outputs": [],
   "source": [
    "def vect_tweet(tweet):\n",
    "    translator = Translator()\n",
    "    if translator.detect(tweet).lang in LANGUAGES.keys():\n",
    "        lang = LANGUAGES[translator.detect(tweet).lang]\n",
    "        words = tweet.split(\" \")\n",
    "        res = []\n",
    "        for i in words:\n",
    "            res.append(multilang_word_vector(i, emb_dict, lang))\n",
    "        return res\n",
    "    return None"
   ]
  },
  {
   "cell_type": "markdown",
   "metadata": {},
   "source": [
    "**Select path to df**"
   ]
  },
  {
   "cell_type": "code",
   "execution_count": 25,
   "metadata": {
    "ExecuteTime": {
     "end_time": "2020-09-09T09:33:05.505298Z",
     "start_time": "2020-09-09T09:33:05.385546Z"
    }
   },
   "outputs": [],
   "source": [
    "df_full = pd.read_pickle(\"../../delphes/data/extended_tweet_df\")"
   ]
  },
  {
   "cell_type": "markdown",
   "metadata": {},
   "source": [
    "**Select countries including the first value**"
   ]
  },
  {
   "cell_type": "code",
   "execution_count": 26,
   "metadata": {
    "ExecuteTime": {
     "end_time": "2020-09-09T09:33:05.960910Z",
     "start_time": "2020-09-09T09:33:05.931021Z"
    }
   },
   "outputs": [],
   "source": [
    "df = pd.DataFrame()\n",
    "for i in [\"Spain\"]:\n",
    "    df = pd.concat([df, df_full[df_full[\"country\"] == i]])"
   ]
  },
  {
   "cell_type": "code",
   "execution_count": 27,
   "metadata": {},
   "outputs": [
    {
     "data": {
      "text/html": [
       "<div>\n",
       "<style scoped>\n",
       "    .dataframe tbody tr th:only-of-type {\n",
       "        vertical-align: middle;\n",
       "    }\n",
       "\n",
       "    .dataframe tbody tr th {\n",
       "        vertical-align: top;\n",
       "    }\n",
       "\n",
       "    .dataframe thead th {\n",
       "        text-align: right;\n",
       "    }\n",
       "</style>\n",
       "<table border=\"1\" class=\"dataframe\">\n",
       "  <thead>\n",
       "    <tr style=\"text-align: right;\">\n",
       "      <th></th>\n",
       "      <th>mep_id</th>\n",
       "      <th>name</th>\n",
       "      <th>country</th>\n",
       "      <th>group</th>\n",
       "      <th>nat_group</th>\n",
       "      <th>twitter</th>\n",
       "      <th>content</th>\n",
       "    </tr>\n",
       "  </thead>\n",
       "  <tbody>\n",
       "    <tr>\n",
       "      <th>836</th>\n",
       "      <td>125045</td>\n",
       "      <td>Clara AGUILERA</td>\n",
       "      <td>Spain</td>\n",
       "      <td>Group of the Progressive Alliance of Socialist...</td>\n",
       "      <td>Partido Socialista Obrero Español</td>\n",
       "      <td>ClaraAguilera7</td>\n",
       "      <td>Clara Aguilera: \"El criterio científico debe p...</td>\n",
       "    </tr>\n",
       "    <tr>\n",
       "      <th>837</th>\n",
       "      <td>125045</td>\n",
       "      <td>Clara AGUILERA</td>\n",
       "      <td>Spain</td>\n",
       "      <td>Group of the Progressive Alliance of Socialist...</td>\n",
       "      <td>Partido Socialista Obrero Español</td>\n",
       "      <td>ClaraAguilera7</td>\n",
       "      <td>🇪🇺🎊🎊🎊as @EUfoodforum we are super proud that o...</td>\n",
       "    </tr>\n",
       "    <tr>\n",
       "      <th>838</th>\n",
       "      <td>125045</td>\n",
       "      <td>Clara AGUILERA</td>\n",
       "      <td>Spain</td>\n",
       "      <td>Group of the Progressive Alliance of Socialist...</td>\n",
       "      <td>Partido Socialista Obrero Español</td>\n",
       "      <td>ClaraAguilera7</td>\n",
       "      <td>Clara Aguilera: \"El criterio científico debe p...</td>\n",
       "    </tr>\n",
       "    <tr>\n",
       "      <th>839</th>\n",
       "      <td>125045</td>\n",
       "      <td>Clara AGUILERA</td>\n",
       "      <td>Spain</td>\n",
       "      <td>Group of the Progressive Alliance of Socialist...</td>\n",
       "      <td>Partido Socialista Obrero Español</td>\n",
       "      <td>ClaraAguilera7</td>\n",
       "      <td>🗣️ @ClaraAguilera7: \"El criterio científico de...</td>\n",
       "    </tr>\n",
       "    <tr>\n",
       "      <th>840</th>\n",
       "      <td>125045</td>\n",
       "      <td>Clara AGUILERA</td>\n",
       "      <td>Spain</td>\n",
       "      <td>Group of the Progressive Alliance of Socialist...</td>\n",
       "      <td>Partido Socialista Obrero Español</td>\n",
       "      <td>ClaraAguilera7</td>\n",
       "      <td>Última hora: Bélgica sitúa a toda España en ro...</td>\n",
       "    </tr>\n",
       "    <tr>\n",
       "      <th>...</th>\n",
       "      <td>...</td>\n",
       "      <td>...</td>\n",
       "      <td>...</td>\n",
       "      <td>...</td>\n",
       "      <td>...</td>\n",
       "      <td>...</td>\n",
       "      <td>...</td>\n",
       "    </tr>\n",
       "    <tr>\n",
       "      <th>136395</th>\n",
       "      <td>197621</td>\n",
       "      <td>Juan Ignacio ZOIDO ÁLVAREZ</td>\n",
       "      <td>Spain</td>\n",
       "      <td>Group of the European People's Party (Christia...</td>\n",
       "      <td>Partido Popular</td>\n",
       "      <td>zoidoji</td>\n",
       "      <td>Un partido como Podemos que forma parte del Go...</td>\n",
       "    </tr>\n",
       "    <tr>\n",
       "      <th>136396</th>\n",
       "      <td>197621</td>\n",
       "      <td>Juan Ignacio ZOIDO ÁLVAREZ</td>\n",
       "      <td>Spain</td>\n",
       "      <td>Group of the European People's Party (Christia...</td>\n",
       "      <td>Partido Popular</td>\n",
       "      <td>zoidoji</td>\n",
       "      <td>Y ahora @IreneMontero insiste. Algunos parecen...</td>\n",
       "    </tr>\n",
       "    <tr>\n",
       "      <th>136397</th>\n",
       "      <td>197621</td>\n",
       "      <td>Juan Ignacio ZOIDO ÁLVAREZ</td>\n",
       "      <td>Spain</td>\n",
       "      <td>Group of the European People's Party (Christia...</td>\n",
       "      <td>Partido Popular</td>\n",
       "      <td>zoidoji</td>\n",
       "      <td>Hace 29 años ETA atentó contra la casa cuartel...</td>\n",
       "    </tr>\n",
       "    <tr>\n",
       "      <th>136398</th>\n",
       "      <td>197621</td>\n",
       "      <td>Juan Ignacio ZOIDO ÁLVAREZ</td>\n",
       "      <td>Spain</td>\n",
       "      <td>Group of the European People's Party (Christia...</td>\n",
       "      <td>Partido Popular</td>\n",
       "      <td>zoidoji</td>\n",
       "      <td>\"La excusa que se ha puesto y la decisión que ...</td>\n",
       "    </tr>\n",
       "    <tr>\n",
       "      <th>136399</th>\n",
       "      <td>197621</td>\n",
       "      <td>Juan Ignacio ZOIDO ÁLVAREZ</td>\n",
       "      <td>Spain</td>\n",
       "      <td>Group of the European People's Party (Christia...</td>\n",
       "      <td>Partido Popular</td>\n",
       "      <td>zoidoji</td>\n",
       "      <td>Necesarias y oportunas disculpas, ahora sólo f...</td>\n",
       "    </tr>\n",
       "  </tbody>\n",
       "</table>\n",
       "<p>14784 rows × 7 columns</p>\n",
       "</div>"
      ],
      "text/plain": [
       "        mep_id                        name country  \\\n",
       "836     125045              Clara AGUILERA   Spain   \n",
       "837     125045              Clara AGUILERA   Spain   \n",
       "838     125045              Clara AGUILERA   Spain   \n",
       "839     125045              Clara AGUILERA   Spain   \n",
       "840     125045              Clara AGUILERA   Spain   \n",
       "...        ...                         ...     ...   \n",
       "136395  197621  Juan Ignacio ZOIDO ÁLVAREZ   Spain   \n",
       "136396  197621  Juan Ignacio ZOIDO ÁLVAREZ   Spain   \n",
       "136397  197621  Juan Ignacio ZOIDO ÁLVAREZ   Spain   \n",
       "136398  197621  Juan Ignacio ZOIDO ÁLVAREZ   Spain   \n",
       "136399  197621  Juan Ignacio ZOIDO ÁLVAREZ   Spain   \n",
       "\n",
       "                                                    group  \\\n",
       "836     Group of the Progressive Alliance of Socialist...   \n",
       "837     Group of the Progressive Alliance of Socialist...   \n",
       "838     Group of the Progressive Alliance of Socialist...   \n",
       "839     Group of the Progressive Alliance of Socialist...   \n",
       "840     Group of the Progressive Alliance of Socialist...   \n",
       "...                                                   ...   \n",
       "136395  Group of the European People's Party (Christia...   \n",
       "136396  Group of the European People's Party (Christia...   \n",
       "136397  Group of the European People's Party (Christia...   \n",
       "136398  Group of the European People's Party (Christia...   \n",
       "136399  Group of the European People's Party (Christia...   \n",
       "\n",
       "                                nat_group         twitter  \\\n",
       "836     Partido Socialista Obrero Español  ClaraAguilera7   \n",
       "837     Partido Socialista Obrero Español  ClaraAguilera7   \n",
       "838     Partido Socialista Obrero Español  ClaraAguilera7   \n",
       "839     Partido Socialista Obrero Español  ClaraAguilera7   \n",
       "840     Partido Socialista Obrero Español  ClaraAguilera7   \n",
       "...                                   ...             ...   \n",
       "136395                    Partido Popular         zoidoji   \n",
       "136396                    Partido Popular         zoidoji   \n",
       "136397                    Partido Popular         zoidoji   \n",
       "136398                    Partido Popular         zoidoji   \n",
       "136399                    Partido Popular         zoidoji   \n",
       "\n",
       "                                                  content  \n",
       "836     Clara Aguilera: \"El criterio científico debe p...  \n",
       "837     🇪🇺🎊🎊🎊as @EUfoodforum we are super proud that o...  \n",
       "838     Clara Aguilera: \"El criterio científico debe p...  \n",
       "839     🗣️ @ClaraAguilera7: \"El criterio científico de...  \n",
       "840     Última hora: Bélgica sitúa a toda España en ro...  \n",
       "...                                                   ...  \n",
       "136395  Un partido como Podemos que forma parte del Go...  \n",
       "136396  Y ahora @IreneMontero insiste. Algunos parecen...  \n",
       "136397  Hace 29 años ETA atentó contra la casa cuartel...  \n",
       "136398  \"La excusa que se ha puesto y la decisión que ...  \n",
       "136399  Necesarias y oportunas disculpas, ahora sólo f...  \n",
       "\n",
       "[14784 rows x 7 columns]"
      ]
     },
     "execution_count": 27,
     "metadata": {},
     "output_type": "execute_result"
    }
   ],
   "source": [
    "df"
   ]
  },
  {
   "cell_type": "markdown",
   "metadata": {},
   "source": [
    "## Data clean"
   ]
  },
  {
   "cell_type": "code",
   "execution_count": 28,
   "metadata": {
    "ExecuteTime": {
     "end_time": "2020-09-09T09:33:06.381441Z",
     "start_time": "2020-09-09T09:33:06.378541Z"
    }
   },
   "outputs": [],
   "source": [
    "def rmurl_df(df, column_name):\n",
    "    '''\n",
    "    This function removes all the URLs, the #hashtag and the @user of a column made of strings.\n",
    "    Be careful to apply it BEFORE all the other preprocessing steps (if not it wont'\n",
    "    be recognized as a URL)\n",
    "    '''\n",
    "    df = df.copy()\n",
    "    df[column_name] = df[column_name].str.replace('http\\S+|www.\\S+|@\\S+|#\\S+', '', case=False)\n",
    "    return df"
   ]
  },
  {
   "cell_type": "code",
   "execution_count": 29,
   "metadata": {
    "ExecuteTime": {
     "end_time": "2020-09-09T09:33:06.797167Z",
     "start_time": "2020-09-09T09:33:06.794579Z"
    }
   },
   "outputs": [],
   "source": [
    "def lower_df(df, column_name):\n",
    "    '''\n",
    "    This function lowercases a column made of strings and return the dataframe.\n",
    "    '''\n",
    "    df = df.copy()\n",
    "    df[column_name] = df[column_name].str.lower()\n",
    "    return df"
   ]
  },
  {
   "cell_type": "code",
   "execution_count": 30,
   "metadata": {
    "ExecuteTime": {
     "end_time": "2020-09-09T09:33:07.207192Z",
     "start_time": "2020-09-09T09:33:07.203942Z"
    }
   },
   "outputs": [],
   "source": [
    "def rmnumbers_df(df, column_name):\n",
    "    '''\n",
    "    This function removes all the digits of a column made of strings.\n",
    "    '''\n",
    "    df = df.copy()\n",
    "    def remove_numbers(text):\n",
    "        return ''.join(word for word in text if not word.isdigit())\n",
    "    df[column_name] = df[column_name].apply(remove_numbers)\n",
    "    return df"
   ]
  },
  {
   "cell_type": "code",
   "execution_count": 31,
   "metadata": {
    "ExecuteTime": {
     "end_time": "2020-09-09T09:33:07.624174Z",
     "start_time": "2020-09-09T09:33:07.620682Z"
    }
   },
   "outputs": [],
   "source": [
    "def rmpunct_df(df, column_name):\n",
    "    '''\n",
    "    This function removes all the punctuations, all the \"rt\" and remove multiple spaces\n",
    "    of a column made of strings.\n",
    "    '''\n",
    "    punct = string.punctuation\n",
    "    df = df.copy()\n",
    "    def replace_punct(text):\n",
    "        for punctu in punct:\n",
    "            text = text.replace(punctu, ' ')\n",
    "            text = text.replace(' rt ','')\n",
    "            text = \" \".join(text.split())\n",
    "        return text\n",
    "    df[column_name] = df[column_name].apply(replace_punct)\n",
    "    return df"
   ]
  },
  {
   "cell_type": "code",
   "execution_count": 32,
   "metadata": {
    "ExecuteTime": {
     "end_time": "2020-09-09T09:33:08.035638Z",
     "start_time": "2020-09-09T09:33:08.032627Z"
    }
   },
   "outputs": [],
   "source": [
    "def rmemojis_df(df):\n",
    "    '''\n",
    "    This function removes all the emojis of a column made of strings.\n",
    "    Be careful to translate in latin alphabet before applying this function :\n",
    "    it also removes cyrillic alphabet.\n",
    "    '''\n",
    "    df = df.copy()\n",
    "    df = df.astype(str).apply(lambda x: x.str.encode('ascii', 'ignore').str.decode('ascii'))\n",
    "    return df"
   ]
  },
  {
   "cell_type": "code",
   "execution_count": 33,
   "metadata": {
    "ExecuteTime": {
     "end_time": "2020-09-09T09:33:10.865791Z",
     "start_time": "2020-09-09T09:33:08.451979Z"
    }
   },
   "outputs": [],
   "source": [
    "nw_df = rmurl_df(df, \"content\")\n",
    "nw_df = lower_df(nw_df, \"content\")\n",
    "nw_df = rmnumbers_df(nw_df, \"content\")\n",
    "nw_df = rmpunct_df(nw_df, \"content\")\n",
    "nw_df = rmemojis_df(nw_df)"
   ]
  },
  {
   "cell_type": "markdown",
   "metadata": {},
   "source": [
    "## Vector"
   ]
  },
  {
   "cell_type": "code",
   "execution_count": 34,
   "metadata": {},
   "outputs": [
    {
     "data": {
      "text/html": [
       "<div>\n",
       "<style scoped>\n",
       "    .dataframe tbody tr th:only-of-type {\n",
       "        vertical-align: middle;\n",
       "    }\n",
       "\n",
       "    .dataframe tbody tr th {\n",
       "        vertical-align: top;\n",
       "    }\n",
       "\n",
       "    .dataframe thead th {\n",
       "        text-align: right;\n",
       "    }\n",
       "</style>\n",
       "<table border=\"1\" class=\"dataframe\">\n",
       "  <thead>\n",
       "    <tr style=\"text-align: right;\">\n",
       "      <th></th>\n",
       "      <th>mep_id</th>\n",
       "      <th>name</th>\n",
       "      <th>country</th>\n",
       "      <th>group</th>\n",
       "      <th>nat_group</th>\n",
       "      <th>twitter</th>\n",
       "      <th>content</th>\n",
       "    </tr>\n",
       "  </thead>\n",
       "  <tbody>\n",
       "    <tr>\n",
       "      <th>836</th>\n",
       "      <td>125045</td>\n",
       "      <td>Clara AGUILERA</td>\n",
       "      <td>Spain</td>\n",
       "      <td>Group of the Progressive Alliance of Socialist...</td>\n",
       "      <td>Partido Socialista Obrero Espaol</td>\n",
       "      <td>ClaraAguilera7</td>\n",
       "      <td>clara aguilera el criterio cientfico debe prev...</td>\n",
       "    </tr>\n",
       "    <tr>\n",
       "      <th>837</th>\n",
       "      <td>125045</td>\n",
       "      <td>Clara AGUILERA</td>\n",
       "      <td>Spain</td>\n",
       "      <td>Group of the Progressive Alliance of Socialist...</td>\n",
       "      <td>Partido Socialista Obrero Espaol</td>\n",
       "      <td>ClaraAguilera7</td>\n",
       "      <td>as we are super proud that our member mep is n...</td>\n",
       "    </tr>\n",
       "    <tr>\n",
       "      <th>838</th>\n",
       "      <td>125045</td>\n",
       "      <td>Clara AGUILERA</td>\n",
       "      <td>Spain</td>\n",
       "      <td>Group of the Progressive Alliance of Socialist...</td>\n",
       "      <td>Partido Socialista Obrero Espaol</td>\n",
       "      <td>ClaraAguilera7</td>\n",
       "      <td>clara aguilera el criterio cientfico debe prev...</td>\n",
       "    </tr>\n",
       "    <tr>\n",
       "      <th>839</th>\n",
       "      <td>125045</td>\n",
       "      <td>Clara AGUILERA</td>\n",
       "      <td>Spain</td>\n",
       "      <td>Group of the Progressive Alliance of Socialist...</td>\n",
       "      <td>Partido Socialista Obrero Espaol</td>\n",
       "      <td>ClaraAguilera7</td>\n",
       "      <td>el criterio cientfico debe prevalecer ante la...</td>\n",
       "    </tr>\n",
       "    <tr>\n",
       "      <th>840</th>\n",
       "      <td>125045</td>\n",
       "      <td>Clara AGUILERA</td>\n",
       "      <td>Spain</td>\n",
       "      <td>Group of the Progressive Alliance of Socialist...</td>\n",
       "      <td>Partido Socialista Obrero Espaol</td>\n",
       "      <td>ClaraAguilera7</td>\n",
       "      <td>ltima hora blgica sita a toda espaa en rojo sa...</td>\n",
       "    </tr>\n",
       "    <tr>\n",
       "      <th>...</th>\n",
       "      <td>...</td>\n",
       "      <td>...</td>\n",
       "      <td>...</td>\n",
       "      <td>...</td>\n",
       "      <td>...</td>\n",
       "      <td>...</td>\n",
       "      <td>...</td>\n",
       "    </tr>\n",
       "    <tr>\n",
       "      <th>136395</th>\n",
       "      <td>197621</td>\n",
       "      <td>Juan Ignacio ZOIDO LVAREZ</td>\n",
       "      <td>Spain</td>\n",
       "      <td>Group of the European People's Party (Christia...</td>\n",
       "      <td>Partido Popular</td>\n",
       "      <td>zoidoji</td>\n",
       "      <td>un partido como podemos que forma parte del go...</td>\n",
       "    </tr>\n",
       "    <tr>\n",
       "      <th>136396</th>\n",
       "      <td>197621</td>\n",
       "      <td>Juan Ignacio ZOIDO LVAREZ</td>\n",
       "      <td>Spain</td>\n",
       "      <td>Group of the European People's Party (Christia...</td>\n",
       "      <td>Partido Popular</td>\n",
       "      <td>zoidoji</td>\n",
       "      <td>y ahora insiste algunos parecen empeados en us...</td>\n",
       "    </tr>\n",
       "    <tr>\n",
       "      <th>136397</th>\n",
       "      <td>197621</td>\n",
       "      <td>Juan Ignacio ZOIDO LVAREZ</td>\n",
       "      <td>Spain</td>\n",
       "      <td>Group of the European People's Party (Christia...</td>\n",
       "      <td>Partido Popular</td>\n",
       "      <td>zoidoji</td>\n",
       "      <td>hace aos eta atent contra la casa cuartel de d...</td>\n",
       "    </tr>\n",
       "    <tr>\n",
       "      <th>136398</th>\n",
       "      <td>197621</td>\n",
       "      <td>Juan Ignacio ZOIDO LVAREZ</td>\n",
       "      <td>Spain</td>\n",
       "      <td>Group of the European People's Party (Christia...</td>\n",
       "      <td>Partido Popular</td>\n",
       "      <td>zoidoji</td>\n",
       "      <td>la excusa que se ha puesto y la decisin que se...</td>\n",
       "    </tr>\n",
       "    <tr>\n",
       "      <th>136399</th>\n",
       "      <td>197621</td>\n",
       "      <td>Juan Ignacio ZOIDO LVAREZ</td>\n",
       "      <td>Spain</td>\n",
       "      <td>Group of the European People's Party (Christia...</td>\n",
       "      <td>Partido Popular</td>\n",
       "      <td>zoidoji</td>\n",
       "      <td>necesarias y oportunas disculpas ahora slo fal...</td>\n",
       "    </tr>\n",
       "  </tbody>\n",
       "</table>\n",
       "<p>14784 rows × 7 columns</p>\n",
       "</div>"
      ],
      "text/plain": [
       "        mep_id                       name country  \\\n",
       "836     125045             Clara AGUILERA   Spain   \n",
       "837     125045             Clara AGUILERA   Spain   \n",
       "838     125045             Clara AGUILERA   Spain   \n",
       "839     125045             Clara AGUILERA   Spain   \n",
       "840     125045             Clara AGUILERA   Spain   \n",
       "...        ...                        ...     ...   \n",
       "136395  197621  Juan Ignacio ZOIDO LVAREZ   Spain   \n",
       "136396  197621  Juan Ignacio ZOIDO LVAREZ   Spain   \n",
       "136397  197621  Juan Ignacio ZOIDO LVAREZ   Spain   \n",
       "136398  197621  Juan Ignacio ZOIDO LVAREZ   Spain   \n",
       "136399  197621  Juan Ignacio ZOIDO LVAREZ   Spain   \n",
       "\n",
       "                                                    group  \\\n",
       "836     Group of the Progressive Alliance of Socialist...   \n",
       "837     Group of the Progressive Alliance of Socialist...   \n",
       "838     Group of the Progressive Alliance of Socialist...   \n",
       "839     Group of the Progressive Alliance of Socialist...   \n",
       "840     Group of the Progressive Alliance of Socialist...   \n",
       "...                                                   ...   \n",
       "136395  Group of the European People's Party (Christia...   \n",
       "136396  Group of the European People's Party (Christia...   \n",
       "136397  Group of the European People's Party (Christia...   \n",
       "136398  Group of the European People's Party (Christia...   \n",
       "136399  Group of the European People's Party (Christia...   \n",
       "\n",
       "                               nat_group         twitter  \\\n",
       "836     Partido Socialista Obrero Espaol  ClaraAguilera7   \n",
       "837     Partido Socialista Obrero Espaol  ClaraAguilera7   \n",
       "838     Partido Socialista Obrero Espaol  ClaraAguilera7   \n",
       "839     Partido Socialista Obrero Espaol  ClaraAguilera7   \n",
       "840     Partido Socialista Obrero Espaol  ClaraAguilera7   \n",
       "...                                  ...             ...   \n",
       "136395                   Partido Popular         zoidoji   \n",
       "136396                   Partido Popular         zoidoji   \n",
       "136397                   Partido Popular         zoidoji   \n",
       "136398                   Partido Popular         zoidoji   \n",
       "136399                   Partido Popular         zoidoji   \n",
       "\n",
       "                                                  content  \n",
       "836     clara aguilera el criterio cientfico debe prev...  \n",
       "837     as we are super proud that our member mep is n...  \n",
       "838     clara aguilera el criterio cientfico debe prev...  \n",
       "839      el criterio cientfico debe prevalecer ante la...  \n",
       "840     ltima hora blgica sita a toda espaa en rojo sa...  \n",
       "...                                                   ...  \n",
       "136395  un partido como podemos que forma parte del go...  \n",
       "136396  y ahora insiste algunos parecen empeados en us...  \n",
       "136397  hace aos eta atent contra la casa cuartel de d...  \n",
       "136398  la excusa que se ha puesto y la decisin que se...  \n",
       "136399  necesarias y oportunas disculpas ahora slo fal...  \n",
       "\n",
       "[14784 rows x 7 columns]"
      ]
     },
     "execution_count": 34,
     "metadata": {},
     "output_type": "execute_result"
    }
   ],
   "source": [
    "nw_df"
   ]
  },
  {
   "cell_type": "code",
   "execution_count": null,
   "metadata": {
    "ExecuteTime": {
     "end_time": "2020-09-09T09:36:06.313666Z",
     "start_time": "2020-09-09T09:36:03.397022Z"
    }
   },
   "outputs": [],
   "source": [
    "vecs = nw_df.content.map(vect_tweet)"
   ]
  },
  {
   "cell_type": "code",
   "execution_count": 26,
   "metadata": {
    "ExecuteTime": {
     "end_time": "2020-09-09T09:37:48.360426Z",
     "start_time": "2020-09-09T09:37:48.220672Z"
    }
   },
   "outputs": [],
   "source": [
    "vecs = pd.DataFrame(vecs).reset_index()"
   ]
  },
  {
   "cell_type": "code",
   "execution_count": 27,
   "metadata": {},
   "outputs": [
    {
     "data": {
      "text/html": [
       "<div>\n",
       "<style scoped>\n",
       "    .dataframe tbody tr th:only-of-type {\n",
       "        vertical-align: middle;\n",
       "    }\n",
       "\n",
       "    .dataframe tbody tr th {\n",
       "        vertical-align: top;\n",
       "    }\n",
       "\n",
       "    .dataframe thead th {\n",
       "        text-align: right;\n",
       "    }\n",
       "</style>\n",
       "<table border=\"1\" class=\"dataframe\">\n",
       "  <thead>\n",
       "    <tr style=\"text-align: right;\">\n",
       "      <th></th>\n",
       "      <th>index</th>\n",
       "      <th>content</th>\n",
       "    </tr>\n",
       "  </thead>\n",
       "  <tbody>\n",
       "    <tr>\n",
       "      <th>0</th>\n",
       "      <td>20738</td>\n",
       "      <td>[False, False, [-0.0564866, 0.0520961, -0.0289...</td>\n",
       "    </tr>\n",
       "    <tr>\n",
       "      <th>1</th>\n",
       "      <td>20739</td>\n",
       "      <td>[False, [0.0680034, -0.0906367, -0.0319666, 0....</td>\n",
       "    </tr>\n",
       "    <tr>\n",
       "      <th>2</th>\n",
       "      <td>20740</td>\n",
       "      <td>[False, False, False, False, False, False, Fal...</td>\n",
       "    </tr>\n",
       "    <tr>\n",
       "      <th>3</th>\n",
       "      <td>20741</td>\n",
       "      <td>[[-0.0393396, 0.0268131, -0.142318, 0.0613933,...</td>\n",
       "    </tr>\n",
       "    <tr>\n",
       "      <th>4</th>\n",
       "      <td>20742</td>\n",
       "      <td>[[-0.0393396, 0.0268131, -0.142318, 0.0613933,...</td>\n",
       "    </tr>\n",
       "    <tr>\n",
       "      <th>...</th>\n",
       "      <td>...</td>\n",
       "      <td>...</td>\n",
       "    </tr>\n",
       "    <tr>\n",
       "      <th>7795</th>\n",
       "      <td>130490</td>\n",
       "      <td>[[0.0109718, -0.0593663, -0.0322032, 0.0416514...</td>\n",
       "    </tr>\n",
       "    <tr>\n",
       "      <th>7796</th>\n",
       "      <td>130491</td>\n",
       "      <td>[[0.0186351, -0.0140546, -0.0420493, -0.067852...</td>\n",
       "    </tr>\n",
       "    <tr>\n",
       "      <th>7797</th>\n",
       "      <td>130492</td>\n",
       "      <td>[[0.0489321, -0.0598671, -0.0264063, -0.014537...</td>\n",
       "    </tr>\n",
       "    <tr>\n",
       "      <th>7798</th>\n",
       "      <td>130493</td>\n",
       "      <td>[[-0.133483, 0.0550787, -0.0270976, 0.00313864...</td>\n",
       "    </tr>\n",
       "    <tr>\n",
       "      <th>7799</th>\n",
       "      <td>130494</td>\n",
       "      <td>[[0.00139549, -0.0896719, -0.0270524, 0.020236...</td>\n",
       "    </tr>\n",
       "  </tbody>\n",
       "</table>\n",
       "<p>7800 rows × 2 columns</p>\n",
       "</div>"
      ],
      "text/plain": [
       "       index                                            content\n",
       "0      20738  [False, False, [-0.0564866, 0.0520961, -0.0289...\n",
       "1      20739  [False, [0.0680034, -0.0906367, -0.0319666, 0....\n",
       "2      20740  [False, False, False, False, False, False, Fal...\n",
       "3      20741  [[-0.0393396, 0.0268131, -0.142318, 0.0613933,...\n",
       "4      20742  [[-0.0393396, 0.0268131, -0.142318, 0.0613933,...\n",
       "...      ...                                                ...\n",
       "7795  130490  [[0.0109718, -0.0593663, -0.0322032, 0.0416514...\n",
       "7796  130491  [[0.0186351, -0.0140546, -0.0420493, -0.067852...\n",
       "7797  130492  [[0.0489321, -0.0598671, -0.0264063, -0.014537...\n",
       "7798  130493  [[-0.133483, 0.0550787, -0.0270976, 0.00313864...\n",
       "7799  130494  [[0.00139549, -0.0896719, -0.0270524, 0.020236...\n",
       "\n",
       "[7800 rows x 2 columns]"
      ]
     },
     "execution_count": 27,
     "metadata": {},
     "output_type": "execute_result"
    }
   ],
   "source": [
    "vecs"
   ]
  },
  {
   "cell_type": "code",
   "execution_count": 28,
   "metadata": {},
   "outputs": [],
   "source": [
    "vecs.to_pickle('merger2')"
   ]
  },
  {
   "cell_type": "code",
   "execution_count": null,
   "metadata": {},
   "outputs": [],
   "source": []
  }
 ],
 "metadata": {
  "kernelspec": {
   "display_name": "Python 3",
   "language": "python",
   "name": "python3"
  },
  "language_info": {
   "codemirror_mode": {
    "name": "ipython",
    "version": 3
   },
   "file_extension": ".py",
   "mimetype": "text/x-python",
   "name": "python",
   "nbconvert_exporter": "python",
   "pygments_lexer": "ipython3",
   "version": "3.7.7"
  },
  "toc": {
   "base_numbering": 1,
   "nav_menu": {},
   "number_sections": true,
   "sideBar": true,
   "skip_h1_title": false,
   "title_cell": "Table of Contents",
   "title_sidebar": "Contents",
   "toc_cell": false,
   "toc_position": {},
   "toc_section_display": true,
   "toc_window_display": false
  },
  "varInspector": {
   "cols": {
    "lenName": 16,
    "lenType": 16,
    "lenVar": 40
   },
   "kernels_config": {
    "python": {
     "delete_cmd_postfix": "",
     "delete_cmd_prefix": "del ",
     "library": "var_list.py",
     "varRefreshCmd": "print(var_dic_list())"
    },
    "r": {
     "delete_cmd_postfix": ") ",
     "delete_cmd_prefix": "rm(",
     "library": "var_list.r",
     "varRefreshCmd": "cat(var_dic_list()) "
    }
   },
   "types_to_exclude": [
    "module",
    "function",
    "builtin_function_or_method",
    "instance",
    "_Feature"
   ],
   "window_display": false
  }
 },
 "nbformat": 4,
 "nbformat_minor": 4
}
