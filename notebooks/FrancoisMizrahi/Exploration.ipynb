{
 "cells": [
  {
   "cell_type": "code",
   "execution_count": 2,
   "metadata": {
    "ExecuteTime": {
     "end_time": "2020-09-10T15:07:48.797771Z",
     "start_time": "2020-09-10T15:07:48.423732Z"
    }
   },
   "outputs": [],
   "source": [
    "import pandas as pd"
   ]
  },
  {
   "cell_type": "code",
   "execution_count": 3,
   "metadata": {
    "ExecuteTime": {
     "end_time": "2020-09-10T15:07:50.444233Z",
     "start_time": "2020-09-10T15:07:49.592331Z"
    }
   },
   "outputs": [],
   "source": [
    "all_countries = pd.read_hdf('../../raw_data/full_mean_df_hdf.h5', 'h5')"
   ]
  },
  {
   "cell_type": "code",
   "execution_count": 16,
   "metadata": {
    "ExecuteTime": {
     "end_time": "2020-09-10T15:09:38.522460Z",
     "start_time": "2020-09-10T15:09:38.262787Z"
    }
   },
   "outputs": [],
   "source": [
    "all_countries.dropna(inplace=True)"
   ]
  },
  {
   "cell_type": "code",
   "execution_count": 25,
   "metadata": {
    "ExecuteTime": {
     "end_time": "2020-09-10T15:26:25.353818Z",
     "start_time": "2020-09-10T15:25:43.134661Z"
    }
   },
   "outputs": [],
   "source": [
    "all_countries.drop([\"mep_id\", \"name\", \"country\", \"group\", \"nat_group\", \"twitter\", \"content\", \"lang\"], axis=1).to_csv(\"all_countries_tensor_data.tsv\", sep=\"\\t\", index=False, header=False)\n",
    "\n",
    "all_countries[[\"mep_id\", \"name\", \"country\", \"group\", \"nat_group\", \"twitter\", \"content\", \"lang\"]].to_csv(\"all_countries_tensor_labels.tsv\",sep=\"\\t\", index=False, header=True)\n",
    "\n"
   ]
  },
  {
   "cell_type": "code",
   "execution_count": 27,
   "metadata": {
    "ExecuteTime": {
     "end_time": "2020-09-10T15:28:18.563904Z",
     "start_time": "2020-09-10T15:28:18.541544Z"
    }
   },
   "outputs": [
    {
     "data": {
      "text/html": [
       "<div>\n",
       "<style scoped>\n",
       "    .dataframe tbody tr th:only-of-type {\n",
       "        vertical-align: middle;\n",
       "    }\n",
       "\n",
       "    .dataframe tbody tr th {\n",
       "        vertical-align: top;\n",
       "    }\n",
       "\n",
       "    .dataframe thead th {\n",
       "        text-align: right;\n",
       "    }\n",
       "</style>\n",
       "<table border=\"1\" class=\"dataframe\">\n",
       "  <thead>\n",
       "    <tr style=\"text-align: right;\">\n",
       "      <th></th>\n",
       "      <th>mep_id</th>\n",
       "      <th>name</th>\n",
       "      <th>country</th>\n",
       "      <th>group</th>\n",
       "      <th>nat_group</th>\n",
       "      <th>twitter</th>\n",
       "      <th>content</th>\n",
       "      <th>lang</th>\n",
       "    </tr>\n",
       "  </thead>\n",
       "  <tbody>\n",
       "    <tr>\n",
       "      <th>0</th>\n",
       "      <td>197490</td>\n",
       "      <td>Magdalena ADAMOWICZ</td>\n",
       "      <td>Poland</td>\n",
       "      <td>Group of the European People's Party (Christia...</td>\n",
       "      <td>Independent</td>\n",
       "      <td>Adamowicz_Magda</td>\n",
       "      <td>bardzo dziękuję niezależne od władzy wolne med...</td>\n",
       "      <td>polish</td>\n",
       "    </tr>\n",
       "    <tr>\n",
       "      <th>1</th>\n",
       "      <td>197490</td>\n",
       "      <td>Magdalena ADAMOWICZ</td>\n",
       "      <td>Poland</td>\n",
       "      <td>Group of the European People's Party (Christia...</td>\n",
       "      <td>Independent</td>\n",
       "      <td>Adamowicz_Magda</td>\n",
       "      <td>komisja przyjęła arcyważne projekty pilotażowe...</td>\n",
       "      <td>polish</td>\n",
       "    </tr>\n",
       "    <tr>\n",
       "      <th>2</th>\n",
       "      <td>197490</td>\n",
       "      <td>Magdalena ADAMOWICZ</td>\n",
       "      <td>Poland</td>\n",
       "      <td>Group of the European People's Party (Christia...</td>\n",
       "      <td>Independent</td>\n",
       "      <td>Adamowicz_Magda</td>\n",
       "      <td>komisja przyjęła projekty pilotażowe mojego ws...</td>\n",
       "      <td>polish</td>\n",
       "    </tr>\n",
       "    <tr>\n",
       "      <th>3</th>\n",
       "      <td>197490</td>\n",
       "      <td>Magdalena ADAMOWICZ</td>\n",
       "      <td>Poland</td>\n",
       "      <td>Group of the European People's Party (Christia...</td>\n",
       "      <td>Independent</td>\n",
       "      <td>Adamowicz_Magda</td>\n",
       "      <td>w tym dniu w tym miejscu w tej godzinie proszę...</td>\n",
       "      <td>polish</td>\n",
       "    </tr>\n",
       "    <tr>\n",
       "      <th>4</th>\n",
       "      <td>197490</td>\n",
       "      <td>Magdalena ADAMOWICZ</td>\n",
       "      <td>Poland</td>\n",
       "      <td>Group of the European People's Party (Christia...</td>\n",
       "      <td>Independent</td>\n",
       "      <td>Adamowicz_Magda</td>\n",
       "      <td>bóg nie potrzebuje być przez nikogo broniony i...</td>\n",
       "      <td>polish</td>\n",
       "    </tr>\n",
       "    <tr>\n",
       "      <th>...</th>\n",
       "      <td>...</td>\n",
       "      <td>...</td>\n",
       "      <td>...</td>\n",
       "      <td>...</td>\n",
       "      <td>...</td>\n",
       "      <td>...</td>\n",
       "      <td>...</td>\n",
       "      <td>...</td>\n",
       "    </tr>\n",
       "    <tr>\n",
       "      <th>137295</th>\n",
       "      <td>197652</td>\n",
       "      <td>Angelika WINZIG</td>\n",
       "      <td>Austria</td>\n",
       "      <td>Group of the European People's Party (Christia...</td>\n",
       "      <td>Österreichische Volkspartei</td>\n",
       "      <td>AngelikaWinzig</td>\n",
       "      <td>italiens budgetpolitik gefährdet nicht nur ita...</td>\n",
       "      <td>german</td>\n",
       "    </tr>\n",
       "    <tr>\n",
       "      <th>137296</th>\n",
       "      <td>197652</td>\n",
       "      <td>Angelika WINZIG</td>\n",
       "      <td>Austria</td>\n",
       "      <td>Group of the European People's Party (Christia...</td>\n",
       "      <td>Österreichische Volkspartei</td>\n",
       "      <td>AngelikaWinzig</td>\n",
       "      <td>danke martin für die organisation des eu somme...</td>\n",
       "      <td>german</td>\n",
       "    </tr>\n",
       "    <tr>\n",
       "      <th>137297</th>\n",
       "      <td>197652</td>\n",
       "      <td>Angelika WINZIG</td>\n",
       "      <td>Austria</td>\n",
       "      <td>Group of the European People's Party (Christia...</td>\n",
       "      <td>Österreichische Volkspartei</td>\n",
       "      <td>AngelikaWinzig</td>\n",
       "      <td>tadition amp moderne top betriebe netzwerktref...</td>\n",
       "      <td>german</td>\n",
       "    </tr>\n",
       "    <tr>\n",
       "      <th>137298</th>\n",
       "      <td>197652</td>\n",
       "      <td>Angelika WINZIG</td>\n",
       "      <td>Austria</td>\n",
       "      <td>Group of the European People's Party (Christia...</td>\n",
       "      <td>Österreichische Volkspartei</td>\n",
       "      <td>AngelikaWinzig</td>\n",
       "      <td>hier mein statement zur budgetrede von finanzm...</td>\n",
       "      <td>german</td>\n",
       "    </tr>\n",
       "    <tr>\n",
       "      <th>137299</th>\n",
       "      <td>197652</td>\n",
       "      <td>Angelika WINZIG</td>\n",
       "      <td>Austria</td>\n",
       "      <td>Group of the European People's Party (Christia...</td>\n",
       "      <td>Österreichische Volkspartei</td>\n",
       "      <td>AngelikaWinzig</td>\n",
       "      <td>morgen ist der große tag der budgetrede unsere...</td>\n",
       "      <td>german</td>\n",
       "    </tr>\n",
       "  </tbody>\n",
       "</table>\n",
       "<p>115656 rows × 8 columns</p>\n",
       "</div>"
      ],
      "text/plain": [
       "        mep_id                 name  country  \\\n",
       "0       197490  Magdalena ADAMOWICZ   Poland   \n",
       "1       197490  Magdalena ADAMOWICZ   Poland   \n",
       "2       197490  Magdalena ADAMOWICZ   Poland   \n",
       "3       197490  Magdalena ADAMOWICZ   Poland   \n",
       "4       197490  Magdalena ADAMOWICZ   Poland   \n",
       "...        ...                  ...      ...   \n",
       "137295  197652      Angelika WINZIG  Austria   \n",
       "137296  197652      Angelika WINZIG  Austria   \n",
       "137297  197652      Angelika WINZIG  Austria   \n",
       "137298  197652      Angelika WINZIG  Austria   \n",
       "137299  197652      Angelika WINZIG  Austria   \n",
       "\n",
       "                                                    group  \\\n",
       "0       Group of the European People's Party (Christia...   \n",
       "1       Group of the European People's Party (Christia...   \n",
       "2       Group of the European People's Party (Christia...   \n",
       "3       Group of the European People's Party (Christia...   \n",
       "4       Group of the European People's Party (Christia...   \n",
       "...                                                   ...   \n",
       "137295  Group of the European People's Party (Christia...   \n",
       "137296  Group of the European People's Party (Christia...   \n",
       "137297  Group of the European People's Party (Christia...   \n",
       "137298  Group of the European People's Party (Christia...   \n",
       "137299  Group of the European People's Party (Christia...   \n",
       "\n",
       "                          nat_group          twitter  \\\n",
       "0                       Independent  Adamowicz_Magda   \n",
       "1                       Independent  Adamowicz_Magda   \n",
       "2                       Independent  Adamowicz_Magda   \n",
       "3                       Independent  Adamowicz_Magda   \n",
       "4                       Independent  Adamowicz_Magda   \n",
       "...                             ...              ...   \n",
       "137295  Österreichische Volkspartei   AngelikaWinzig   \n",
       "137296  Österreichische Volkspartei   AngelikaWinzig   \n",
       "137297  Österreichische Volkspartei   AngelikaWinzig   \n",
       "137298  Österreichische Volkspartei   AngelikaWinzig   \n",
       "137299  Österreichische Volkspartei   AngelikaWinzig   \n",
       "\n",
       "                                                  content    lang  \n",
       "0       bardzo dziękuję niezależne od władzy wolne med...  polish  \n",
       "1       komisja przyjęła arcyważne projekty pilotażowe...  polish  \n",
       "2       komisja przyjęła projekty pilotażowe mojego ws...  polish  \n",
       "3       w tym dniu w tym miejscu w tej godzinie proszę...  polish  \n",
       "4       bóg nie potrzebuje być przez nikogo broniony i...  polish  \n",
       "...                                                   ...     ...  \n",
       "137295  italiens budgetpolitik gefährdet nicht nur ita...  german  \n",
       "137296  danke martin für die organisation des eu somme...  german  \n",
       "137297  tadition amp moderne top betriebe netzwerktref...  german  \n",
       "137298  hier mein statement zur budgetrede von finanzm...  german  \n",
       "137299  morgen ist der große tag der budgetrede unsere...  german  \n",
       "\n",
       "[115656 rows x 8 columns]"
      ]
     },
     "execution_count": 27,
     "metadata": {},
     "output_type": "execute_result"
    }
   ],
   "source": [
    "all_countries[[\"mep_id\", \"name\", \"country\", \"group\", \"nat_group\", \"twitter\", \"content\", \"lang\"]]"
   ]
  },
  {
   "cell_type": "code",
   "execution_count": null,
   "metadata": {},
   "outputs": [],
   "source": []
  }
 ],
 "metadata": {
  "kernelspec": {
   "display_name": "Python 3",
   "language": "python",
   "name": "python3"
  },
  "language_info": {
   "codemirror_mode": {
    "name": "ipython",
    "version": 3
   },
   "file_extension": ".py",
   "mimetype": "text/x-python",
   "name": "python",
   "nbconvert_exporter": "python",
   "pygments_lexer": "ipython3",
   "version": "3.7.7"
  },
  "toc": {
   "base_numbering": 1,
   "nav_menu": {},
   "number_sections": true,
   "sideBar": true,
   "skip_h1_title": false,
   "title_cell": "Table of Contents",
   "title_sidebar": "Contents",
   "toc_cell": false,
   "toc_position": {},
   "toc_section_display": true,
   "toc_window_display": false
  },
  "varInspector": {
   "cols": {
    "lenName": 16,
    "lenType": 16,
    "lenVar": 40
   },
   "kernels_config": {
    "python": {
     "delete_cmd_postfix": "",
     "delete_cmd_prefix": "del ",
     "library": "var_list.py",
     "varRefreshCmd": "print(var_dic_list())"
    },
    "r": {
     "delete_cmd_postfix": ") ",
     "delete_cmd_prefix": "rm(",
     "library": "var_list.r",
     "varRefreshCmd": "cat(var_dic_list()) "
    }
   },
   "types_to_exclude": [
    "module",
    "function",
    "builtin_function_or_method",
    "instance",
    "_Feature"
   ],
   "window_display": false
  }
 },
 "nbformat": 4,
 "nbformat_minor": 4
}
